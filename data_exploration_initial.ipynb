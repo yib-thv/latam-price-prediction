{
  "nbformat": 4,
  "nbformat_minor": 0,
  "metadata": {
    "colab": {
      "provenance": [],
      "toc_visible": true
    },
    "kernelspec": {
      "name": "python3",
      "display_name": "Python 3"
    },
    "language_info": {
      "name": "python"
    }
  },
  "cells": [
    {
      "cell_type": "markdown",
      "source": [
        "# **0. UNION DE LOS DATASET**"
      ],
      "metadata": {
        "id": "uSMIwMKfwOE3"
      }
    },
    {
      "cell_type": "code",
      "source": [
        "!python --version"
      ],
      "metadata": {
        "colab": {
          "base_uri": "https://localhost:8080/"
        },
        "id": "xjsLj9HyUzGd",
        "outputId": "53634713-18f6-4134-d695-dde42045cf45"
      },
      "execution_count": null,
      "outputs": [
        {
          "output_type": "stream",
          "name": "stdout",
          "text": [
            "Python 3.10.12\n"
          ]
        }
      ]
    },
    {
      "cell_type": "code",
      "source": [
        "!lscpu"
      ],
      "metadata": {
        "colab": {
          "base_uri": "https://localhost:8080/"
        },
        "id": "HWJsya35favd",
        "outputId": "74d1c5d3-3908-46b9-b182-4022d380cd50"
      },
      "execution_count": null,
      "outputs": [
        {
          "output_type": "stream",
          "name": "stdout",
          "text": [
            "Architecture:             x86_64\n",
            "  CPU op-mode(s):         32-bit, 64-bit\n",
            "  Address sizes:          46 bits physical, 48 bits virtual\n",
            "  Byte Order:             Little Endian\n",
            "CPU(s):                   2\n",
            "  On-line CPU(s) list:    0,1\n",
            "Vendor ID:                GenuineIntel\n",
            "  Model name:             Intel(R) Xeon(R) CPU @ 2.20GHz\n",
            "    CPU family:           6\n",
            "    Model:                79\n",
            "    Thread(s) per core:   2\n",
            "    Core(s) per socket:   1\n",
            "    Socket(s):            1\n",
            "    Stepping:             0\n",
            "    BogoMIPS:             4400.32\n",
            "    Flags:                fpu vme de pse tsc msr pae mce cx8 apic sep mtrr pge mca cmov pat pse36 cl\n",
            "                          flush mmx fxsr sse sse2 ss ht syscall nx pdpe1gb rdtscp lm constant_tsc re\n",
            "                          p_good nopl xtopology nonstop_tsc cpuid tsc_known_freq pni pclmulqdq ssse3\n",
            "                           fma cx16 pcid sse4_1 sse4_2 x2apic movbe popcnt aes xsave avx f16c rdrand\n",
            "                           hypervisor lahf_lm abm 3dnowprefetch invpcid_single ssbd ibrs ibpb stibp \n",
            "                          fsgsbase tsc_adjust bmi1 hle avx2 smep bmi2 erms invpcid rtm rdseed adx sm\n",
            "                          ap xsaveopt arat md_clear arch_capabilities\n",
            "Virtualization features:  \n",
            "  Hypervisor vendor:      KVM\n",
            "  Virtualization type:    full\n",
            "Caches (sum of all):      \n",
            "  L1d:                    32 KiB (1 instance)\n",
            "  L1i:                    32 KiB (1 instance)\n",
            "  L2:                     256 KiB (1 instance)\n",
            "  L3:                     55 MiB (1 instance)\n",
            "NUMA:                     \n",
            "  NUMA node(s):           1\n",
            "  NUMA node0 CPU(s):      0,1\n",
            "Vulnerabilities:          \n",
            "  Gather data sampling:   Not affected\n",
            "  Itlb multihit:          Not affected\n",
            "  L1tf:                   Mitigation; PTE Inversion\n",
            "  Mds:                    Vulnerable; SMT Host state unknown\n",
            "  Meltdown:               Vulnerable\n",
            "  Mmio stale data:        Vulnerable\n",
            "  Reg file data sampling: Not affected\n",
            "  Retbleed:               Vulnerable\n",
            "  Spec rstack overflow:   Not affected\n",
            "  Spec store bypass:      Vulnerable\n",
            "  Spectre v1:             Vulnerable: __user pointer sanitization and usercopy barriers only; no swa\n",
            "                          pgs barriers\n",
            "  Spectre v2:             Vulnerable; IBPB: disabled; STIBP: disabled; PBRSB-eIBRS: Not affected; BH\n",
            "                          I: Vulnerable (Syscall hardening enabled)\n",
            "  Srbds:                  Not affected\n",
            "  Tsx async abort:        Vulnerable\n"
          ]
        }
      ]
    },
    {
      "cell_type": "code",
      "source": [
        "!unzip -qq DATASET_PROV.zip"
      ],
      "metadata": {
        "id": "YhiUgEVDuqHH"
      },
      "execution_count": null,
      "outputs": []
    },
    {
      "source": [
        "import pandas as pd\n",
        "import glob\n",
        "import os\n",
        "\n",
        "# Ruta donde se encuentran todos los archivos CSV\n",
        "ruta_archivos = '/content/DATASET_PROV/'  # Actualiza esto con la ruta correcta, asegúrate de incluir '/' al final\n",
        "\n",
        "# Buscar todos los archivos CSV en la carpeta, usando os.path.join para construir la ruta\n",
        "archivos_csv = glob.glob(os.path.join(ruta_archivos, 'flights_data*.csv'))\n",
        "\n",
        "# Imprimir la lista de archivos encontrados para verificar\n",
        "print(f\"Archivos encontrados: {archivos_csv}\")\n",
        "\n",
        "# Leer y concatenar todos los archivos CSV\n",
        "df_combinado = pd.concat([pd.read_csv(archivo) for archivo in archivos_csv], ignore_index=True)\n",
        "\n",
        "# Guardar el archivo combinado en un nuevo CSV\n",
        "df_combinado.to_csv('flights_data_prov.csv', index=False)\n",
        "\n",
        "print(\"Los datasets han sido combinados exitosamente.\")"
      ],
      "cell_type": "code",
      "metadata": {
        "colab": {
          "base_uri": "https://localhost:8080/"
        },
        "id": "ELUQMLhTvNJH",
        "outputId": "6c8393ea-7e73-4645-9235-21e8ef7afe15"
      },
      "execution_count": null,
      "outputs": [
        {
          "output_type": "stream",
          "name": "stdout",
          "text": [
            "Archivos encontrados: ['/content/DATASET_PROV/flights_data9.csv', '/content/DATASET_PROV/flights_data12.csv', '/content/DATASET_PROV/flights_data8.csv', '/content/DATASET_PROV/flights_data6.csv', '/content/DATASET_PROV/flights_data4.csv', '/content/DATASET_PROV/flights_data1.csv', '/content/DATASET_PROV/flights_data.csv', '/content/DATASET_PROV/flights_data13.csv', '/content/DATASET_PROV/flights_data11.csv', '/content/DATASET_PROV/flights_data7.csv', '/content/DATASET_PROV/flights_data14.csv', '/content/DATASET_PROV/flights_data10.csv', '/content/DATASET_PROV/flights_data2.csv', '/content/DATASET_PROV/flights_data3.csv', '/content/DATASET_PROV/flights_data5.csv']\n",
            "Los datasets han sido combinados exitosamente.\n"
          ]
        }
      ]
    },
    {
      "cell_type": "markdown",
      "source": [
        "# **1. ANALISIS DE LAS VARIABLES**"
      ],
      "metadata": {
        "id": "nZp_EI2SwUc8"
      }
    },
    {
      "cell_type": "markdown",
      "source": [
        "## IMPORTACION DE LIBRERIAS NECESARIAS"
      ],
      "metadata": {
        "id": "xeB-cqHkyccf"
      }
    },
    {
      "cell_type": "code",
      "source": [
        "import numpy as np\n",
        "import pandas as pd\n",
        "import matplotlib.pyplot as plt\n",
        "import seaborn as sns\n",
        "\n",
        "from sklearn.model_selection import train_test_split, GridSearchCV\n",
        "from sklearn.metrics import mean_absolute_error, r2_score\n",
        "from sklearn.linear_model import LinearRegression\n",
        "from sklearn.tree import DecisionTreeRegressor\n",
        "from sklearn.ensemble import RandomForestRegressor\n",
        "from xgboost import XGBRegressor\n",
        "from sklearn.preprocessing import LabelEncoder\n",
        "\n",
        "import warnings\n",
        "warnings.filterwarnings(\"ignore\")"
      ],
      "metadata": {
        "id": "chz_s0VNyd9N"
      },
      "execution_count": null,
      "outputs": []
    },
    {
      "cell_type": "markdown",
      "source": [
        "## OBTENCIÓN DEL DATASET"
      ],
      "metadata": {
        "id": "lJHyMWtGygq1"
      }
    },
    {
      "cell_type": "code",
      "source": [
        "# Ruta correcta del archivo después de subirlo a Colab\n",
        "dataset_path = 'flights_data_prov.csv'\n",
        "\n",
        "# Cargar el dataset en un DataFrame de pandas\n",
        "df = pd.read_csv(dataset_path)\n",
        "\n",
        "# Mostrar las primeras filas para verificar\n",
        "print(df.head())"
      ],
      "metadata": {
        "colab": {
          "base_uri": "https://localhost:8080/"
        },
        "id": "DGMwZUHIyi7d",
        "outputId": "92ed6169-34c6-4115-fee8-855601471d86"
      },
      "execution_count": null,
      "outputs": [
        {
          "output_type": "stream",
          "name": "stdout",
          "text": [
            "  Origen Hora de Salida Hora de Llegada Destino  Duración Tarifa  \\\n",
            "0    AQP          17:15           18:40     LIM  1h 25min  46,15   \n",
            "1    AQP           9:40           11:10     LIM  1h 30min  46,15   \n",
            "2    AQP          10:30           12:00     LIM  1h 30min  46,15   \n",
            "3    AQP          10:50           12:20     LIM  1h 30min  46,15   \n",
            "4    AQP          11:55           13:25     LIM  1h 30min  46,15   \n",
            "\n",
            "           Operado por Directo Fecha de Salida    Fecha de Consulta  \n",
            "0  latam airlines perú      Sí      dom, 02/03  2024-10-29 18:01:24  \n",
            "1  latam airlines perú      Sí      dom, 02/03  2024-10-29 18:01:24  \n",
            "2  latam airlines perú      Sí      dom, 02/03  2024-10-29 18:01:24  \n",
            "3  latam airlines perú      Sí      dom, 02/03  2024-10-29 18:01:24  \n",
            "4  latam airlines perú      Sí      dom, 02/03  2024-10-29 18:01:24  \n"
          ]
        }
      ]
    },
    {
      "cell_type": "markdown",
      "source": [
        "## DESCRIPCIÓN DE LOS DATOS"
      ],
      "metadata": {
        "id": "ASGKzruZytgZ"
      }
    },
    {
      "cell_type": "markdown",
      "source": [
        "Estos datos permiten un análisis de las tarifas, duración de los vuelos, y horarios de operación entre las ciudades de Arequipa y Lima, así como identificar patrones en los vuelos ofrecidos."
      ],
      "metadata": {
        "id": "4-h8sQPHzC6H"
      }
    },
    {
      "cell_type": "markdown",
      "source": [
        "**>Origen:** Código del aeropuerto de salida (en este caso, todos los vuelos salen de AQP, que representa Arequipa).\n",
        "\n",
        "**>Hora de Salida:** Hora en la que está programado el despegue del vuelo.\n",
        "\n",
        "**>Hora de Llegada:** Hora de llegada programada en el aeropuerto de destino.\n",
        "\n",
        "**>Destino**: Código del aeropuerto de destino (en este caso, LIM, que representa Lima).\n",
        "\n",
        "**>Duración:** Tiempo total estimado del vuelo.\n",
        "\n",
        "**>Tarifa:** Precio del boleto en la moneda especificada.\n",
        "\n",
        "**>Operado por:** Nombre de la aerolínea que opera el vuelo (en este caso, \"Latam Airlines Perú\").\n",
        "\n",
        "**>Directo:** Indica si el vuelo es directo o si tiene escalas (en este caso, todos los vuelos son directos).\n",
        "\n",
        "**>Fecha de Salida:** Fecha de partida del vuelo, en formato de día de la semana y fecha.\n",
        "\n",
        "**>Fecha de Consulta:** Fecha y hora en que se realizó la consulta de los datos del vuelo."
      ],
      "metadata": {
        "id": "cc-2-BoYzGjs"
      }
    },
    {
      "cell_type": "code",
      "source": [
        "#Tipos de Datos\n",
        "print(df.dtypes)"
      ],
      "metadata": {
        "colab": {
          "base_uri": "https://localhost:8080/"
        },
        "id": "mmzv6oCVYY2P",
        "outputId": "265cc5ed-6d1d-40b4-ae10-8fb6ffaf47d6"
      },
      "execution_count": null,
      "outputs": [
        {
          "output_type": "stream",
          "name": "stdout",
          "text": [
            "Origen               object\n",
            "Hora de Salida       object\n",
            "Hora de Llegada      object\n",
            "Destino              object\n",
            "Duración             object\n",
            "Tarifa               object\n",
            "Operado por          object\n",
            "Directo              object\n",
            "Fecha de Salida      object\n",
            "Fecha de Consulta    object\n",
            "dtype: object\n"
          ]
        }
      ]
    },
    {
      "cell_type": "code",
      "source": [
        "# Mostrar información básica del DataFrame\n",
        "df.info()"
      ],
      "metadata": {
        "colab": {
          "base_uri": "https://localhost:8080/"
        },
        "id": "-TG-_awbze1R",
        "outputId": "6de8ff32-24d5-4972-87d1-66405fff9789"
      },
      "execution_count": null,
      "outputs": [
        {
          "output_type": "stream",
          "name": "stdout",
          "text": [
            "<class 'pandas.core.frame.DataFrame'>\n",
            "RangeIndex: 83383 entries, 0 to 83382\n",
            "Data columns (total 10 columns):\n",
            " #   Column             Non-Null Count  Dtype \n",
            "---  ------             --------------  ----- \n",
            " 0   Origen             83382 non-null  object\n",
            " 1   Hora de Salida     83382 non-null  object\n",
            " 2   Hora de Llegada    83382 non-null  object\n",
            " 3   Destino            83382 non-null  object\n",
            " 4   Duración           83382 non-null  object\n",
            " 5   Tarifa             83382 non-null  object\n",
            " 6   Operado por        83382 non-null  object\n",
            " 7   Directo            83382 non-null  object\n",
            " 8   Fecha de Salida    83382 non-null  object\n",
            " 9   Fecha de Consulta  83382 non-null  object\n",
            "dtypes: object(10)\n",
            "memory usage: 6.4+ MB\n"
          ]
        }
      ]
    },
    {
      "cell_type": "code",
      "source": [
        "print(\"Numero de columnas:\", df.shape[1])\n",
        "print(\"Numero de filas:\", df.shape[0])"
      ],
      "metadata": {
        "colab": {
          "base_uri": "https://localhost:8080/"
        },
        "id": "UDIslSlkzhbN",
        "outputId": "e4970921-4ef1-4590-ce03-4a1ffc9d7a08"
      },
      "execution_count": null,
      "outputs": [
        {
          "output_type": "stream",
          "name": "stdout",
          "text": [
            "Numero de columnas: 10\n",
            "Numero de filas: 83383\n"
          ]
        }
      ]
    },
    {
      "cell_type": "markdown",
      "source": [
        "**Estadísticas descriptivas**"
      ],
      "metadata": {
        "id": "3ddzZX68Eb-w"
      }
    },
    {
      "cell_type": "code",
      "source": [
        "# Estadísticas descriptivas para las tarifas y duración\n",
        "print(\"Estadísticas descriptivas de tarifas y duración:\")\n",
        "print(df[['Tarifa', 'Duración']].describe())\n"
      ],
      "metadata": {
        "colab": {
          "base_uri": "https://localhost:8080/"
        },
        "id": "M5pFIsceEIZm",
        "outputId": "623be780-d786-4b9b-baff-c302cf8b5df8"
      },
      "execution_count": null,
      "outputs": [
        {
          "output_type": "stream",
          "name": "stdout",
          "text": [
            "Estadísticas descriptivas de tarifas y duración:\n",
            "       Tarifa  Duración\n",
            "count   83382     83382\n",
            "unique    753       170\n",
            "top     82,73  1h 30min\n",
            "freq     5364      4563\n"
          ]
        }
      ]
    },
    {
      "cell_type": "markdown",
      "source": [
        "count = 83382: Hay 83,382 registros de tarifas en el dataset, lo que indica que se tiene una buena cantidad de datos.\n",
        "\n",
        "unique = 753: Existen 753 tarifas únicas, lo que sugiere que la aerolínea ofrece una variedad de precios.\n",
        "\n",
        "top = 82,73: La tarifa más frecuente es 82,73, lo que indica que esta es la tarifa más común en los vuelos analizados.\n",
        "\n",
        "freq = 5364: Esta tarifa de 82,73 aparece 5,364 veces en el conjunto de datos, lo que refuerza su predominancia."
      ],
      "metadata": {
        "id": "EExQ-VisE1LS"
      }
    },
    {
      "cell_type": "markdown",
      "source": [
        "**Distribución de horarios de salida**"
      ],
      "metadata": {
        "id": "MrbU3cwMElnQ"
      }
    },
    {
      "cell_type": "code",
      "source": [
        "# Convertir la columna 'Hora de Salida' a tipo datetime\n",
        "df['Hora de Salida'] = pd.to_datetime(df['Hora de Salida'], format='%H:%M', errors='coerce')\n",
        "# Visualización de horarios de salida\n",
        "plt.figure(figsize=(12, 6))\n",
        "sns.histplot(df['Hora de Salida'].dt.hour, bins=10, kde=False, color='blue')\n",
        "plt.title('Distribución de Horarios de Salida')\n",
        "plt.xlabel('Hora')\n",
        "plt.ylabel('Frecuencia')\n",
        "plt.grid()\n",
        "plt.show()\n"
      ],
      "metadata": {
        "colab": {
          "base_uri": "https://localhost:8080/",
          "height": 564
        },
        "id": "eRj84I_CEn0P",
        "outputId": "76358b2f-328e-47ac-ae1e-13935d898a7f"
      },
      "execution_count": null,
      "outputs": [
        {
          "output_type": "display_data",
          "data": {
            "text/plain": [
              "<Figure size 1200x600 with 1 Axes>"
            ],
            "image/png": "[encoded data removed]"
          },
          "metadata": {}
        }
      ]
    },
    {
      "cell_type": "markdown",
      "source": [
        "El histograma muestra que los vuelos se concentran en dos franjas horarias:\n",
        "\n",
        "Mañana: Entre las 6:00 y 9:00 AM, con mayor actividad.\n",
        "\n",
        "Tarde: Entre las 5:00 y 6:00 PM.\n",
        "Estas horas son estratégicas, probablemente para facilitar la conexión de vuelos o atender la demanda en horarios laborales y de ocio."
      ],
      "metadata": {
        "id": "DROpC6qlGf4J"
      }
    },
    {
      "cell_type": "markdown",
      "source": [
        "**Proporción de vuelos directos**"
      ],
      "metadata": {
        "id": "eHrCGUigFyHR"
      }
    },
    {
      "cell_type": "code",
      "source": [
        "# Proporción de vuelos directos\n",
        "directos = df['Directo'].value_counts(normalize=True) * 100\n",
        "plt.figure(figsize=(8, 6))\n",
        "directos.plot.pie(autopct='%1.1f%%', labels=['Sí', 'No'], colors=['#66b3ff', '#99ff99'])\n",
        "plt.title('Proporción de Vuelos Directos')\n",
        "plt.ylabel('')\n",
        "plt.show()\n"
      ],
      "metadata": {
        "colab": {
          "base_uri": "https://localhost:8080/",
          "height": 521
        },
        "id": "uUg2K0Y1FxmP",
        "outputId": "a1367a4c-506b-4f6c-be4b-7bce681fda43"
      },
      "execution_count": null,
      "outputs": [
        {
          "output_type": "display_data",
          "data": {
            "text/plain": [
              "<Figure size 800x600 with 1 Axes>"
            ],
            "image/png": "[encoded data removed]"
          },
          "metadata": {}
        }
      ]
    },
    {
      "cell_type": "markdown",
      "source": [
        "El gráfico circular muestra que el 89.9% de los vuelos son directos.\n",
        "\n",
        "Esto es conveniente para los pasajeros, ya que no tienen que preocuparse por escalas o cambios de avión.\n"
      ],
      "metadata": {
        "id": "S6UpnD6aHmWu"
      }
    },
    {
      "cell_type": "markdown",
      "source": [
        "**Análisis de la columna \"Origen\"**"
      ],
      "metadata": {
        "id": "zJjRv7skQpit"
      }
    },
    {
      "cell_type": "code",
      "source": [
        "# Análisis de la columna 'Origen'\n",
        "origen_count = df['Origen'].value_counts()\n",
        "\n",
        "# Visualización de la distribución de los orígenes\n",
        "plt.figure(figsize=(10, 6))\n",
        "sns.countplot(data=df, x='Origen', order=origen_count.index, palette='viridis')\n",
        "plt.title('Distribución de Orígenes de los Vuelos')\n",
        "plt.xlabel('Origen')\n",
        "plt.ylabel('Número de Vuelos')\n",
        "plt.xticks(rotation=45)\n",
        "plt.grid()\n",
        "plt.show()\n",
        "\n",
        "# Mostrar los primeros valores de la frecuencia\n",
        "print(origen_count)\n"
      ],
      "metadata": {
        "colab": {
          "base_uri": "https://localhost:8080/",
          "height": 911
        },
        "id": "TuSPrORBQuJU",
        "outputId": "dd79b80b-93c9-4ef7-b41a-19c74bce4f25"
      },
      "execution_count": null,
      "outputs": [
        {
          "output_type": "display_data",
          "data": {
            "text/plain": [
              "<Figure size 1000x600 with 1 Axes>"
            ],
            "image/png": "[encoded data removed]"
          },
          "metadata": {}
        },
        {
          "output_type": "stream",
          "name": "stdout",
          "text": [
            "Origen\n",
            "AQP    32514\n",
            "CUZ    11753\n",
            "CIX     4848\n",
            "PIU     4601\n",
            "TRU     3772\n",
            "IQT     3726\n",
            "JUL     3684\n",
            "CJA     3254\n",
            "LIM     2569\n",
            "AYP     2316\n",
            "TCQ     1937\n",
            "TYL     1585\n",
            "TPP     1570\n",
            "PCL     1517\n",
            "JAU     1312\n",
            "ATA     1230\n",
            "TBP     1194\n",
            "Name: count, dtype: int64\n"
          ]
        }
      ]
    },
    {
      "cell_type": "markdown",
      "source": [
        "AQP (Arequipa) es el origen más frecuente con 32,514 vuelos, lo que sugiere que tiene una alta demanda de vuelos.\n",
        "\n",
        "CUZ (Cusco), con 11,753 vuelos, también tiene una gran demanda, posiblemente por su atractivo turístico.\n",
        "\n",
        "CIX (Chiclayo) y PIU (Piura) tienen cantidades moderadas de vuelos (4,848 y 4,601 respectivamente), lo que refleja una demanda considerable en el norte del Perú.\n",
        "\n",
        "TRU (Trujillo) y IQT (Iquitos), con 3,772 y 3,726 vuelos, muestran una demanda significativa, impulsada por su relevancia comercial y turística.\n",
        "\n",
        "JUL (Juliaca) y CJA (Cajamarca), con 3,684 y 3,254 vuelos, tienen una demanda moderada, especialmente por su importancia cultural y económica.\n",
        "\n",
        "LIM (Lima), aunque la capital, muestra una cifra relativamente baja de 2,569 vuelos, ya que la mayoría de los vuelos desde otras ciudades tienen a Lima como destino.\n",
        "\n",
        "Otras ciudades como AYP (Ayacucho), TCQ (Tarapoto), TYL (Talara), TPP (Tumbes), PCL (Pucallpa), JAU (Jaén) y ATA (Arequipa) muestran una menor cantidad de vuelos, reflejando una demanda más limitada, en su mayoría asociada a necesidades locales o de nicho."
      ],
      "metadata": {
        "id": "uC-VvR-wRcDv"
      }
    },
    {
      "cell_type": "markdown",
      "source": [
        "**Análisis de la columna \"Destino\"**"
      ],
      "metadata": {
        "id": "c0h66WnuQ3e_"
      }
    },
    {
      "cell_type": "code",
      "source": [
        "# Análisis de la columna 'Destino'\n",
        "destino_count = df['Destino'].value_counts()\n",
        "\n",
        "# Visualización de la distribución de los destinos\n",
        "plt.figure(figsize=(10, 6))\n",
        "sns.countplot(data=df, x='Destino', order=destino_count.index, palette='coolwarm')\n",
        "plt.title('Distribución de Destinos de los Vuelos')\n",
        "plt.xlabel('Destino')\n",
        "plt.ylabel('Número de Vuelos')\n",
        "plt.xticks(rotation=45)\n",
        "plt.grid()\n",
        "plt.show()\n",
        "\n",
        "# Mostrar los primeros valores de la frecuencia\n",
        "print(destino_count)\n"
      ],
      "metadata": {
        "colab": {
          "base_uri": "https://localhost:8080/",
          "height": 911
        },
        "id": "E3Z6cUo3Q53J",
        "outputId": "19efb059-1e7f-4d1c-86e3-89829a9f5187"
      },
      "execution_count": null,
      "outputs": [
        {
          "output_type": "display_data",
          "data": {
            "text/plain": [
              "<Figure size 1000x600 with 1 Axes>"
            ],
            "image/png": "[encoded data removed]"
          },
          "metadata": {}
        },
        {
          "output_type": "stream",
          "name": "stdout",
          "text": [
            "Destino\n",
            "CUZ    24032\n",
            "LIM    10242\n",
            "AQP     9233\n",
            "TRU     4853\n",
            "PIU     4609\n",
            "CIX     4449\n",
            "IQT     4415\n",
            "TPP     3724\n",
            "CJA     3179\n",
            "JUL     3075\n",
            "TCQ     2727\n",
            "PCL     1873\n",
            "JAU     1825\n",
            "TYL     1714\n",
            "TBP     1602\n",
            "AYP     1176\n",
            "ATA      654\n",
            "Name: count, dtype: int64\n"
          ]
        }
      ]
    },
    {
      "cell_type": "markdown",
      "source": [
        "CUZ (Cusco) es el destino más frecuente con 24,032 vuelos, lo que refleja su importancia como uno de los destinos turísticos más populares del Perú, especialmente por su cercanía a Machu Picchu.\n",
        "\n",
        "LIM (Lima), como capital y centro comercial y económico del país, es el segundo destino más frecuente con 10,242 vuelos, indicando que Lima es un hub central de conexiones nacionales.\n",
        "\n",
        "AQP (Arequipa), con 9,233 vuelos, también es un destino importante, especialmente por su turismo y relevancia económica en el sur del país.\n",
        "\n",
        "TRU (Trujillo) y PIU (Piura), con 4,853 y 4,609 vuelos, son destinos importantes en el norte del país, reflejando su crecimiento económico y atractivo turístico.\n",
        "\n",
        "CIX (Chiclayo) y IQT (Iquitos), con 4,449 y 4,415 vuelos, son destinos de interés, impulsados por el turismo y la economía local, especialmente Iquitos por su cercanía a la Amazonía.\n",
        "\n",
        "TPP (Tumbes), CJA (Cajamarca) y JUL (Juliaca), con 3,724, 3,179 y 3,075 vuelos, tienen una demanda moderada, asociada a sus características geográficas, comerciales o turísticas.\n",
        "\n",
        "TCQ (Tarapoto) y PCL (Pucallpa), con 2,727 y 1,873 vuelos, muestran una demanda más limitada, probablemente debido a su menor visibilidad turística o desarrollo comercial.\n",
        "\n",
        "JAU (Jaén), TYL (Talara) y TBP (Tumbes) tienen menos vuelos, con 1,825, 1,714 y 1,602 respectivamente, lo que refleja una demanda más específica o reducida.\n",
        "\n",
        "AYP (Ayacucho) y ATA (Arequipa), con 1,176 y 654 vuelos, tienen una demanda bastante baja, lo que podría estar asociado a su menor perfil turístico o económico."
      ],
      "metadata": {
        "id": "CYSVwaSeRmcD"
      }
    },
    {
      "cell_type": "markdown",
      "source": [
        "**Análisis de la columna \"Directo\"**"
      ],
      "metadata": {
        "id": "ls1jvZVxRGuc"
      }
    },
    {
      "cell_type": "code",
      "source": [
        "# Análisis de la columna 'Directo'\n",
        "directo_count = df['Directo'].value_counts()\n",
        "\n",
        "# Visualización de la distribución de vuelos directos y con escala\n",
        "plt.figure(figsize=(6, 6))\n",
        "sns.countplot(data=df, x='Directo', order=directo_count.index, palette='pastel')\n",
        "plt.title('Distribución de Vuelos Directos vs Con Escala')\n",
        "plt.xlabel('Vuelo Directo')\n",
        "plt.ylabel('Número de Vuelos')\n",
        "plt.xticks(rotation=0)\n",
        "plt.grid()\n",
        "plt.show()\n",
        "\n",
        "# Mostrar los primeros valores de la frecuencia\n",
        "print(directo_count)\n"
      ],
      "metadata": {
        "colab": {
          "base_uri": "https://localhost:8080/",
          "height": 633
        },
        "id": "-c5TzrD-REed",
        "outputId": "934f2db8-c0f5-4f2c-ce6c-7c0cf9b10e9b"
      },
      "execution_count": null,
      "outputs": [
        {
          "output_type": "display_data",
          "data": {
            "text/plain": [
              "<Figure size 600x600 with 1 Axes>"
            ],
            "image/png": "[encoded data removed]"
          },
          "metadata": {}
        },
        {
          "output_type": "stream",
          "name": "stdout",
          "text": [
            "Directo\n",
            "No    74955\n",
            "Sí     8427\n",
            "Name: count, dtype: int64\n"
          ]
        }
      ]
    },
    {
      "cell_type": "markdown",
      "source": [
        "No (74955 vuelos): La gran mayoría de los vuelos en el dataset no son directos, con 74,955 vuelos, lo que indica que la mayoría de los viajes entre las ciudades requieren escalas o conexiones en otros aeropuertos.\n",
        "\n",
        "Sí (8427 vuelos): Solo 8,427 vuelos son directos, lo que representa una proporción más pequeña (alrededor del 10%) del total de vuelos."
      ],
      "metadata": {
        "id": "mxiAzATIRy09"
      }
    },
    {
      "cell_type": "markdown",
      "source": [
        "# **2. PREPROCESAMIENTO DEL DATASET**"
      ],
      "metadata": {
        "id": "d5FEkW5fwaZA"
      }
    },
    {
      "cell_type": "code",
      "source": [
        "df.duplicated().sum()  # Verifica filas duplicadas en el DataFrame 'df' y cuenta el total"
      ],
      "metadata": {
        "id": "ExtfQ3vZweKK",
        "colab": {
          "base_uri": "https://localhost:8080/"
        },
        "outputId": "c37c53ce-8dc6-427d-c4bf-06a4a1ff49c5"
      },
      "execution_count": null,
      "outputs": [
        {
          "output_type": "execute_result",
          "data": {
            "text/plain": [
              "1903"
            ]
          },
          "metadata": {},
          "execution_count": 9
        }
      ]
    },
    {
      "cell_type": "code",
      "source": [
        "# Elimina duplicados en todas las columnas y mantiene solo la primera aparición\n",
        "df = df.drop_duplicates()"
      ],
      "metadata": {
        "id": "msURv8Dywqxs"
      },
      "execution_count": null,
      "outputs": []
    },
    {
      "cell_type": "code",
      "source": [
        "df.duplicated().sum()  # Verifica filas duplicadas en el DataFrame 'df' y cuenta el total"
      ],
      "metadata": {
        "colab": {
          "base_uri": "https://localhost:8080/"
        },
        "id": "8sLn4yvb0DFv",
        "outputId": "b77ca9b0-197f-43bf-b513-5616ebe9d60c"
      },
      "execution_count": null,
      "outputs": [
        {
          "output_type": "execute_result",
          "data": {
            "text/plain": [
              "0"
            ]
          },
          "metadata": {},
          "execution_count": 11
        }
      ]
    },
    {
      "cell_type": "code",
      "source": [
        "df.describe()  # Genera un resumen estadístico de las columnas numéricas en el DataFrame 'df'"
      ],
      "metadata": {
        "colab": {
          "base_uri": "https://localhost:8080/",
          "height": 175
        },
        "id": "gWBMAK2l0Fe2",
        "outputId": "03345cc5-71f5-4f72-848f-c3f720ece020"
      },
      "execution_count": null,
      "outputs": [
        {
          "output_type": "execute_result",
          "data": {
            "text/plain": [
              "       Origen Hora de Salida Hora de Llegada Destino  Duración Tarifa  \\\n",
              "count   81479          81479           81479   81479     81479  81479   \n",
              "unique     17            129             164      17       170    753   \n",
              "top       AQP           9:40           20:50     CUZ  1h 30min  82,73   \n",
              "freq    31036           4106            3822   24032      4563   5364   \n",
              "\n",
              "                Operado por Directo Fecha de Salida    Fecha de Consulta  \n",
              "count                 81479   81479           81479                81479  \n",
              "unique                    1       2               1                11059  \n",
              "top     latam airlines perú      No      dom, 02/03  2024-11-05 18:07:29  \n",
              "freq                  81479   73052           81479                   24  "
            ],
            "text/html": [
              "\n",
              "  <div id=\"df-aa5c3aca-0ca7-4f17-855f-05d396bc5610\" class=\"colab-df-container\">\n",
              "    <div>\n",
              "<style scoped>\n",
              "    .dataframe tbody tr th:only-of-type {\n",
              "        vertical-align: middle;\n",
              "    }\n",
              "\n",
              "    .dataframe tbody tr th {\n",
              "        vertical-align: top;\n",
              "    }\n",
              "\n",
              "    .dataframe thead th {\n",
              "        text-align: right;\n",
              "    }\n",
              "</style>\n",
              "<table border=\"1\" class=\"dataframe\">\n",
              "  <thead>\n",
              "    <tr style=\"text-align: right;\">\n",
              "      <th></th>\n",
              "      <th>Origen</th>\n",
              "      <th>Hora de Salida</th>\n",
              "      <th>Hora de Llegada</th>\n",
              "      <th>Destino</th>\n",
              "      <th>Duración</th>\n",
              "      <th>Tarifa</th>\n",
              "      <th>Operado por</th>\n",
              "      <th>Directo</th>\n",
              "      <th>Fecha de Salida</th>\n",
              "      <th>Fecha de Consulta</th>\n",
              "    </tr>\n",
              "  </thead>\n",
              "  <tbody>\n",
              "    <tr>\n",
              "      <th>count</th>\n",
              "      <td>81479</td>\n",
              "      <td>81479</td>\n",
              "      <td>81479</td>\n",
              "      <td>81479</td>\n",
              "      <td>81479</td>\n",
              "      <td>81479</td>\n",
              "      <td>81479</td>\n",
              "      <td>81479</td>\n",
              "      <td>81479</td>\n",
              "      <td>81479</td>\n",
              "    </tr>\n",
              "    <tr>\n",
              "      <th>unique</th>\n",
              "      <td>17</td>\n",
              "      <td>129</td>\n",
              "      <td>164</td>\n",
              "      <td>17</td>\n",
              "      <td>170</td>\n",
              "      <td>753</td>\n",
              "      <td>1</td>\n",
              "      <td>2</td>\n",
              "      <td>1</td>\n",
              "      <td>11059</td>\n",
              "    </tr>\n",
              "    <tr>\n",
              "      <th>top</th>\n",
              "      <td>AQP</td>\n",
              "      <td>9:40</td>\n",
              "      <td>20:50</td>\n",
              "      <td>CUZ</td>\n",
              "      <td>1h 30min</td>\n",
              "      <td>82,73</td>\n",
              "      <td>latam airlines perú</td>\n",
              "      <td>No</td>\n",
              "      <td>dom, 02/03</td>\n",
              "      <td>2024-11-05 18:07:29</td>\n",
              "    </tr>\n",
              "    <tr>\n",
              "      <th>freq</th>\n",
              "      <td>31036</td>\n",
              "      <td>4106</td>\n",
              "      <td>3822</td>\n",
              "      <td>24032</td>\n",
              "      <td>4563</td>\n",
              "      <td>5364</td>\n",
              "      <td>81479</td>\n",
              "      <td>73052</td>\n",
              "      <td>81479</td>\n",
              "      <td>24</td>\n",
              "    </tr>\n",
              "  </tbody>\n",
              "</table>\n",
              "</div>\n",
              "    <div class=\"colab-df-buttons\">\n",
              "\n",
              "  <div class=\"colab-df-container\">\n",
              "    <button class=\"colab-df-convert\" onclick=\"convertToInteractive('df-aa5c3aca-0ca7-4f17-855f-05d396bc5610')\"\n",
              "            title=\"Convert this dataframe to an interactive table.\"\n",
              "            style=\"display:none;\">\n",
              "\n",
              "  <svg xmlns=\"http://www.w3.org/2000/svg\" height=\"24px\" viewBox=\"0 -960 960 960\">\n",
              "    <path d=\"M120-120v-720h720v720H120Zm60-500h600v-160H180v160Zm220 220h160v-160H400v160Zm0 220h160v-160H400v160ZM180-400h160v-160H180v160Zm440 0h160v-160H620v160ZM180-180h160v-160H180v160Zm440 0h160v-160H620v160Z\"/>\n",
              "  </svg>\n",
              "    </button>\n",
              "\n",
              "  <style>\n",
              "    .colab-df-container {\n",
              "      display:flex;\n",
              "      gap: 12px;\n",
              "    }\n",
              "\n",
              "    .colab-df-convert {\n",
              "      background-color: #E8F0FE;\n",
              "      border: none;\n",
              "      border-radius: 50%;\n",
              "      cursor: pointer;\n",
              "      display: none;\n",
              "      fill: #1967D2;\n",
              "      height: 32px;\n",
              "      padding: 0 0 0 0;\n",
              "      width: 32px;\n",
              "    }\n",
              "\n",
              "    .colab-df-convert:hover {\n",
              "      background-color: #E2EBFA;\n",
              "      box-shadow: 0px 1px 2px rgba(60, 64, 67, 0.3), 0px 1px 3px 1px rgba(60, 64, 67, 0.15);\n",
              "      fill: #174EA6;\n",
              "    }\n",
              "\n",
              "    .colab-df-buttons div {\n",
              "      margin-bottom: 4px;\n",
              "    }\n",
              "\n",
              "    [theme=dark] .colab-df-convert {\n",
              "      background-color: #3B4455;\n",
              "      fill: #D2E3FC;\n",
              "    }\n",
              "\n",
              "    [theme=dark] .colab-df-convert:hover {\n",
              "      background-color: #434B5C;\n",
              "      box-shadow: 0px 1px 3px 1px rgba(0, 0, 0, 0.15);\n",
              "      filter: drop-shadow(0px 1px 2px rgba(0, 0, 0, 0.3));\n",
              "      fill: #FFFFFF;\n",
              "    }\n",
              "  </style>\n",
              "\n",
              "    <script>\n",
              "      const buttonEl =\n",
              "        document.querySelector('#df-aa5c3aca-0ca7-4f17-855f-05d396bc5610 button.colab-df-convert');\n",
              "      buttonEl.style.display =\n",
              "        google.colab.kernel.accessAllowed ? 'block' : 'none';\n",
              "\n",
              "      async function convertToInteractive(key) {\n",
              "        const element = document.querySelector('#df-aa5c3aca-0ca7-4f17-855f-05d396bc5610');\n",
              "        const dataTable =\n",
              "          await google.colab.kernel.invokeFunction('convertToInteractive',\n",
              "                                                    [key], {});\n",
              "        if (!dataTable) return;\n",
              "\n",
              "        const docLinkHtml = 'Like what you see? Visit the ' +\n",
              "          '<a target=\"_blank\" href=https://colab.research.google.com/notebooks/data_table.ipynb>data table notebook</a>'\n",
              "          + ' to learn more about interactive tables.';\n",
              "        element.innerHTML = '';\n",
              "        dataTable['output_type'] = 'display_data';\n",
              "        await google.colab.output.renderOutput(dataTable, element);\n",
              "        const docLink = document.createElement('div');\n",
              "        docLink.innerHTML = docLinkHtml;\n",
              "        element.appendChild(docLink);\n",
              "      }\n",
              "    </script>\n",
              "  </div>\n",
              "\n",
              "\n",
              "<div id=\"df-9b65fc74-b7a3-4ce5-9b04-bc96350101ad\">\n",
              "  <button class=\"colab-df-quickchart\" onclick=\"quickchart('df-9b65fc74-b7a3-4ce5-9b04-bc96350101ad')\"\n",
              "            title=\"Suggest charts\"\n",
              "            style=\"display:none;\">\n",
              "\n",
              "<svg xmlns=\"http://www.w3.org/2000/svg\" height=\"24px\"viewBox=\"0 0 24 24\"\n",
              "     width=\"24px\">\n",
              "    <g>\n",
              "        <path d=\"M19 3H5c-1.1 0-2 .9-2 2v14c0 1.1.9 2 2 2h14c1.1 0 2-.9 2-2V5c0-1.1-.9-2-2-2zM9 17H7v-7h2v7zm4 0h-2V7h2v10zm4 0h-2v-4h2v4z\"/>\n",
              "    </g>\n",
              "</svg>\n",
              "  </button>\n",
              "\n",
              "<style>\n",
              "  .colab-df-quickchart {\n",
              "      --bg-color: #E8F0FE;\n",
              "      --fill-color: #1967D2;\n",
              "      --hover-bg-color: #E2EBFA;\n",
              "      --hover-fill-color: #174EA6;\n",
              "      --disabled-fill-color: #AAA;\n",
              "      --disabled-bg-color: #DDD;\n",
              "  }\n",
              "\n",
              "  [theme=dark] .colab-df-quickchart {\n",
              "      --bg-color: #3B4455;\n",
              "      --fill-color: #D2E3FC;\n",
              "      --hover-bg-color: #434B5C;\n",
              "      --hover-fill-color: #FFFFFF;\n",
              "      --disabled-bg-color: #3B4455;\n",
              "      --disabled-fill-color: #666;\n",
              "  }\n",
              "\n",
              "  .colab-df-quickchart {\n",
              "    background-color: var(--bg-color);\n",
              "    border: none;\n",
              "    border-radius: 50%;\n",
              "    cursor: pointer;\n",
              "    display: none;\n",
              "    fill: var(--fill-color);\n",
              "    height: 32px;\n",
              "    padding: 0;\n",
              "    width: 32px;\n",
              "  }\n",
              "\n",
              "  .colab-df-quickchart:hover {\n",
              "    background-color: var(--hover-bg-color);\n",
              "    box-shadow: 0 1px 2px rgba(60, 64, 67, 0.3), 0 1px 3px 1px rgba(60, 64, 67, 0.15);\n",
              "    fill: var(--button-hover-fill-color);\n",
              "  }\n",
              "\n",
              "  .colab-df-quickchart-complete:disabled,\n",
              "  .colab-df-quickchart-complete:disabled:hover {\n",
              "    background-color: var(--disabled-bg-color);\n",
              "    fill: var(--disabled-fill-color);\n",
              "    box-shadow: none;\n",
              "  }\n",
              "\n",
              "  .colab-df-spinner {\n",
              "    border: 2px solid var(--fill-color);\n",
              "    border-color: transparent;\n",
              "    border-bottom-color: var(--fill-color);\n",
              "    animation:\n",
              "      spin 1s steps(1) infinite;\n",
              "  }\n",
              "\n",
              "  @keyframes spin {\n",
              "    0% {\n",
              "      border-color: transparent;\n",
              "      border-bottom-color: var(--fill-color);\n",
              "      border-left-color: var(--fill-color);\n",
              "    }\n",
              "    20% {\n",
              "      border-color: transparent;\n",
              "      border-left-color: var(--fill-color);\n",
              "      border-top-color: var(--fill-color);\n",
              "    }\n",
              "    30% {\n",
              "      border-color: transparent;\n",
              "      border-left-color: var(--fill-color);\n",
              "      border-top-color: var(--fill-color);\n",
              "      border-right-color: var(--fill-color);\n",
              "    }\n",
              "    40% {\n",
              "      border-color: transparent;\n",
              "      border-right-color: var(--fill-color);\n",
              "      border-top-color: var(--fill-color);\n",
              "    }\n",
              "    60% {\n",
              "      border-color: transparent;\n",
              "      border-right-color: var(--fill-color);\n",
              "    }\n",
              "    80% {\n",
              "      border-color: transparent;\n",
              "      border-right-color: var(--fill-color);\n",
              "      border-bottom-color: var(--fill-color);\n",
              "    }\n",
              "    90% {\n",
              "      border-color: transparent;\n",
              "      border-bottom-color: var(--fill-color);\n",
              "    }\n",
              "  }\n",
              "</style>\n",
              "\n",
              "  <script>\n",
              "    async function quickchart(key) {\n",
              "      const quickchartButtonEl =\n",
              "        document.querySelector('#' + key + ' button');\n",
              "      quickchartButtonEl.disabled = true;  // To prevent multiple clicks.\n",
              "      quickchartButtonEl.classList.add('colab-df-spinner');\n",
              "      try {\n",
              "        const charts = await google.colab.kernel.invokeFunction(\n",
              "            'suggestCharts', [key], {});\n",
              "      } catch (error) {\n",
              "        console.error('Error during call to suggestCharts:', error);\n",
              "      }\n",
              "      quickchartButtonEl.classList.remove('colab-df-spinner');\n",
              "      quickchartButtonEl.classList.add('colab-df-quickchart-complete');\n",
              "    }\n",
              "    (() => {\n",
              "      let quickchartButtonEl =\n",
              "        document.querySelector('#df-9b65fc74-b7a3-4ce5-9b04-bc96350101ad button');\n",
              "      quickchartButtonEl.style.display =\n",
              "        google.colab.kernel.accessAllowed ? 'block' : 'none';\n",
              "    })();\n",
              "  </script>\n",
              "</div>\n",
              "\n",
              "    </div>\n",
              "  </div>\n"
            ],
            "application/vnd.google.colaboratory.intrinsic+json": {
              "type": "dataframe",
              "summary": "{\n  \"name\": \"df\",\n  \"rows\": 4,\n  \"fields\": [\n    {\n      \"column\": \"Origen\",\n      \"properties\": {\n        \"dtype\": \"string\",\n        \"num_unique_values\": 4,\n        \"samples\": [\n          17,\n          \"31036\",\n          \"81479\"\n        ],\n        \"semantic_type\": \"\",\n        \"description\": \"\"\n      }\n    },\n    {\n      \"column\": \"Hora de Salida\",\n      \"properties\": {\n        \"dtype\": \"date\",\n        \"min\": \"1970-01-01 00:00:00.000000129\",\n        \"max\": \"2024-11-19 09:40:00\",\n        \"num_unique_values\": 4,\n        \"samples\": [\n          129,\n          \"4106\",\n          \"81479\"\n        ],\n        \"semantic_type\": \"\",\n        \"description\": \"\"\n      }\n    },\n    {\n      \"column\": \"Hora de Llegada\",\n      \"properties\": {\n        \"dtype\": \"date\",\n        \"min\": \"1970-01-01 00:00:00.000000164\",\n        \"max\": \"2024-11-19 20:50:00\",\n        \"num_unique_values\": 4,\n        \"samples\": [\n          164,\n          \"3822\",\n          \"81479\"\n        ],\n        \"semantic_type\": \"\",\n        \"description\": \"\"\n      }\n    },\n    {\n      \"column\": \"Destino\",\n      \"properties\": {\n        \"dtype\": \"string\",\n        \"num_unique_values\": 4,\n        \"samples\": [\n          17,\n          \"24032\",\n          \"81479\"\n        ],\n        \"semantic_type\": \"\",\n        \"description\": \"\"\n      }\n    },\n    {\n      \"column\": \"Duraci\\u00f3n\",\n      \"properties\": {\n        \"dtype\": \"string\",\n        \"num_unique_values\": 4,\n        \"samples\": [\n          170,\n          \"4563\",\n          \"81479\"\n        ],\n        \"semantic_type\": \"\",\n        \"description\": \"\"\n      }\n    },\n    {\n      \"column\": \"Tarifa\",\n      \"properties\": {\n        \"dtype\": \"date\",\n        \"min\": \"1970-01-01 00:00:00.000000753\",\n        \"max\": \"1982-01-01 00:00:00\",\n        \"num_unique_values\": 4,\n        \"samples\": [\n          753,\n          \"5364\",\n          \"81479\"\n        ],\n        \"semantic_type\": \"\",\n        \"description\": \"\"\n      }\n    },\n    {\n      \"column\": \"Operado por\",\n      \"properties\": {\n        \"dtype\": \"string\",\n        \"num_unique_values\": 3,\n        \"samples\": [\n          \"81479\",\n          1,\n          \"latam airlines per\\u00fa\"\n        ],\n        \"semantic_type\": \"\",\n        \"description\": \"\"\n      }\n    },\n    {\n      \"column\": \"Directo\",\n      \"properties\": {\n        \"dtype\": \"string\",\n        \"num_unique_values\": 4,\n        \"samples\": [\n          2,\n          \"73052\",\n          \"81479\"\n        ],\n        \"semantic_type\": \"\",\n        \"description\": \"\"\n      }\n    },\n    {\n      \"column\": \"Fecha de Salida\",\n      \"properties\": {\n        \"dtype\": \"string\",\n        \"num_unique_values\": 3,\n        \"samples\": [\n          \"81479\",\n          1,\n          \"dom, 02/03\"\n        ],\n        \"semantic_type\": \"\",\n        \"description\": \"\"\n      }\n    },\n    {\n      \"column\": \"Fecha de Consulta\",\n      \"properties\": {\n        \"dtype\": \"date\",\n        \"min\": \"1970-01-01 00:00:00.000000024\",\n        \"max\": \"2024-11-05 18:07:29\",\n        \"num_unique_values\": 4,\n        \"samples\": [\n          11059,\n          \"24\",\n          \"81479\"\n        ],\n        \"semantic_type\": \"\",\n        \"description\": \"\"\n      }\n    }\n  ]\n}"
            }
          },
          "metadata": {},
          "execution_count": 12
        }
      ]
    },
    {
      "cell_type": "code",
      "source": [
        "# Verificar la cantidad de valores nulos en cada columna del DataFrame\n",
        "# df: Es el DataFrame que contiene los datos que estamos analizando\n",
        "\n",
        "# .isnull() devuelve un DataFrame del mismo tamaño que df,\n",
        "# donde cada elemento es True si el valor es nulo (NaN) y False si no lo es.\n",
        "nulos = df.isnull()\n",
        "\n",
        "# .sum() suma los valores True (1) en cada columna,\n",
        "# proporcionando el conteo de valores nulos en cada columna del DataFrame.\n",
        "conteo_nulos = nulos.sum()\n",
        "\n",
        "# Mostrar el conteo de valores nulos en cada columna\n",
        "print(conteo_nulos)"
      ],
      "metadata": {
        "colab": {
          "base_uri": "https://localhost:8080/"
        },
        "id": "lbd4iMgH0JxM",
        "outputId": "66add800-624f-4f83-b87d-41b88c1df605"
      },
      "execution_count": null,
      "outputs": [
        {
          "output_type": "stream",
          "name": "stdout",
          "text": [
            "Origen               1\n",
            "Hora de Salida       1\n",
            "Hora de Llegada      1\n",
            "Destino              1\n",
            "Duración             1\n",
            "Tarifa               1\n",
            "Operado por          1\n",
            "Directo              1\n",
            "Fecha de Salida      1\n",
            "Fecha de Consulta    1\n",
            "dtype: int64\n"
          ]
        }
      ]
    },
    {
      "cell_type": "code",
      "source": [
        "#Eliminar las filas con valores nulos\n",
        "df = df.dropna()"
      ],
      "metadata": {
        "id": "vIRB5wrb0VWE"
      },
      "execution_count": null,
      "outputs": []
    },
    {
      "cell_type": "code",
      "source": [
        "#Verificar nuevamente los valores nulos\n",
        "conteo_nulos = df.isnull().sum()\n",
        "print(conteo_nulos)"
      ],
      "metadata": {
        "colab": {
          "base_uri": "https://localhost:8080/"
        },
        "id": "grBjzy1j0anM",
        "outputId": "32e57950-bcd2-41aa-ddf0-559d849b7cb4"
      },
      "execution_count": null,
      "outputs": [
        {
          "output_type": "stream",
          "name": "stdout",
          "text": [
            "Origen               0\n",
            "Hora de Salida       0\n",
            "Hora de Llegada      0\n",
            "Destino              0\n",
            "Duración             0\n",
            "Tarifa               0\n",
            "Operado por          0\n",
            "Directo              0\n",
            "Fecha de Salida      0\n",
            "Fecha de Consulta    0\n",
            "dtype: int64\n"
          ]
        }
      ]
    },
    {
      "cell_type": "code",
      "source": [
        "# Cuenta los duplicados en el DataFrame.\n",
        "print(\"Nummero de datos duplicados: \", df.duplicated().sum())\n",
        "# Verifica si hay filas duplicadas en el DataFrame.\n",
        "# df.duplicated() devuelve una serie booleana que indica si una fila es duplicada (True) o no (False).\n",
        "# any() aplicado a la serie devuelve True si hay al menos una fila duplicada.\n",
        "\n",
        "\n",
        "df.duplicated().any()"
      ],
      "metadata": {
        "colab": {
          "base_uri": "https://localhost:8080/"
        },
        "id": "0SVM0Khn0gL2",
        "outputId": "970f22ba-036e-4ad7-ce9c-5060341a81ef"
      },
      "execution_count": null,
      "outputs": [
        {
          "output_type": "stream",
          "name": "stdout",
          "text": [
            "Nummero de datos duplicados:  0\n"
          ]
        },
        {
          "output_type": "execute_result",
          "data": {
            "text/plain": [
              "False"
            ]
          },
          "metadata": {},
          "execution_count": 16
        }
      ]
    },
    {
      "cell_type": "markdown",
      "source": [
        "\n",
        "\n",
        "> Eliminar la columna Operado Por --> Toda la columna es igual (latam airlines perú )\n"
      ],
      "metadata": {
        "id": "LitKPTglTn9A"
      }
    },
    {
      "cell_type": "code",
      "source": [
        "df = df.drop('Operado por', axis=1)"
      ],
      "metadata": {
        "id": "EUIMA8ArTnXa"
      },
      "execution_count": null,
      "outputs": []
    },
    {
      "cell_type": "code",
      "source": [
        "print(df)"
      ],
      "metadata": {
        "colab": {
          "base_uri": "https://localhost:8080/"
        },
        "id": "8olKqf5nTnwg",
        "outputId": "4eccdb4b-bb38-4f54-e32a-10a3e98020ad"
      },
      "execution_count": null,
      "outputs": [
        {
          "output_type": "stream",
          "name": "stdout",
          "text": [
            "      Origen Hora de Salida         Hora de Llegada Destino   Duración Tarifa  \\\n",
            "0        AQP          17:15                   18:40     LIM   1h 25min  46,15   \n",
            "1        AQP           9:40                   11:10     LIM   1h 30min  46,15   \n",
            "2        AQP          10:30                   12:00     LIM   1h 30min  46,15   \n",
            "3        AQP          10:50                   12:20     LIM   1h 30min  46,15   \n",
            "4        AQP          11:55                   13:25     LIM   1h 30min  46,15   \n",
            "...      ...            ...                     ...     ...        ...    ...   \n",
            "83378    TPP          13:55                   15:10     LIM   1h 15min  50,89   \n",
            "83379    TPP          19:00                   20:20     LIM   1h 20min  48,53   \n",
            "83380    TPP          20:05                   21:25     LIM   1h 20min  48,53   \n",
            "83381    TPP          20:05  6:35 del siguiente día     AYP  10h 30min  82,75   \n",
            "83382    TPP          19:00  6:35 del siguiente día     AYP  11h 35min  82,75   \n",
            "\n",
            "      Directo Fecha de Salida    Fecha de Consulta  \n",
            "0          Sí      dom, 02/03  2024-10-29 18:01:24  \n",
            "1          Sí      dom, 02/03  2024-10-29 18:01:24  \n",
            "2          Sí      dom, 02/03  2024-10-29 18:01:24  \n",
            "3          Sí      dom, 02/03  2024-10-29 18:01:24  \n",
            "4          Sí      dom, 02/03  2024-10-29 18:01:24  \n",
            "...       ...             ...                  ...  \n",
            "83378      Sí      dom, 02/03  2024-10-22 09:31:54  \n",
            "83379      Sí      dom, 02/03  2024-10-22 09:31:54  \n",
            "83380      Sí      dom, 02/03  2024-10-22 09:31:54  \n",
            "83381      No      dom, 02/03  2024-10-22 09:43:27  \n",
            "83382      No      dom, 02/03  2024-10-22 09:43:27  \n",
            "\n",
            "[81479 rows x 9 columns]\n"
          ]
        }
      ]
    },
    {
      "cell_type": "markdown",
      "source": [
        "Eliminar la columna Fecha de Salida --> Toda la columna es igual (dom, 02/03)\n"
      ],
      "metadata": {
        "id": "LFK4pv0_VLbJ"
      }
    },
    {
      "cell_type": "code",
      "source": [
        "df = df.drop('Fecha de Salida', axis=1)"
      ],
      "metadata": {
        "id": "GlHV6_rpYIlv"
      },
      "execution_count": null,
      "outputs": []
    },
    {
      "cell_type": "code",
      "source": [
        "print(df)"
      ],
      "metadata": {
        "colab": {
          "base_uri": "https://localhost:8080/"
        },
        "id": "Sh9TZANKYMrn",
        "outputId": "684b9b9d-3bd6-48b0-8b3e-4accad804e90"
      },
      "execution_count": null,
      "outputs": [
        {
          "output_type": "stream",
          "name": "stdout",
          "text": [
            "      Origen Hora de Salida         Hora de Llegada Destino   Duración Tarifa  \\\n",
            "0        AQP          17:15                   18:40     LIM   1h 25min  46,15   \n",
            "1        AQP           9:40                   11:10     LIM   1h 30min  46,15   \n",
            "2        AQP          10:30                   12:00     LIM   1h 30min  46,15   \n",
            "3        AQP          10:50                   12:20     LIM   1h 30min  46,15   \n",
            "4        AQP          11:55                   13:25     LIM   1h 30min  46,15   \n",
            "...      ...            ...                     ...     ...        ...    ...   \n",
            "83378    TPP          13:55                   15:10     LIM   1h 15min  50,89   \n",
            "83379    TPP          19:00                   20:20     LIM   1h 20min  48,53   \n",
            "83380    TPP          20:05                   21:25     LIM   1h 20min  48,53   \n",
            "83381    TPP          20:05  6:35 del siguiente día     AYP  10h 30min  82,75   \n",
            "83382    TPP          19:00  6:35 del siguiente día     AYP  11h 35min  82,75   \n",
            "\n",
            "      Directo    Fecha de Consulta  \n",
            "0          Sí  2024-10-29 18:01:24  \n",
            "1          Sí  2024-10-29 18:01:24  \n",
            "2          Sí  2024-10-29 18:01:24  \n",
            "3          Sí  2024-10-29 18:01:24  \n",
            "4          Sí  2024-10-29 18:01:24  \n",
            "...       ...                  ...  \n",
            "83378      Sí  2024-10-22 09:31:54  \n",
            "83379      Sí  2024-10-22 09:31:54  \n",
            "83380      Sí  2024-10-22 09:31:54  \n",
            "83381      No  2024-10-22 09:43:27  \n",
            "83382      No  2024-10-22 09:43:27  \n",
            "\n",
            "[81479 rows x 8 columns]\n"
          ]
        }
      ]
    },
    {
      "cell_type": "markdown",
      "source": [
        "Proporcionando el formato necesario a las columnas de **Hora de Salida** y **Hora de Llegada**"
      ],
      "metadata": {
        "id": "D3tD1vhYcfl4"
      }
    },
    {
      "cell_type": "code",
      "source": [
        "# 1. Eliminar texto adicional \"del siguiente día\" en las columnas 'Hora de Salida' y 'Hora de Llegada'\n",
        "df['Hora de Salida'] = df['Hora de Salida'].astype(str).str.replace(\" del siguiente día\", \"\")\n",
        "df['Hora de Llegada'] = df['Hora de Llegada'].astype(str).str.replace(\" del siguiente día\", \"\")\n",
        "\n",
        "# 2. Asegurarse de que ambas horas tengan formato 'HH:MM' (eliminando los segundos si existen)\n",
        "df['Hora de Salida'] = df['Hora de Salida'].str[:5]  # Solo conservar la parte de HH:MM\n",
        "df['Hora de Llegada'] = df['Hora de Llegada'].str[:5]  # Solo conservar la parte de HH:MM\n",
        "\n",
        "# 3. Convertir 'Hora de Salida' y 'Hora de Llegada' a formato datetime (hora)\n",
        "df['Hora de Salida'] = pd.to_datetime(df['Hora de Salida'], format='%H:%M').dt.time\n",
        "df['Hora de Llegada'] = pd.to_datetime(df['Hora de Llegada'], format='%H:%M').dt.time\n",
        "\n",
        "# Verificar los cambios\n",
        "print(df[['Hora de Salida', 'Hora de Llegada']].head())\n"
      ],
      "metadata": {
        "colab": {
          "base_uri": "https://localhost:8080/"
        },
        "id": "os74BAENZUJI",
        "outputId": "55bb2d8f-51b4-451d-c029-f33d043e7a8b"
      },
      "execution_count": null,
      "outputs": [
        {
          "output_type": "stream",
          "name": "stdout",
          "text": [
            "  Hora de Salida Hora de Llegada\n",
            "0       17:15:00        18:40:00\n",
            "1       09:40:00        11:10:00\n",
            "2       10:30:00        12:00:00\n",
            "3       10:50:00        12:20:00\n",
            "4       11:55:00        13:25:00\n"
          ]
        }
      ]
    },
    {
      "cell_type": "markdown",
      "source": [
        "**Transformación de la variable Duración**\n",
        "\n",
        "\n",
        "La variable Duración está en formato texto (e.g., \"1h 25min\"). Vamos a convertirla a minutos."
      ],
      "metadata": {
        "id": "LlWvM4m5eGxH"
      }
    },
    {
      "cell_type": "code",
      "source": [
        "# Función para convertir duración en formato \"xh y ymin\" a minutos\n",
        "def convertir_duracion(duracion):\n",
        "    horas = 0\n",
        "    minutos = 0\n",
        "    if 'h' in duracion:\n",
        "        horas = int(duracion.split('h')[0].strip())\n",
        "    if 'min' in duracion:\n",
        "        minutos = int(duracion.split('min')[0].split()[-1].strip())\n",
        "    return horas * 60 + minutos\n",
        "\n",
        "# Aplicar la función para convertir duración a minutos\n",
        "df['Duracion_min'] = df['Duración'].apply(convertir_duracion)\n",
        "df.head()"
      ],
      "metadata": {
        "colab": {
          "base_uri": "https://localhost:8080/",
          "height": 206
        },
        "id": "wNhUdc5kdPT_",
        "outputId": "83d7296f-d0fd-4e0b-d4f3-863e9a80cbfe"
      },
      "execution_count": null,
      "outputs": [
        {
          "output_type": "execute_result",
          "data": {
            "text/plain": [
              "  Origen Hora de Salida Hora de Llegada Destino  Duración Tarifa Directo  \\\n",
              "0    AQP       17:15:00        18:40:00     LIM  1h 25min  46,15      Sí   \n",
              "1    AQP       09:40:00        11:10:00     LIM  1h 30min  46,15      Sí   \n",
              "2    AQP       10:30:00        12:00:00     LIM  1h 30min  46,15      Sí   \n",
              "3    AQP       10:50:00        12:20:00     LIM  1h 30min  46,15      Sí   \n",
              "4    AQP       11:55:00        13:25:00     LIM  1h 30min  46,15      Sí   \n",
              "\n",
              "     Fecha de Consulta  Duracion_min  \n",
              "0  2024-10-29 18:01:24            85  \n",
              "1  2024-10-29 18:01:24            90  \n",
              "2  2024-10-29 18:01:24            90  \n",
              "3  2024-10-29 18:01:24            90  \n",
              "4  2024-10-29 18:01:24            90  "
            ],
            "text/html": [
              "\n",
              "  <div id=\"df-b93eea02-d514-41c0-8d24-d92cc2f955dc\" class=\"colab-df-container\">\n",
              "    <div>\n",
              "<style scoped>\n",
              "    .dataframe tbody tr th:only-of-type {\n",
              "        vertical-align: middle;\n",
              "    }\n",
              "\n",
              "    .dataframe tbody tr th {\n",
              "        vertical-align: top;\n",
              "    }\n",
              "\n",
              "    .dataframe thead th {\n",
              "        text-align: right;\n",
              "    }\n",
              "</style>\n",
              "<table border=\"1\" class=\"dataframe\">\n",
              "  <thead>\n",
              "    <tr style=\"text-align: right;\">\n",
              "      <th></th>\n",
              "      <th>Origen</th>\n",
              "      <th>Hora de Salida</th>\n",
              "      <th>Hora de Llegada</th>\n",
              "      <th>Destino</th>\n",
              "      <th>Duración</th>\n",
              "      <th>Tarifa</th>\n",
              "      <th>Directo</th>\n",
              "      <th>Fecha de Consulta</th>\n",
              "      <th>Duracion_min</th>\n",
              "    </tr>\n",
              "  </thead>\n",
              "  <tbody>\n",
              "    <tr>\n",
              "      <th>0</th>\n",
              "      <td>AQP</td>\n",
              "      <td>17:15:00</td>\n",
              "      <td>18:40:00</td>\n",
              "      <td>LIM</td>\n",
              "      <td>1h 25min</td>\n",
              "      <td>46,15</td>\n",
              "      <td>Sí</td>\n",
              "      <td>2024-10-29 18:01:24</td>\n",
              "      <td>85</td>\n",
              "    </tr>\n",
              "    <tr>\n",
              "      <th>1</th>\n",
              "      <td>AQP</td>\n",
              "      <td>09:40:00</td>\n",
              "      <td>11:10:00</td>\n",
              "      <td>LIM</td>\n",
              "      <td>1h 30min</td>\n",
              "      <td>46,15</td>\n",
              "      <td>Sí</td>\n",
              "      <td>2024-10-29 18:01:24</td>\n",
              "      <td>90</td>\n",
              "    </tr>\n",
              "    <tr>\n",
              "      <th>2</th>\n",
              "      <td>AQP</td>\n",
              "      <td>10:30:00</td>\n",
              "      <td>12:00:00</td>\n",
              "      <td>LIM</td>\n",
              "      <td>1h 30min</td>\n",
              "      <td>46,15</td>\n",
              "      <td>Sí</td>\n",
              "      <td>2024-10-29 18:01:24</td>\n",
              "      <td>90</td>\n",
              "    </tr>\n",
              "    <tr>\n",
              "      <th>3</th>\n",
              "      <td>AQP</td>\n",
              "      <td>10:50:00</td>\n",
              "      <td>12:20:00</td>\n",
              "      <td>LIM</td>\n",
              "      <td>1h 30min</td>\n",
              "      <td>46,15</td>\n",
              "      <td>Sí</td>\n",
              "      <td>2024-10-29 18:01:24</td>\n",
              "      <td>90</td>\n",
              "    </tr>\n",
              "    <tr>\n",
              "      <th>4</th>\n",
              "      <td>AQP</td>\n",
              "      <td>11:55:00</td>\n",
              "      <td>13:25:00</td>\n",
              "      <td>LIM</td>\n",
              "      <td>1h 30min</td>\n",
              "      <td>46,15</td>\n",
              "      <td>Sí</td>\n",
              "      <td>2024-10-29 18:01:24</td>\n",
              "      <td>90</td>\n",
              "    </tr>\n",
              "  </tbody>\n",
              "</table>\n",
              "</div>\n",
              "    <div class=\"colab-df-buttons\">\n",
              "\n",
              "  <div class=\"colab-df-container\">\n",
              "    <button class=\"colab-df-convert\" onclick=\"convertToInteractive('df-b93eea02-d514-41c0-8d24-d92cc2f955dc')\"\n",
              "            title=\"Convert this dataframe to an interactive table.\"\n",
              "            style=\"display:none;\">\n",
              "\n",
              "  <svg xmlns=\"http://www.w3.org/2000/svg\" height=\"24px\" viewBox=\"0 -960 960 960\">\n",
              "    <path d=\"M120-120v-720h720v720H120Zm60-500h600v-160H180v160Zm220 220h160v-160H400v160Zm0 220h160v-160H400v160ZM180-400h160v-160H180v160Zm440 0h160v-160H620v160ZM180-180h160v-160H180v160Zm440 0h160v-160H620v160Z\"/>\n",
              "  </svg>\n",
              "    </button>\n",
              "\n",
              "  <style>\n",
              "    .colab-df-container {\n",
              "      display:flex;\n",
              "      gap: 12px;\n",
              "    }\n",
              "\n",
              "    .colab-df-convert {\n",
              "      background-color: #E8F0FE;\n",
              "      border: none;\n",
              "      border-radius: 50%;\n",
              "      cursor: pointer;\n",
              "      display: none;\n",
              "      fill: #1967D2;\n",
              "      height: 32px;\n",
              "      padding: 0 0 0 0;\n",
              "      width: 32px;\n",
              "    }\n",
              "\n",
              "    .colab-df-convert:hover {\n",
              "      background-color: #E2EBFA;\n",
              "      box-shadow: 0px 1px 2px rgba(60, 64, 67, 0.3), 0px 1px 3px 1px rgba(60, 64, 67, 0.15);\n",
              "      fill: #174EA6;\n",
              "    }\n",
              "\n",
              "    .colab-df-buttons div {\n",
              "      margin-bottom: 4px;\n",
              "    }\n",
              "\n",
              "    [theme=dark] .colab-df-convert {\n",
              "      background-color: #3B4455;\n",
              "      fill: #D2E3FC;\n",
              "    }\n",
              "\n",
              "    [theme=dark] .colab-df-convert:hover {\n",
              "      background-color: #434B5C;\n",
              "      box-shadow: 0px 1px 3px 1px rgba(0, 0, 0, 0.15);\n",
              "      filter: drop-shadow(0px 1px 2px rgba(0, 0, 0, 0.3));\n",
              "      fill: #FFFFFF;\n",
              "    }\n",
              "  </style>\n",
              "\n",
              "    <script>\n",
              "      const buttonEl =\n",
              "        document.querySelector('#df-b93eea02-d514-41c0-8d24-d92cc2f955dc button.colab-df-convert');\n",
              "      buttonEl.style.display =\n",
              "        google.colab.kernel.accessAllowed ? 'block' : 'none';\n",
              "\n",
              "      async function convertToInteractive(key) {\n",
              "        const element = document.querySelector('#df-b93eea02-d514-41c0-8d24-d92cc2f955dc');\n",
              "        const dataTable =\n",
              "          await google.colab.kernel.invokeFunction('convertToInteractive',\n",
              "                                                    [key], {});\n",
              "        if (!dataTable) return;\n",
              "\n",
              "        const docLinkHtml = 'Like what you see? Visit the ' +\n",
              "          '<a target=\"_blank\" href=https://colab.research.google.com/notebooks/data_table.ipynb>data table notebook</a>'\n",
              "          + ' to learn more about interactive tables.';\n",
              "        element.innerHTML = '';\n",
              "        dataTable['output_type'] = 'display_data';\n",
              "        await google.colab.output.renderOutput(dataTable, element);\n",
              "        const docLink = document.createElement('div');\n",
              "        docLink.innerHTML = docLinkHtml;\n",
              "        element.appendChild(docLink);\n",
              "      }\n",
              "    </script>\n",
              "  </div>\n",
              "\n",
              "\n",
              "<div id=\"df-883763f4-bd5e-4cc7-9e94-f39cedc37956\">\n",
              "  <button class=\"colab-df-quickchart\" onclick=\"quickchart('df-883763f4-bd5e-4cc7-9e94-f39cedc37956')\"\n",
              "            title=\"Suggest charts\"\n",
              "            style=\"display:none;\">\n",
              "\n",
              "<svg xmlns=\"http://www.w3.org/2000/svg\" height=\"24px\"viewBox=\"0 0 24 24\"\n",
              "     width=\"24px\">\n",
              "    <g>\n",
              "        <path d=\"M19 3H5c-1.1 0-2 .9-2 2v14c0 1.1.9 2 2 2h14c1.1 0 2-.9 2-2V5c0-1.1-.9-2-2-2zM9 17H7v-7h2v7zm4 0h-2V7h2v10zm4 0h-2v-4h2v4z\"/>\n",
              "    </g>\n",
              "</svg>\n",
              "  </button>\n",
              "\n",
              "<style>\n",
              "  .colab-df-quickchart {\n",
              "      --bg-color: #E8F0FE;\n",
              "      --fill-color: #1967D2;\n",
              "      --hover-bg-color: #E2EBFA;\n",
              "      --hover-fill-color: #174EA6;\n",
              "      --disabled-fill-color: #AAA;\n",
              "      --disabled-bg-color: #DDD;\n",
              "  }\n",
              "\n",
              "  [theme=dark] .colab-df-quickchart {\n",
              "      --bg-color: #3B4455;\n",
              "      --fill-color: #D2E3FC;\n",
              "      --hover-bg-color: #434B5C;\n",
              "      --hover-fill-color: #FFFFFF;\n",
              "      --disabled-bg-color: #3B4455;\n",
              "      --disabled-fill-color: #666;\n",
              "  }\n",
              "\n",
              "  .colab-df-quickchart {\n",
              "    background-color: var(--bg-color);\n",
              "    border: none;\n",
              "    border-radius: 50%;\n",
              "    cursor: pointer;\n",
              "    display: none;\n",
              "    fill: var(--fill-color);\n",
              "    height: 32px;\n",
              "    padding: 0;\n",
              "    width: 32px;\n",
              "  }\n",
              "\n",
              "  .colab-df-quickchart:hover {\n",
              "    background-color: var(--hover-bg-color);\n",
              "    box-shadow: 0 1px 2px rgba(60, 64, 67, 0.3), 0 1px 3px 1px rgba(60, 64, 67, 0.15);\n",
              "    fill: var(--button-hover-fill-color);\n",
              "  }\n",
              "\n",
              "  .colab-df-quickchart-complete:disabled,\n",
              "  .colab-df-quickchart-complete:disabled:hover {\n",
              "    background-color: var(--disabled-bg-color);\n",
              "    fill: var(--disabled-fill-color);\n",
              "    box-shadow: none;\n",
              "  }\n",
              "\n",
              "  .colab-df-spinner {\n",
              "    border: 2px solid var(--fill-color);\n",
              "    border-color: transparent;\n",
              "    border-bottom-color: var(--fill-color);\n",
              "    animation:\n",
              "      spin 1s steps(1) infinite;\n",
              "  }\n",
              "\n",
              "  @keyframes spin {\n",
              "    0% {\n",
              "      border-color: transparent;\n",
              "      border-bottom-color: var(--fill-color);\n",
              "      border-left-color: var(--fill-color);\n",
              "    }\n",
              "    20% {\n",
              "      border-color: transparent;\n",
              "      border-left-color: var(--fill-color);\n",
              "      border-top-color: var(--fill-color);\n",
              "    }\n",
              "    30% {\n",
              "      border-color: transparent;\n",
              "      border-left-color: var(--fill-color);\n",
              "      border-top-color: var(--fill-color);\n",
              "      border-right-color: var(--fill-color);\n",
              "    }\n",
              "    40% {\n",
              "      border-color: transparent;\n",
              "      border-right-color: var(--fill-color);\n",
              "      border-top-color: var(--fill-color);\n",
              "    }\n",
              "    60% {\n",
              "      border-color: transparent;\n",
              "      border-right-color: var(--fill-color);\n",
              "    }\n",
              "    80% {\n",
              "      border-color: transparent;\n",
              "      border-right-color: var(--fill-color);\n",
              "      border-bottom-color: var(--fill-color);\n",
              "    }\n",
              "    90% {\n",
              "      border-color: transparent;\n",
              "      border-bottom-color: var(--fill-color);\n",
              "    }\n",
              "  }\n",
              "</style>\n",
              "\n",
              "  <script>\n",
              "    async function quickchart(key) {\n",
              "      const quickchartButtonEl =\n",
              "        document.querySelector('#' + key + ' button');\n",
              "      quickchartButtonEl.disabled = true;  // To prevent multiple clicks.\n",
              "      quickchartButtonEl.classList.add('colab-df-spinner');\n",
              "      try {\n",
              "        const charts = await google.colab.kernel.invokeFunction(\n",
              "            'suggestCharts', [key], {});\n",
              "      } catch (error) {\n",
              "        console.error('Error during call to suggestCharts:', error);\n",
              "      }\n",
              "      quickchartButtonEl.classList.remove('colab-df-spinner');\n",
              "      quickchartButtonEl.classList.add('colab-df-quickchart-complete');\n",
              "    }\n",
              "    (() => {\n",
              "      let quickchartButtonEl =\n",
              "        document.querySelector('#df-883763f4-bd5e-4cc7-9e94-f39cedc37956 button');\n",
              "      quickchartButtonEl.style.display =\n",
              "        google.colab.kernel.accessAllowed ? 'block' : 'none';\n",
              "    })();\n",
              "  </script>\n",
              "</div>\n",
              "\n",
              "    </div>\n",
              "  </div>\n"
            ],
            "application/vnd.google.colaboratory.intrinsic+json": {
              "type": "dataframe",
              "variable_name": "df",
              "summary": "{\n  \"name\": \"df\",\n  \"rows\": 81479,\n  \"fields\": [\n    {\n      \"column\": \"Origen\",\n      \"properties\": {\n        \"dtype\": \"category\",\n        \"num_unique_values\": 17,\n        \"samples\": [\n          \"AQP\",\n          \"AYP\",\n          \"ATA\"\n        ],\n        \"semantic_type\": \"\",\n        \"description\": \"\"\n      }\n    },\n    {\n      \"column\": \"Hora de Salida\",\n      \"properties\": {\n        \"dtype\": \"category\",\n        \"num_unique_values\": 129,\n        \"samples\": [\n          \"08:45:00\",\n          \"18:45:00\",\n          \"17:25:00\"\n        ],\n        \"semantic_type\": \"\",\n        \"description\": \"\"\n      }\n    },\n    {\n      \"column\": \"Hora de Llegada\",\n      \"properties\": {\n        \"dtype\": \"category\",\n        \"num_unique_values\": 133,\n        \"samples\": [\n          \"05:35:00\",\n          \"20:25:00\",\n          \"20:10:00\"\n        ],\n        \"semantic_type\": \"\",\n        \"description\": \"\"\n      }\n    },\n    {\n      \"column\": \"Destino\",\n      \"properties\": {\n        \"dtype\": \"category\",\n        \"num_unique_values\": 17,\n        \"samples\": [\n          \"LIM\",\n          \"CUZ\",\n          \"ATA\"\n        ],\n        \"semantic_type\": \"\",\n        \"description\": \"\"\n      }\n    },\n    {\n      \"column\": \"Duraci\\u00f3n\",\n      \"properties\": {\n        \"dtype\": \"category\",\n        \"num_unique_values\": 170,\n        \"samples\": [\n          \"1h 15min\",\n          \"6h 15min\",\n          \"8h 0min\"\n        ],\n        \"semantic_type\": \"\",\n        \"description\": \"\"\n      }\n    },\n    {\n      \"column\": \"Tarifa\",\n      \"properties\": {\n        \"dtype\": \"category\",\n        \"num_unique_values\": 753,\n        \"samples\": [\n          \"185,41\",\n          \"33,65\",\n          \"84,39\"\n        ],\n        \"semantic_type\": \"\",\n        \"description\": \"\"\n      }\n    },\n    {\n      \"column\": \"Directo\",\n      \"properties\": {\n        \"dtype\": \"category\",\n        \"num_unique_values\": 2,\n        \"samples\": [\n          \"No\",\n          \"S\\u00ed\"\n        ],\n        \"semantic_type\": \"\",\n        \"description\": \"\"\n      }\n    },\n    {\n      \"column\": \"Fecha de Consulta\",\n      \"properties\": {\n        \"dtype\": \"object\",\n        \"num_unique_values\": 11059,\n        \"samples\": [\n          \"2024-10-16 14:08:47\",\n          \"2024-10-14 19:16:58\"\n        ],\n        \"semantic_type\": \"\",\n        \"description\": \"\"\n      }\n    },\n    {\n      \"column\": \"Duracion_min\",\n      \"properties\": {\n        \"dtype\": \"number\",\n        \"std\": 198,\n        \"min\": 45,\n        \"max\": 1425,\n        \"num_unique_values\": 170,\n        \"samples\": [\n          75,\n          375\n        ],\n        \"semantic_type\": \"\",\n        \"description\": \"\"\n      }\n    }\n  ]\n}"
            }
          },
          "metadata": {},
          "execution_count": 22
        }
      ]
    },
    {
      "cell_type": "markdown",
      "source": [
        "**Transformación de la variable Tarifa**\n",
        "\n",
        "\n",
        "Convertir el formato de Tarifa a decimal."
      ],
      "metadata": {
        "id": "vvqSWlBPeU6v"
      }
    },
    {
      "cell_type": "code",
      "source": [
        "# Convertir 'Tarifa' de formato texto a tipo numérico (eliminamos la coma)\n",
        "df['Tarifa'] = df['Tarifa'].str.replace(\",\", \".\", regex=False).astype(float)"
      ],
      "metadata": {
        "id": "1-CxMjCDeYOX"
      },
      "execution_count": null,
      "outputs": []
    },
    {
      "cell_type": "code",
      "source": [
        "df.head()"
      ],
      "metadata": {
        "colab": {
          "base_uri": "https://localhost:8080/",
          "height": 206
        },
        "id": "zxecNDUUesUv",
        "outputId": "f3f6e5da-3589-4a21-a269-8e1d62b4f6d5"
      },
      "execution_count": null,
      "outputs": [
        {
          "output_type": "execute_result",
          "data": {
            "text/plain": [
              "  Origen Hora de Salida Hora de Llegada Destino  Duración  Tarifa Directo  \\\n",
              "0    AQP       17:15:00        18:40:00     LIM  1h 25min   46.15      Sí   \n",
              "1    AQP       09:40:00        11:10:00     LIM  1h 30min   46.15      Sí   \n",
              "2    AQP       10:30:00        12:00:00     LIM  1h 30min   46.15      Sí   \n",
              "3    AQP       10:50:00        12:20:00     LIM  1h 30min   46.15      Sí   \n",
              "4    AQP       11:55:00        13:25:00     LIM  1h 30min   46.15      Sí   \n",
              "\n",
              "     Fecha de Consulta  Duracion_min  \n",
              "0  2024-10-29 18:01:24            85  \n",
              "1  2024-10-29 18:01:24            90  \n",
              "2  2024-10-29 18:01:24            90  \n",
              "3  2024-10-29 18:01:24            90  \n",
              "4  2024-10-29 18:01:24            90  "
            ],
            "text/html": [
              "\n",
              "  <div id=\"df-77ab35e3-0e4c-43e9-aedd-12722c9d28a8\" class=\"colab-df-container\">\n",
              "    <div>\n",
              "<style scoped>\n",
              "    .dataframe tbody tr th:only-of-type {\n",
              "        vertical-align: middle;\n",
              "    }\n",
              "\n",
              "    .dataframe tbody tr th {\n",
              "        vertical-align: top;\n",
              "    }\n",
              "\n",
              "    .dataframe thead th {\n",
              "        text-align: right;\n",
              "    }\n",
              "</style>\n",
              "<table border=\"1\" class=\"dataframe\">\n",
              "  <thead>\n",
              "    <tr style=\"text-align: right;\">\n",
              "      <th></th>\n",
              "      <th>Origen</th>\n",
              "      <th>Hora de Salida</th>\n",
              "      <th>Hora de Llegada</th>\n",
              "      <th>Destino</th>\n",
              "      <th>Duración</th>\n",
              "      <th>Tarifa</th>\n",
              "      <th>Directo</th>\n",
              "      <th>Fecha de Consulta</th>\n",
              "      <th>Duracion_min</th>\n",
              "    </tr>\n",
              "  </thead>\n",
              "  <tbody>\n",
              "    <tr>\n",
              "      <th>0</th>\n",
              "      <td>AQP</td>\n",
              "      <td>17:15:00</td>\n",
              "      <td>18:40:00</td>\n",
              "      <td>LIM</td>\n",
              "      <td>1h 25min</td>\n",
              "      <td>46.15</td>\n",
              "      <td>Sí</td>\n",
              "      <td>2024-10-29 18:01:24</td>\n",
              "      <td>85</td>\n",
              "    </tr>\n",
              "    <tr>\n",
              "      <th>1</th>\n",
              "      <td>AQP</td>\n",
              "      <td>09:40:00</td>\n",
              "      <td>11:10:00</td>\n",
              "      <td>LIM</td>\n",
              "      <td>1h 30min</td>\n",
              "      <td>46.15</td>\n",
              "      <td>Sí</td>\n",
              "      <td>2024-10-29 18:01:24</td>\n",
              "      <td>90</td>\n",
              "    </tr>\n",
              "    <tr>\n",
              "      <th>2</th>\n",
              "      <td>AQP</td>\n",
              "      <td>10:30:00</td>\n",
              "      <td>12:00:00</td>\n",
              "      <td>LIM</td>\n",
              "      <td>1h 30min</td>\n",
              "      <td>46.15</td>\n",
              "      <td>Sí</td>\n",
              "      <td>2024-10-29 18:01:24</td>\n",
              "      <td>90</td>\n",
              "    </tr>\n",
              "    <tr>\n",
              "      <th>3</th>\n",
              "      <td>AQP</td>\n",
              "      <td>10:50:00</td>\n",
              "      <td>12:20:00</td>\n",
              "      <td>LIM</td>\n",
              "      <td>1h 30min</td>\n",
              "      <td>46.15</td>\n",
              "      <td>Sí</td>\n",
              "      <td>2024-10-29 18:01:24</td>\n",
              "      <td>90</td>\n",
              "    </tr>\n",
              "    <tr>\n",
              "      <th>4</th>\n",
              "      <td>AQP</td>\n",
              "      <td>11:55:00</td>\n",
              "      <td>13:25:00</td>\n",
              "      <td>LIM</td>\n",
              "      <td>1h 30min</td>\n",
              "      <td>46.15</td>\n",
              "      <td>Sí</td>\n",
              "      <td>2024-10-29 18:01:24</td>\n",
              "      <td>90</td>\n",
              "    </tr>\n",
              "  </tbody>\n",
              "</table>\n",
              "</div>\n",
              "    <div class=\"colab-df-buttons\">\n",
              "\n",
              "  <div class=\"colab-df-container\">\n",
              "    <button class=\"colab-df-convert\" onclick=\"convertToInteractive('df-77ab35e3-0e4c-43e9-aedd-12722c9d28a8')\"\n",
              "            title=\"Convert this dataframe to an interactive table.\"\n",
              "            style=\"display:none;\">\n",
              "\n",
              "  <svg xmlns=\"http://www.w3.org/2000/svg\" height=\"24px\" viewBox=\"0 -960 960 960\">\n",
              "    <path d=\"M120-120v-720h720v720H120Zm60-500h600v-160H180v160Zm220 220h160v-160H400v160Zm0 220h160v-160H400v160ZM180-400h160v-160H180v160Zm440 0h160v-160H620v160ZM180-180h160v-160H180v160Zm440 0h160v-160H620v160Z\"/>\n",
              "  </svg>\n",
              "    </button>\n",
              "\n",
              "  <style>\n",
              "    .colab-df-container {\n",
              "      display:flex;\n",
              "      gap: 12px;\n",
              "    }\n",
              "\n",
              "    .colab-df-convert {\n",
              "      background-color: #E8F0FE;\n",
              "      border: none;\n",
              "      border-radius: 50%;\n",
              "      cursor: pointer;\n",
              "      display: none;\n",
              "      fill: #1967D2;\n",
              "      height: 32px;\n",
              "      padding: 0 0 0 0;\n",
              "      width: 32px;\n",
              "    }\n",
              "\n",
              "    .colab-df-convert:hover {\n",
              "      background-color: #E2EBFA;\n",
              "      box-shadow: 0px 1px 2px rgba(60, 64, 67, 0.3), 0px 1px 3px 1px rgba(60, 64, 67, 0.15);\n",
              "      fill: #174EA6;\n",
              "    }\n",
              "\n",
              "    .colab-df-buttons div {\n",
              "      margin-bottom: 4px;\n",
              "    }\n",
              "\n",
              "    [theme=dark] .colab-df-convert {\n",
              "      background-color: #3B4455;\n",
              "      fill: #D2E3FC;\n",
              "    }\n",
              "\n",
              "    [theme=dark] .colab-df-convert:hover {\n",
              "      background-color: #434B5C;\n",
              "      box-shadow: 0px 1px 3px 1px rgba(0, 0, 0, 0.15);\n",
              "      filter: drop-shadow(0px 1px 2px rgba(0, 0, 0, 0.3));\n",
              "      fill: #FFFFFF;\n",
              "    }\n",
              "  </style>\n",
              "\n",
              "    <script>\n",
              "      const buttonEl =\n",
              "        document.querySelector('#df-77ab35e3-0e4c-43e9-aedd-12722c9d28a8 button.colab-df-convert');\n",
              "      buttonEl.style.display =\n",
              "        google.colab.kernel.accessAllowed ? 'block' : 'none';\n",
              "\n",
              "      async function convertToInteractive(key) {\n",
              "        const element = document.querySelector('#df-77ab35e3-0e4c-43e9-aedd-12722c9d28a8');\n",
              "        const dataTable =\n",
              "          await google.colab.kernel.invokeFunction('convertToInteractive',\n",
              "                                                    [key], {});\n",
              "        if (!dataTable) return;\n",
              "\n",
              "        const docLinkHtml = 'Like what you see? Visit the ' +\n",
              "          '<a target=\"_blank\" href=https://colab.research.google.com/notebooks/data_table.ipynb>data table notebook</a>'\n",
              "          + ' to learn more about interactive tables.';\n",
              "        element.innerHTML = '';\n",
              "        dataTable['output_type'] = 'display_data';\n",
              "        await google.colab.output.renderOutput(dataTable, element);\n",
              "        const docLink = document.createElement('div');\n",
              "        docLink.innerHTML = docLinkHtml;\n",
              "        element.appendChild(docLink);\n",
              "      }\n",
              "    </script>\n",
              "  </div>\n",
              "\n",
              "\n",
              "<div id=\"df-060485da-5d21-4629-9026-e69ef90c1b7b\">\n",
              "  <button class=\"colab-df-quickchart\" onclick=\"quickchart('df-060485da-5d21-4629-9026-e69ef90c1b7b')\"\n",
              "            title=\"Suggest charts\"\n",
              "            style=\"display:none;\">\n",
              "\n",
              "<svg xmlns=\"http://www.w3.org/2000/svg\" height=\"24px\"viewBox=\"0 0 24 24\"\n",
              "     width=\"24px\">\n",
              "    <g>\n",
              "        <path d=\"M19 3H5c-1.1 0-2 .9-2 2v14c0 1.1.9 2 2 2h14c1.1 0 2-.9 2-2V5c0-1.1-.9-2-2-2zM9 17H7v-7h2v7zm4 0h-2V7h2v10zm4 0h-2v-4h2v4z\"/>\n",
              "    </g>\n",
              "</svg>\n",
              "  </button>\n",
              "\n",
              "<style>\n",
              "  .colab-df-quickchart {\n",
              "      --bg-color: #E8F0FE;\n",
              "      --fill-color: #1967D2;\n",
              "      --hover-bg-color: #E2EBFA;\n",
              "      --hover-fill-color: #174EA6;\n",
              "      --disabled-fill-color: #AAA;\n",
              "      --disabled-bg-color: #DDD;\n",
              "  }\n",
              "\n",
              "  [theme=dark] .colab-df-quickchart {\n",
              "      --bg-color: #3B4455;\n",
              "      --fill-color: #D2E3FC;\n",
              "      --hover-bg-color: #434B5C;\n",
              "      --hover-fill-color: #FFFFFF;\n",
              "      --disabled-bg-color: #3B4455;\n",
              "      --disabled-fill-color: #666;\n",
              "  }\n",
              "\n",
              "  .colab-df-quickchart {\n",
              "    background-color: var(--bg-color);\n",
              "    border: none;\n",
              "    border-radius: 50%;\n",
              "    cursor: pointer;\n",
              "    display: none;\n",
              "    fill: var(--fill-color);\n",
              "    height: 32px;\n",
              "    padding: 0;\n",
              "    width: 32px;\n",
              "  }\n",
              "\n",
              "  .colab-df-quickchart:hover {\n",
              "    background-color: var(--hover-bg-color);\n",
              "    box-shadow: 0 1px 2px rgba(60, 64, 67, 0.3), 0 1px 3px 1px rgba(60, 64, 67, 0.15);\n",
              "    fill: var(--button-hover-fill-color);\n",
              "  }\n",
              "\n",
              "  .colab-df-quickchart-complete:disabled,\n",
              "  .colab-df-quickchart-complete:disabled:hover {\n",
              "    background-color: var(--disabled-bg-color);\n",
              "    fill: var(--disabled-fill-color);\n",
              "    box-shadow: none;\n",
              "  }\n",
              "\n",
              "  .colab-df-spinner {\n",
              "    border: 2px solid var(--fill-color);\n",
              "    border-color: transparent;\n",
              "    border-bottom-color: var(--fill-color);\n",
              "    animation:\n",
              "      spin 1s steps(1) infinite;\n",
              "  }\n",
              "\n",
              "  @keyframes spin {\n",
              "    0% {\n",
              "      border-color: transparent;\n",
              "      border-bottom-color: var(--fill-color);\n",
              "      border-left-color: var(--fill-color);\n",
              "    }\n",
              "    20% {\n",
              "      border-color: transparent;\n",
              "      border-left-color: var(--fill-color);\n",
              "      border-top-color: var(--fill-color);\n",
              "    }\n",
              "    30% {\n",
              "      border-color: transparent;\n",
              "      border-left-color: var(--fill-color);\n",
              "      border-top-color: var(--fill-color);\n",
              "      border-right-color: var(--fill-color);\n",
              "    }\n",
              "    40% {\n",
              "      border-color: transparent;\n",
              "      border-right-color: var(--fill-color);\n",
              "      border-top-color: var(--fill-color);\n",
              "    }\n",
              "    60% {\n",
              "      border-color: transparent;\n",
              "      border-right-color: var(--fill-color);\n",
              "    }\n",
              "    80% {\n",
              "      border-color: transparent;\n",
              "      border-right-color: var(--fill-color);\n",
              "      border-bottom-color: var(--fill-color);\n",
              "    }\n",
              "    90% {\n",
              "      border-color: transparent;\n",
              "      border-bottom-color: var(--fill-color);\n",
              "    }\n",
              "  }\n",
              "</style>\n",
              "\n",
              "  <script>\n",
              "    async function quickchart(key) {\n",
              "      const quickchartButtonEl =\n",
              "        document.querySelector('#' + key + ' button');\n",
              "      quickchartButtonEl.disabled = true;  // To prevent multiple clicks.\n",
              "      quickchartButtonEl.classList.add('colab-df-spinner');\n",
              "      try {\n",
              "        const charts = await google.colab.kernel.invokeFunction(\n",
              "            'suggestCharts', [key], {});\n",
              "      } catch (error) {\n",
              "        console.error('Error during call to suggestCharts:', error);\n",
              "      }\n",
              "      quickchartButtonEl.classList.remove('colab-df-spinner');\n",
              "      quickchartButtonEl.classList.add('colab-df-quickchart-complete');\n",
              "    }\n",
              "    (() => {\n",
              "      let quickchartButtonEl =\n",
              "        document.querySelector('#df-060485da-5d21-4629-9026-e69ef90c1b7b button');\n",
              "      quickchartButtonEl.style.display =\n",
              "        google.colab.kernel.accessAllowed ? 'block' : 'none';\n",
              "    })();\n",
              "  </script>\n",
              "</div>\n",
              "\n",
              "    </div>\n",
              "  </div>\n"
            ],
            "application/vnd.google.colaboratory.intrinsic+json": {
              "type": "dataframe",
              "variable_name": "df",
              "summary": "{\n  \"name\": \"df\",\n  \"rows\": 81479,\n  \"fields\": [\n    {\n      \"column\": \"Origen\",\n      \"properties\": {\n        \"dtype\": \"category\",\n        \"num_unique_values\": 17,\n        \"samples\": [\n          \"AQP\",\n          \"AYP\",\n          \"ATA\"\n        ],\n        \"semantic_type\": \"\",\n        \"description\": \"\"\n      }\n    },\n    {\n      \"column\": \"Hora de Salida\",\n      \"properties\": {\n        \"dtype\": \"category\",\n        \"num_unique_values\": 129,\n        \"samples\": [\n          \"08:45:00\",\n          \"18:45:00\",\n          \"17:25:00\"\n        ],\n        \"semantic_type\": \"\",\n        \"description\": \"\"\n      }\n    },\n    {\n      \"column\": \"Hora de Llegada\",\n      \"properties\": {\n        \"dtype\": \"category\",\n        \"num_unique_values\": 133,\n        \"samples\": [\n          \"05:35:00\",\n          \"20:25:00\",\n          \"20:10:00\"\n        ],\n        \"semantic_type\": \"\",\n        \"description\": \"\"\n      }\n    },\n    {\n      \"column\": \"Destino\",\n      \"properties\": {\n        \"dtype\": \"category\",\n        \"num_unique_values\": 17,\n        \"samples\": [\n          \"LIM\",\n          \"CUZ\",\n          \"ATA\"\n        ],\n        \"semantic_type\": \"\",\n        \"description\": \"\"\n      }\n    },\n    {\n      \"column\": \"Duraci\\u00f3n\",\n      \"properties\": {\n        \"dtype\": \"category\",\n        \"num_unique_values\": 170,\n        \"samples\": [\n          \"1h 15min\",\n          \"6h 15min\",\n          \"8h 0min\"\n        ],\n        \"semantic_type\": \"\",\n        \"description\": \"\"\n      }\n    },\n    {\n      \"column\": \"Tarifa\",\n      \"properties\": {\n        \"dtype\": \"number\",\n        \"std\": 53.02788013379443,\n        \"min\": 22.62,\n        \"max\": 594.85,\n        \"num_unique_values\": 753,\n        \"samples\": [\n          185.41,\n          33.65,\n          84.39\n        ],\n        \"semantic_type\": \"\",\n        \"description\": \"\"\n      }\n    },\n    {\n      \"column\": \"Directo\",\n      \"properties\": {\n        \"dtype\": \"category\",\n        \"num_unique_values\": 2,\n        \"samples\": [\n          \"No\",\n          \"S\\u00ed\"\n        ],\n        \"semantic_type\": \"\",\n        \"description\": \"\"\n      }\n    },\n    {\n      \"column\": \"Fecha de Consulta\",\n      \"properties\": {\n        \"dtype\": \"object\",\n        \"num_unique_values\": 11059,\n        \"samples\": [\n          \"2024-10-16 14:08:47\",\n          \"2024-10-14 19:16:58\"\n        ],\n        \"semantic_type\": \"\",\n        \"description\": \"\"\n      }\n    },\n    {\n      \"column\": \"Duracion_min\",\n      \"properties\": {\n        \"dtype\": \"number\",\n        \"std\": 198,\n        \"min\": 45,\n        \"max\": 1425,\n        \"num_unique_values\": 170,\n        \"samples\": [\n          75,\n          375\n        ],\n        \"semantic_type\": \"\",\n        \"description\": \"\"\n      }\n    }\n  ]\n}"
            }
          },
          "metadata": {},
          "execution_count": 24
        }
      ]
    },
    {
      "cell_type": "markdown",
      "source": [
        "Eliminar la columna Duración --> ya contamos con la columna Duracion_min que es la Duración expresada en minutos"
      ],
      "metadata": {
        "id": "-o067lozcZUv"
      }
    },
    {
      "cell_type": "code",
      "source": [
        "df = df.drop('Duración', axis=1)\n",
        "df.head()"
      ],
      "metadata": {
        "colab": {
          "base_uri": "https://localhost:8080/",
          "height": 206
        },
        "id": "O3HI9401b7IW",
        "outputId": "0025302d-a6d2-4f41-e08d-90742c6f998f"
      },
      "execution_count": null,
      "outputs": [
        {
          "output_type": "execute_result",
          "data": {
            "text/plain": [
              "  Origen Hora de Salida Hora de Llegada Destino  Tarifa Directo  \\\n",
              "0    AQP       17:15:00        18:40:00     LIM   46.15      Sí   \n",
              "1    AQP       09:40:00        11:10:00     LIM   46.15      Sí   \n",
              "2    AQP       10:30:00        12:00:00     LIM   46.15      Sí   \n",
              "3    AQP       10:50:00        12:20:00     LIM   46.15      Sí   \n",
              "4    AQP       11:55:00        13:25:00     LIM   46.15      Sí   \n",
              "\n",
              "     Fecha de Consulta  Duracion_min  \n",
              "0  2024-10-29 18:01:24            85  \n",
              "1  2024-10-29 18:01:24            90  \n",
              "2  2024-10-29 18:01:24            90  \n",
              "3  2024-10-29 18:01:24            90  \n",
              "4  2024-10-29 18:01:24            90  "
            ],
            "text/html": [
              "\n",
              "  <div id=\"df-418694bd-df2e-40a6-b129-196907f2a387\" class=\"colab-df-container\">\n",
              "    <div>\n",
              "<style scoped>\n",
              "    .dataframe tbody tr th:only-of-type {\n",
              "        vertical-align: middle;\n",
              "    }\n",
              "\n",
              "    .dataframe tbody tr th {\n",
              "        vertical-align: top;\n",
              "    }\n",
              "\n",
              "    .dataframe thead th {\n",
              "        text-align: right;\n",
              "    }\n",
              "</style>\n",
              "<table border=\"1\" class=\"dataframe\">\n",
              "  <thead>\n",
              "    <tr style=\"text-align: right;\">\n",
              "      <th></th>\n",
              "      <th>Origen</th>\n",
              "      <th>Hora de Salida</th>\n",
              "      <th>Hora de Llegada</th>\n",
              "      <th>Destino</th>\n",
              "      <th>Tarifa</th>\n",
              "      <th>Directo</th>\n",
              "      <th>Fecha de Consulta</th>\n",
              "      <th>Duracion_min</th>\n",
              "    </tr>\n",
              "  </thead>\n",
              "  <tbody>\n",
              "    <tr>\n",
              "      <th>0</th>\n",
              "      <td>AQP</td>\n",
              "      <td>17:15:00</td>\n",
              "      <td>18:40:00</td>\n",
              "      <td>LIM</td>\n",
              "      <td>46.15</td>\n",
              "      <td>Sí</td>\n",
              "      <td>2024-10-29 18:01:24</td>\n",
              "      <td>85</td>\n",
              "    </tr>\n",
              "    <tr>\n",
              "      <th>1</th>\n",
              "      <td>AQP</td>\n",
              "      <td>09:40:00</td>\n",
              "      <td>11:10:00</td>\n",
              "      <td>LIM</td>\n",
              "      <td>46.15</td>\n",
              "      <td>Sí</td>\n",
              "      <td>2024-10-29 18:01:24</td>\n",
              "      <td>90</td>\n",
              "    </tr>\n",
              "    <tr>\n",
              "      <th>2</th>\n",
              "      <td>AQP</td>\n",
              "      <td>10:30:00</td>\n",
              "      <td>12:00:00</td>\n",
              "      <td>LIM</td>\n",
              "      <td>46.15</td>\n",
              "      <td>Sí</td>\n",
              "      <td>2024-10-29 18:01:24</td>\n",
              "      <td>90</td>\n",
              "    </tr>\n",
              "    <tr>\n",
              "      <th>3</th>\n",
              "      <td>AQP</td>\n",
              "      <td>10:50:00</td>\n",
              "      <td>12:20:00</td>\n",
              "      <td>LIM</td>\n",
              "      <td>46.15</td>\n",
              "      <td>Sí</td>\n",
              "      <td>2024-10-29 18:01:24</td>\n",
              "      <td>90</td>\n",
              "    </tr>\n",
              "    <tr>\n",
              "      <th>4</th>\n",
              "      <td>AQP</td>\n",
              "      <td>11:55:00</td>\n",
              "      <td>13:25:00</td>\n",
              "      <td>LIM</td>\n",
              "      <td>46.15</td>\n",
              "      <td>Sí</td>\n",
              "      <td>2024-10-29 18:01:24</td>\n",
              "      <td>90</td>\n",
              "    </tr>\n",
              "  </tbody>\n",
              "</table>\n",
              "</div>\n",
              "    <div class=\"colab-df-buttons\">\n",
              "\n",
              "  <div class=\"colab-df-container\">\n",
              "    <button class=\"colab-df-convert\" onclick=\"convertToInteractive('df-418694bd-df2e-40a6-b129-196907f2a387')\"\n",
              "            title=\"Convert this dataframe to an interactive table.\"\n",
              "            style=\"display:none;\">\n",
              "\n",
              "  <svg xmlns=\"http://www.w3.org/2000/svg\" height=\"24px\" viewBox=\"0 -960 960 960\">\n",
              "    <path d=\"M120-120v-720h720v720H120Zm60-500h600v-160H180v160Zm220 220h160v-160H400v160Zm0 220h160v-160H400v160ZM180-400h160v-160H180v160Zm440 0h160v-160H620v160ZM180-180h160v-160H180v160Zm440 0h160v-160H620v160Z\"/>\n",
              "  </svg>\n",
              "    </button>\n",
              "\n",
              "  <style>\n",
              "    .colab-df-container {\n",
              "      display:flex;\n",
              "      gap: 12px;\n",
              "    }\n",
              "\n",
              "    .colab-df-convert {\n",
              "      background-color: #E8F0FE;\n",
              "      border: none;\n",
              "      border-radius: 50%;\n",
              "      cursor: pointer;\n",
              "      display: none;\n",
              "      fill: #1967D2;\n",
              "      height: 32px;\n",
              "      padding: 0 0 0 0;\n",
              "      width: 32px;\n",
              "    }\n",
              "\n",
              "    .colab-df-convert:hover {\n",
              "      background-color: #E2EBFA;\n",
              "      box-shadow: 0px 1px 2px rgba(60, 64, 67, 0.3), 0px 1px 3px 1px rgba(60, 64, 67, 0.15);\n",
              "      fill: #174EA6;\n",
              "    }\n",
              "\n",
              "    .colab-df-buttons div {\n",
              "      margin-bottom: 4px;\n",
              "    }\n",
              "\n",
              "    [theme=dark] .colab-df-convert {\n",
              "      background-color: #3B4455;\n",
              "      fill: #D2E3FC;\n",
              "    }\n",
              "\n",
              "    [theme=dark] .colab-df-convert:hover {\n",
              "      background-color: #434B5C;\n",
              "      box-shadow: 0px 1px 3px 1px rgba(0, 0, 0, 0.15);\n",
              "      filter: drop-shadow(0px 1px 2px rgba(0, 0, 0, 0.3));\n",
              "      fill: #FFFFFF;\n",
              "    }\n",
              "  </style>\n",
              "\n",
              "    <script>\n",
              "      const buttonEl =\n",
              "        document.querySelector('#df-418694bd-df2e-40a6-b129-196907f2a387 button.colab-df-convert');\n",
              "      buttonEl.style.display =\n",
              "        google.colab.kernel.accessAllowed ? 'block' : 'none';\n",
              "\n",
              "      async function convertToInteractive(key) {\n",
              "        const element = document.querySelector('#df-418694bd-df2e-40a6-b129-196907f2a387');\n",
              "        const dataTable =\n",
              "          await google.colab.kernel.invokeFunction('convertToInteractive',\n",
              "                                                    [key], {});\n",
              "        if (!dataTable) return;\n",
              "\n",
              "        const docLinkHtml = 'Like what you see? Visit the ' +\n",
              "          '<a target=\"_blank\" href=https://colab.research.google.com/notebooks/data_table.ipynb>data table notebook</a>'\n",
              "          + ' to learn more about interactive tables.';\n",
              "        element.innerHTML = '';\n",
              "        dataTable['output_type'] = 'display_data';\n",
              "        await google.colab.output.renderOutput(dataTable, element);\n",
              "        const docLink = document.createElement('div');\n",
              "        docLink.innerHTML = docLinkHtml;\n",
              "        element.appendChild(docLink);\n",
              "      }\n",
              "    </script>\n",
              "  </div>\n",
              "\n",
              "\n",
              "<div id=\"df-cb86b8c8-a33d-4244-a27c-a3835151144c\">\n",
              "  <button class=\"colab-df-quickchart\" onclick=\"quickchart('df-cb86b8c8-a33d-4244-a27c-a3835151144c')\"\n",
              "            title=\"Suggest charts\"\n",
              "            style=\"display:none;\">\n",
              "\n",
              "<svg xmlns=\"http://www.w3.org/2000/svg\" height=\"24px\"viewBox=\"0 0 24 24\"\n",
              "     width=\"24px\">\n",
              "    <g>\n",
              "        <path d=\"M19 3H5c-1.1 0-2 .9-2 2v14c0 1.1.9 2 2 2h14c1.1 0 2-.9 2-2V5c0-1.1-.9-2-2-2zM9 17H7v-7h2v7zm4 0h-2V7h2v10zm4 0h-2v-4h2v4z\"/>\n",
              "    </g>\n",
              "</svg>\n",
              "  </button>\n",
              "\n",
              "<style>\n",
              "  .colab-df-quickchart {\n",
              "      --bg-color: #E8F0FE;\n",
              "      --fill-color: #1967D2;\n",
              "      --hover-bg-color: #E2EBFA;\n",
              "      --hover-fill-color: #174EA6;\n",
              "      --disabled-fill-color: #AAA;\n",
              "      --disabled-bg-color: #DDD;\n",
              "  }\n",
              "\n",
              "  [theme=dark] .colab-df-quickchart {\n",
              "      --bg-color: #3B4455;\n",
              "      --fill-color: #D2E3FC;\n",
              "      --hover-bg-color: #434B5C;\n",
              "      --hover-fill-color: #FFFFFF;\n",
              "      --disabled-bg-color: #3B4455;\n",
              "      --disabled-fill-color: #666;\n",
              "  }\n",
              "\n",
              "  .colab-df-quickchart {\n",
              "    background-color: var(--bg-color);\n",
              "    border: none;\n",
              "    border-radius: 50%;\n",
              "    cursor: pointer;\n",
              "    display: none;\n",
              "    fill: var(--fill-color);\n",
              "    height: 32px;\n",
              "    padding: 0;\n",
              "    width: 32px;\n",
              "  }\n",
              "\n",
              "  .colab-df-quickchart:hover {\n",
              "    background-color: var(--hover-bg-color);\n",
              "    box-shadow: 0 1px 2px rgba(60, 64, 67, 0.3), 0 1px 3px 1px rgba(60, 64, 67, 0.15);\n",
              "    fill: var(--button-hover-fill-color);\n",
              "  }\n",
              "\n",
              "  .colab-df-quickchart-complete:disabled,\n",
              "  .colab-df-quickchart-complete:disabled:hover {\n",
              "    background-color: var(--disabled-bg-color);\n",
              "    fill: var(--disabled-fill-color);\n",
              "    box-shadow: none;\n",
              "  }\n",
              "\n",
              "  .colab-df-spinner {\n",
              "    border: 2px solid var(--fill-color);\n",
              "    border-color: transparent;\n",
              "    border-bottom-color: var(--fill-color);\n",
              "    animation:\n",
              "      spin 1s steps(1) infinite;\n",
              "  }\n",
              "\n",
              "  @keyframes spin {\n",
              "    0% {\n",
              "      border-color: transparent;\n",
              "      border-bottom-color: var(--fill-color);\n",
              "      border-left-color: var(--fill-color);\n",
              "    }\n",
              "    20% {\n",
              "      border-color: transparent;\n",
              "      border-left-color: var(--fill-color);\n",
              "      border-top-color: var(--fill-color);\n",
              "    }\n",
              "    30% {\n",
              "      border-color: transparent;\n",
              "      border-left-color: var(--fill-color);\n",
              "      border-top-color: var(--fill-color);\n",
              "      border-right-color: var(--fill-color);\n",
              "    }\n",
              "    40% {\n",
              "      border-color: transparent;\n",
              "      border-right-color: var(--fill-color);\n",
              "      border-top-color: var(--fill-color);\n",
              "    }\n",
              "    60% {\n",
              "      border-color: transparent;\n",
              "      border-right-color: var(--fill-color);\n",
              "    }\n",
              "    80% {\n",
              "      border-color: transparent;\n",
              "      border-right-color: var(--fill-color);\n",
              "      border-bottom-color: var(--fill-color);\n",
              "    }\n",
              "    90% {\n",
              "      border-color: transparent;\n",
              "      border-bottom-color: var(--fill-color);\n",
              "    }\n",
              "  }\n",
              "</style>\n",
              "\n",
              "  <script>\n",
              "    async function quickchart(key) {\n",
              "      const quickchartButtonEl =\n",
              "        document.querySelector('#' + key + ' button');\n",
              "      quickchartButtonEl.disabled = true;  // To prevent multiple clicks.\n",
              "      quickchartButtonEl.classList.add('colab-df-spinner');\n",
              "      try {\n",
              "        const charts = await google.colab.kernel.invokeFunction(\n",
              "            'suggestCharts', [key], {});\n",
              "      } catch (error) {\n",
              "        console.error('Error during call to suggestCharts:', error);\n",
              "      }\n",
              "      quickchartButtonEl.classList.remove('colab-df-spinner');\n",
              "      quickchartButtonEl.classList.add('colab-df-quickchart-complete');\n",
              "    }\n",
              "    (() => {\n",
              "      let quickchartButtonEl =\n",
              "        document.querySelector('#df-cb86b8c8-a33d-4244-a27c-a3835151144c button');\n",
              "      quickchartButtonEl.style.display =\n",
              "        google.colab.kernel.accessAllowed ? 'block' : 'none';\n",
              "    })();\n",
              "  </script>\n",
              "</div>\n",
              "\n",
              "    </div>\n",
              "  </div>\n"
            ],
            "application/vnd.google.colaboratory.intrinsic+json": {
              "type": "dataframe",
              "variable_name": "df",
              "summary": "{\n  \"name\": \"df\",\n  \"rows\": 81479,\n  \"fields\": [\n    {\n      \"column\": \"Origen\",\n      \"properties\": {\n        \"dtype\": \"category\",\n        \"num_unique_values\": 17,\n        \"samples\": [\n          \"AQP\",\n          \"AYP\",\n          \"ATA\"\n        ],\n        \"semantic_type\": \"\",\n        \"description\": \"\"\n      }\n    },\n    {\n      \"column\": \"Hora de Salida\",\n      \"properties\": {\n        \"dtype\": \"category\",\n        \"num_unique_values\": 129,\n        \"samples\": [\n          \"08:45:00\",\n          \"18:45:00\",\n          \"17:25:00\"\n        ],\n        \"semantic_type\": \"\",\n        \"description\": \"\"\n      }\n    },\n    {\n      \"column\": \"Hora de Llegada\",\n      \"properties\": {\n        \"dtype\": \"category\",\n        \"num_unique_values\": 133,\n        \"samples\": [\n          \"05:35:00\",\n          \"20:25:00\",\n          \"20:10:00\"\n        ],\n        \"semantic_type\": \"\",\n        \"description\": \"\"\n      }\n    },\n    {\n      \"column\": \"Destino\",\n      \"properties\": {\n        \"dtype\": \"category\",\n        \"num_unique_values\": 17,\n        \"samples\": [\n          \"LIM\",\n          \"CUZ\",\n          \"ATA\"\n        ],\n        \"semantic_type\": \"\",\n        \"description\": \"\"\n      }\n    },\n    {\n      \"column\": \"Tarifa\",\n      \"properties\": {\n        \"dtype\": \"number\",\n        \"std\": 53.02788013379443,\n        \"min\": 22.62,\n        \"max\": 594.85,\n        \"num_unique_values\": 753,\n        \"samples\": [\n          185.41,\n          33.65,\n          84.39\n        ],\n        \"semantic_type\": \"\",\n        \"description\": \"\"\n      }\n    },\n    {\n      \"column\": \"Directo\",\n      \"properties\": {\n        \"dtype\": \"category\",\n        \"num_unique_values\": 2,\n        \"samples\": [\n          \"No\",\n          \"S\\u00ed\"\n        ],\n        \"semantic_type\": \"\",\n        \"description\": \"\"\n      }\n    },\n    {\n      \"column\": \"Fecha de Consulta\",\n      \"properties\": {\n        \"dtype\": \"object\",\n        \"num_unique_values\": 11059,\n        \"samples\": [\n          \"2024-10-16 14:08:47\",\n          \"2024-10-14 19:16:58\"\n        ],\n        \"semantic_type\": \"\",\n        \"description\": \"\"\n      }\n    },\n    {\n      \"column\": \"Duracion_min\",\n      \"properties\": {\n        \"dtype\": \"number\",\n        \"std\": 198,\n        \"min\": 45,\n        \"max\": 1425,\n        \"num_unique_values\": 170,\n        \"samples\": [\n          75,\n          375\n        ],\n        \"semantic_type\": \"\",\n        \"description\": \"\"\n      }\n    }\n  ]\n}"
            }
          },
          "metadata": {},
          "execution_count": 25
        }
      ]
    },
    {
      "cell_type": "markdown",
      "source": [
        "**Preprocesamiento de variables categóricas**\n",
        "\n",
        "\n",
        "Utilizamos Label Encoding para las variables categóricas Origen, Destino y Directo."
      ],
      "metadata": {
        "id": "w8NR3so0efTH"
      }
    },
    {
      "cell_type": "code",
      "source": [
        "from sklearn.preprocessing import LabelEncoder\n",
        "\n",
        "# Instanciar el codificador\n",
        "le = LabelEncoder()\n",
        "\n",
        "# Aplicar Label Encoding a las columnas categóricas\n",
        "df['Origen'] = le.fit_transform(df['Origen'])\n",
        "df['Destino'] = le.fit_transform(df['Destino'])\n",
        "df['Directo'] = le.fit_transform(df['Directo'])  # Convertir 'Sí' a 1 y 'No' a 0\n"
      ],
      "metadata": {
        "id": "kboACRPzebVH"
      },
      "execution_count": null,
      "outputs": []
    },
    {
      "cell_type": "code",
      "source": [
        "df.head()"
      ],
      "metadata": {
        "colab": {
          "base_uri": "https://localhost:8080/",
          "height": 206
        },
        "id": "PzD8m6nTfNif",
        "outputId": "9c79b259-1a68-4b7b-8727-23eaa844f149"
      },
      "execution_count": null,
      "outputs": [
        {
          "output_type": "execute_result",
          "data": {
            "text/plain": [
              "   Origen Hora de Salida Hora de Llegada  Destino  Tarifa  Directo  \\\n",
              "0       0       17:15:00        18:40:00        9   46.15        1   \n",
              "1       0       09:40:00        11:10:00        9   46.15        1   \n",
              "2       0       10:30:00        12:00:00        9   46.15        1   \n",
              "3       0       10:50:00        12:20:00        9   46.15        1   \n",
              "4       0       11:55:00        13:25:00        9   46.15        1   \n",
              "\n",
              "     Fecha de Consulta  Duracion_min  \n",
              "0  2024-10-29 18:01:24            85  \n",
              "1  2024-10-29 18:01:24            90  \n",
              "2  2024-10-29 18:01:24            90  \n",
              "3  2024-10-29 18:01:24            90  \n",
              "4  2024-10-29 18:01:24            90  "
            ],
            "text/html": [
              "\n",
              "  <div id=\"df-bed3e642-a3e7-4bf0-8228-1d618bcdf06c\" class=\"colab-df-container\">\n",
              "    <div>\n",
              "<style scoped>\n",
              "    .dataframe tbody tr th:only-of-type {\n",
              "        vertical-align: middle;\n",
              "    }\n",
              "\n",
              "    .dataframe tbody tr th {\n",
              "        vertical-align: top;\n",
              "    }\n",
              "\n",
              "    .dataframe thead th {\n",
              "        text-align: right;\n",
              "    }\n",
              "</style>\n",
              "<table border=\"1\" class=\"dataframe\">\n",
              "  <thead>\n",
              "    <tr style=\"text-align: right;\">\n",
              "      <th></th>\n",
              "      <th>Origen</th>\n",
              "      <th>Hora de Salida</th>\n",
              "      <th>Hora de Llegada</th>\n",
              "      <th>Destino</th>\n",
              "      <th>Tarifa</th>\n",
              "      <th>Directo</th>\n",
              "      <th>Fecha de Consulta</th>\n",
              "      <th>Duracion_min</th>\n",
              "    </tr>\n",
              "  </thead>\n",
              "  <tbody>\n",
              "    <tr>\n",
              "      <th>0</th>\n",
              "      <td>0</td>\n",
              "      <td>17:15:00</td>\n",
              "      <td>18:40:00</td>\n",
              "      <td>9</td>\n",
              "      <td>46.15</td>\n",
              "      <td>1</td>\n",
              "      <td>2024-10-29 18:01:24</td>\n",
              "      <td>85</td>\n",
              "    </tr>\n",
              "    <tr>\n",
              "      <th>1</th>\n",
              "      <td>0</td>\n",
              "      <td>09:40:00</td>\n",
              "      <td>11:10:00</td>\n",
              "      <td>9</td>\n",
              "      <td>46.15</td>\n",
              "      <td>1</td>\n",
              "      <td>2024-10-29 18:01:24</td>\n",
              "      <td>90</td>\n",
              "    </tr>\n",
              "    <tr>\n",
              "      <th>2</th>\n",
              "      <td>0</td>\n",
              "      <td>10:30:00</td>\n",
              "      <td>12:00:00</td>\n",
              "      <td>9</td>\n",
              "      <td>46.15</td>\n",
              "      <td>1</td>\n",
              "      <td>2024-10-29 18:01:24</td>\n",
              "      <td>90</td>\n",
              "    </tr>\n",
              "    <tr>\n",
              "      <th>3</th>\n",
              "      <td>0</td>\n",
              "      <td>10:50:00</td>\n",
              "      <td>12:20:00</td>\n",
              "      <td>9</td>\n",
              "      <td>46.15</td>\n",
              "      <td>1</td>\n",
              "      <td>2024-10-29 18:01:24</td>\n",
              "      <td>90</td>\n",
              "    </tr>\n",
              "    <tr>\n",
              "      <th>4</th>\n",
              "      <td>0</td>\n",
              "      <td>11:55:00</td>\n",
              "      <td>13:25:00</td>\n",
              "      <td>9</td>\n",
              "      <td>46.15</td>\n",
              "      <td>1</td>\n",
              "      <td>2024-10-29 18:01:24</td>\n",
              "      <td>90</td>\n",
              "    </tr>\n",
              "  </tbody>\n",
              "</table>\n",
              "</div>\n",
              "    <div class=\"colab-df-buttons\">\n",
              "\n",
              "  <div class=\"colab-df-container\">\n",
              "    <button class=\"colab-df-convert\" onclick=\"convertToInteractive('df-bed3e642-a3e7-4bf0-8228-1d618bcdf06c')\"\n",
              "            title=\"Convert this dataframe to an interactive table.\"\n",
              "            style=\"display:none;\">\n",
              "\n",
              "  <svg xmlns=\"http://www.w3.org/2000/svg\" height=\"24px\" viewBox=\"0 -960 960 960\">\n",
              "    <path d=\"M120-120v-720h720v720H120Zm60-500h600v-160H180v160Zm220 220h160v-160H400v160Zm0 220h160v-160H400v160ZM180-400h160v-160H180v160Zm440 0h160v-160H620v160ZM180-180h160v-160H180v160Zm440 0h160v-160H620v160Z\"/>\n",
              "  </svg>\n",
              "    </button>\n",
              "\n",
              "  <style>\n",
              "    .colab-df-container {\n",
              "      display:flex;\n",
              "      gap: 12px;\n",
              "    }\n",
              "\n",
              "    .colab-df-convert {\n",
              "      background-color: #E8F0FE;\n",
              "      border: none;\n",
              "      border-radius: 50%;\n",
              "      cursor: pointer;\n",
              "      display: none;\n",
              "      fill: #1967D2;\n",
              "      height: 32px;\n",
              "      padding: 0 0 0 0;\n",
              "      width: 32px;\n",
              "    }\n",
              "\n",
              "    .colab-df-convert:hover {\n",
              "      background-color: #E2EBFA;\n",
              "      box-shadow: 0px 1px 2px rgba(60, 64, 67, 0.3), 0px 1px 3px 1px rgba(60, 64, 67, 0.15);\n",
              "      fill: #174EA6;\n",
              "    }\n",
              "\n",
              "    .colab-df-buttons div {\n",
              "      margin-bottom: 4px;\n",
              "    }\n",
              "\n",
              "    [theme=dark] .colab-df-convert {\n",
              "      background-color: #3B4455;\n",
              "      fill: #D2E3FC;\n",
              "    }\n",
              "\n",
              "    [theme=dark] .colab-df-convert:hover {\n",
              "      background-color: #434B5C;\n",
              "      box-shadow: 0px 1px 3px 1px rgba(0, 0, 0, 0.15);\n",
              "      filter: drop-shadow(0px 1px 2px rgba(0, 0, 0, 0.3));\n",
              "      fill: #FFFFFF;\n",
              "    }\n",
              "  </style>\n",
              "\n",
              "    <script>\n",
              "      const buttonEl =\n",
              "        document.querySelector('#df-bed3e642-a3e7-4bf0-8228-1d618bcdf06c button.colab-df-convert');\n",
              "      buttonEl.style.display =\n",
              "        google.colab.kernel.accessAllowed ? 'block' : 'none';\n",
              "\n",
              "      async function convertToInteractive(key) {\n",
              "        const element = document.querySelector('#df-bed3e642-a3e7-4bf0-8228-1d618bcdf06c');\n",
              "        const dataTable =\n",
              "          await google.colab.kernel.invokeFunction('convertToInteractive',\n",
              "                                                    [key], {});\n",
              "        if (!dataTable) return;\n",
              "\n",
              "        const docLinkHtml = 'Like what you see? Visit the ' +\n",
              "          '<a target=\"_blank\" href=https://colab.research.google.com/notebooks/data_table.ipynb>data table notebook</a>'\n",
              "          + ' to learn more about interactive tables.';\n",
              "        element.innerHTML = '';\n",
              "        dataTable['output_type'] = 'display_data';\n",
              "        await google.colab.output.renderOutput(dataTable, element);\n",
              "        const docLink = document.createElement('div');\n",
              "        docLink.innerHTML = docLinkHtml;\n",
              "        element.appendChild(docLink);\n",
              "      }\n",
              "    </script>\n",
              "  </div>\n",
              "\n",
              "\n",
              "<div id=\"df-1a75ed67-b716-4ec3-b9c2-113deb8a4ae8\">\n",
              "  <button class=\"colab-df-quickchart\" onclick=\"quickchart('df-1a75ed67-b716-4ec3-b9c2-113deb8a4ae8')\"\n",
              "            title=\"Suggest charts\"\n",
              "            style=\"display:none;\">\n",
              "\n",
              "<svg xmlns=\"http://www.w3.org/2000/svg\" height=\"24px\"viewBox=\"0 0 24 24\"\n",
              "     width=\"24px\">\n",
              "    <g>\n",
              "        <path d=\"M19 3H5c-1.1 0-2 .9-2 2v14c0 1.1.9 2 2 2h14c1.1 0 2-.9 2-2V5c0-1.1-.9-2-2-2zM9 17H7v-7h2v7zm4 0h-2V7h2v10zm4 0h-2v-4h2v4z\"/>\n",
              "    </g>\n",
              "</svg>\n",
              "  </button>\n",
              "\n",
              "<style>\n",
              "  .colab-df-quickchart {\n",
              "      --bg-color: #E8F0FE;\n",
              "      --fill-color: #1967D2;\n",
              "      --hover-bg-color: #E2EBFA;\n",
              "      --hover-fill-color: #174EA6;\n",
              "      --disabled-fill-color: #AAA;\n",
              "      --disabled-bg-color: #DDD;\n",
              "  }\n",
              "\n",
              "  [theme=dark] .colab-df-quickchart {\n",
              "      --bg-color: #3B4455;\n",
              "      --fill-color: #D2E3FC;\n",
              "      --hover-bg-color: #434B5C;\n",
              "      --hover-fill-color: #FFFFFF;\n",
              "      --disabled-bg-color: #3B4455;\n",
              "      --disabled-fill-color: #666;\n",
              "  }\n",
              "\n",
              "  .colab-df-quickchart {\n",
              "    background-color: var(--bg-color);\n",
              "    border: none;\n",
              "    border-radius: 50%;\n",
              "    cursor: pointer;\n",
              "    display: none;\n",
              "    fill: var(--fill-color);\n",
              "    height: 32px;\n",
              "    padding: 0;\n",
              "    width: 32px;\n",
              "  }\n",
              "\n",
              "  .colab-df-quickchart:hover {\n",
              "    background-color: var(--hover-bg-color);\n",
              "    box-shadow: 0 1px 2px rgba(60, 64, 67, 0.3), 0 1px 3px 1px rgba(60, 64, 67, 0.15);\n",
              "    fill: var(--button-hover-fill-color);\n",
              "  }\n",
              "\n",
              "  .colab-df-quickchart-complete:disabled,\n",
              "  .colab-df-quickchart-complete:disabled:hover {\n",
              "    background-color: var(--disabled-bg-color);\n",
              "    fill: var(--disabled-fill-color);\n",
              "    box-shadow: none;\n",
              "  }\n",
              "\n",
              "  .colab-df-spinner {\n",
              "    border: 2px solid var(--fill-color);\n",
              "    border-color: transparent;\n",
              "    border-bottom-color: var(--fill-color);\n",
              "    animation:\n",
              "      spin 1s steps(1) infinite;\n",
              "  }\n",
              "\n",
              "  @keyframes spin {\n",
              "    0% {\n",
              "      border-color: transparent;\n",
              "      border-bottom-color: var(--fill-color);\n",
              "      border-left-color: var(--fill-color);\n",
              "    }\n",
              "    20% {\n",
              "      border-color: transparent;\n",
              "      border-left-color: var(--fill-color);\n",
              "      border-top-color: var(--fill-color);\n",
              "    }\n",
              "    30% {\n",
              "      border-color: transparent;\n",
              "      border-left-color: var(--fill-color);\n",
              "      border-top-color: var(--fill-color);\n",
              "      border-right-color: var(--fill-color);\n",
              "    }\n",
              "    40% {\n",
              "      border-color: transparent;\n",
              "      border-right-color: var(--fill-color);\n",
              "      border-top-color: var(--fill-color);\n",
              "    }\n",
              "    60% {\n",
              "      border-color: transparent;\n",
              "      border-right-color: var(--fill-color);\n",
              "    }\n",
              "    80% {\n",
              "      border-color: transparent;\n",
              "      border-right-color: var(--fill-color);\n",
              "      border-bottom-color: var(--fill-color);\n",
              "    }\n",
              "    90% {\n",
              "      border-color: transparent;\n",
              "      border-bottom-color: var(--fill-color);\n",
              "    }\n",
              "  }\n",
              "</style>\n",
              "\n",
              "  <script>\n",
              "    async function quickchart(key) {\n",
              "      const quickchartButtonEl =\n",
              "        document.querySelector('#' + key + ' button');\n",
              "      quickchartButtonEl.disabled = true;  // To prevent multiple clicks.\n",
              "      quickchartButtonEl.classList.add('colab-df-spinner');\n",
              "      try {\n",
              "        const charts = await google.colab.kernel.invokeFunction(\n",
              "            'suggestCharts', [key], {});\n",
              "      } catch (error) {\n",
              "        console.error('Error during call to suggestCharts:', error);\n",
              "      }\n",
              "      quickchartButtonEl.classList.remove('colab-df-spinner');\n",
              "      quickchartButtonEl.classList.add('colab-df-quickchart-complete');\n",
              "    }\n",
              "    (() => {\n",
              "      let quickchartButtonEl =\n",
              "        document.querySelector('#df-1a75ed67-b716-4ec3-b9c2-113deb8a4ae8 button');\n",
              "      quickchartButtonEl.style.display =\n",
              "        google.colab.kernel.accessAllowed ? 'block' : 'none';\n",
              "    })();\n",
              "  </script>\n",
              "</div>\n",
              "\n",
              "    </div>\n",
              "  </div>\n"
            ],
            "application/vnd.google.colaboratory.intrinsic+json": {
              "type": "dataframe",
              "variable_name": "df",
              "summary": "{\n  \"name\": \"df\",\n  \"rows\": 81479,\n  \"fields\": [\n    {\n      \"column\": \"Origen\",\n      \"properties\": {\n        \"dtype\": \"number\",\n        \"std\": 4,\n        \"min\": 0,\n        \"max\": 16,\n        \"num_unique_values\": 17,\n        \"samples\": [\n          0,\n          2,\n          1\n        ],\n        \"semantic_type\": \"\",\n        \"description\": \"\"\n      }\n    },\n    {\n      \"column\": \"Hora de Salida\",\n      \"properties\": {\n        \"dtype\": \"category\",\n        \"num_unique_values\": 129,\n        \"samples\": [\n          \"08:45:00\",\n          \"18:45:00\",\n          \"17:25:00\"\n        ],\n        \"semantic_type\": \"\",\n        \"description\": \"\"\n      }\n    },\n    {\n      \"column\": \"Hora de Llegada\",\n      \"properties\": {\n        \"dtype\": \"category\",\n        \"num_unique_values\": 133,\n        \"samples\": [\n          \"05:35:00\",\n          \"20:25:00\",\n          \"20:10:00\"\n        ],\n        \"semantic_type\": \"\",\n        \"description\": \"\"\n      }\n    },\n    {\n      \"column\": \"Destino\",\n      \"properties\": {\n        \"dtype\": \"number\",\n        \"std\": 4,\n        \"min\": 0,\n        \"max\": 16,\n        \"num_unique_values\": 17,\n        \"samples\": [\n          9,\n          5,\n          1\n        ],\n        \"semantic_type\": \"\",\n        \"description\": \"\"\n      }\n    },\n    {\n      \"column\": \"Tarifa\",\n      \"properties\": {\n        \"dtype\": \"number\",\n        \"std\": 53.02788013379443,\n        \"min\": 22.62,\n        \"max\": 594.85,\n        \"num_unique_values\": 753,\n        \"samples\": [\n          185.41,\n          33.65,\n          84.39\n        ],\n        \"semantic_type\": \"\",\n        \"description\": \"\"\n      }\n    },\n    {\n      \"column\": \"Directo\",\n      \"properties\": {\n        \"dtype\": \"number\",\n        \"std\": 0,\n        \"min\": 0,\n        \"max\": 1,\n        \"num_unique_values\": 2,\n        \"samples\": [\n          0,\n          1\n        ],\n        \"semantic_type\": \"\",\n        \"description\": \"\"\n      }\n    },\n    {\n      \"column\": \"Fecha de Consulta\",\n      \"properties\": {\n        \"dtype\": \"object\",\n        \"num_unique_values\": 11059,\n        \"samples\": [\n          \"2024-10-16 14:08:47\",\n          \"2024-10-14 19:16:58\"\n        ],\n        \"semantic_type\": \"\",\n        \"description\": \"\"\n      }\n    },\n    {\n      \"column\": \"Duracion_min\",\n      \"properties\": {\n        \"dtype\": \"number\",\n        \"std\": 198,\n        \"min\": 45,\n        \"max\": 1425,\n        \"num_unique_values\": 170,\n        \"samples\": [\n          75,\n          375\n        ],\n        \"semantic_type\": \"\",\n        \"description\": \"\"\n      }\n    }\n  ]\n}"
            }
          },
          "metadata": {},
          "execution_count": 27
        }
      ]
    },
    {
      "cell_type": "markdown",
      "source": [
        "**Preprocesamiento de variables temporales**\n",
        "\n",
        "\n",
        "Transformar la Fecha de Consulta a formato de fecha y HH:MM:SS"
      ],
      "metadata": {
        "id": "b8RKGjBGh5EP"
      }
    },
    {
      "cell_type": "code",
      "source": [
        "# Convertir 'Fecha de Consulta' a formato datetime\n",
        "df['Fecha de Consulta'] = pd.to_datetime(df['Fecha de Consulta'])\n",
        "\n",
        "# Separar 'Fecha de Consulta' en 'Fecha de Salida Consulta' y 'Hora de Salida Consulta'\n",
        "df['Fecha de Salida Consulta'] = df['Fecha de Consulta'].dt.date  # Extraer solo la fecha\n",
        "df['Hora de Salida Consulta'] = df['Fecha de Consulta'].dt.time  # Extraer solo la hora\n",
        "\n",
        "# Eliminar la columna original 'Fecha de Consulta' si ya no es necesaria\n",
        "df = df.drop(columns=['Fecha de Consulta'])\n",
        "\n",
        "# Verificar los cambios\n",
        "print(df[['Fecha de Salida Consulta', 'Hora de Salida Consulta']].head())\n"
      ],
      "metadata": {
        "colab": {
          "base_uri": "https://localhost:8080/"
        },
        "id": "ViCE9dvAhfm3",
        "outputId": "c528c819-f4d8-4c59-d05d-dd6ca3d55121"
      },
      "execution_count": null,
      "outputs": [
        {
          "output_type": "stream",
          "name": "stdout",
          "text": [
            "  Fecha de Salida Consulta Hora de Salida Consulta\n",
            "0               2024-10-29                18:01:24\n",
            "1               2024-10-29                18:01:24\n",
            "2               2024-10-29                18:01:24\n",
            "3               2024-10-29                18:01:24\n",
            "4               2024-10-29                18:01:24\n"
          ]
        }
      ]
    },
    {
      "cell_type": "markdown",
      "source": [
        "## **Análisis de Outliers en la Duración del Vuelo**"
      ],
      "metadata": {
        "id": "cVfAYAXZipGO"
      }
    },
    {
      "cell_type": "code",
      "source": [
        "# Verificar los primeros registros del DataFrame para asegurar que las conversiones y nuevas columnas sean correctas\n",
        "print(df.head())\n",
        "print(\"\")\n",
        "# Verificar el tipo de las columnas relevantes\n",
        "print(df.dtypes)\n"
      ],
      "metadata": {
        "colab": {
          "base_uri": "https://localhost:8080/"
        },
        "id": "5HcIEEuIjDvG",
        "outputId": "efe95ecb-8d75-41f3-8cec-0ce93e82f53d"
      },
      "execution_count": null,
      "outputs": [
        {
          "output_type": "stream",
          "name": "stdout",
          "text": [
            "   Origen Hora de Salida Hora de Llegada  Destino  Tarifa  Directo  \\\n",
            "0       0       17:15:00        18:40:00        9   46.15        1   \n",
            "1       0       09:40:00        11:10:00        9   46.15        1   \n",
            "2       0       10:30:00        12:00:00        9   46.15        1   \n",
            "3       0       10:50:00        12:20:00        9   46.15        1   \n",
            "4       0       11:55:00        13:25:00        9   46.15        1   \n",
            "\n",
            "   Duracion_min Fecha de Salida Consulta Hora de Salida Consulta  \n",
            "0            85               2024-10-29                18:01:24  \n",
            "1            90               2024-10-29                18:01:24  \n",
            "2            90               2024-10-29                18:01:24  \n",
            "3            90               2024-10-29                18:01:24  \n",
            "4            90               2024-10-29                18:01:24  \n",
            "\n",
            "Origen                        int64\n",
            "Hora de Salida               object\n",
            "Hora de Llegada              object\n",
            "Destino                       int64\n",
            "Tarifa                      float64\n",
            "Directo                       int64\n",
            "Duracion_min                  int64\n",
            "Fecha de Salida Consulta     object\n",
            "Hora de Salida Consulta      object\n",
            "dtype: object\n"
          ]
        }
      ]
    },
    {
      "cell_type": "code",
      "source": [
        "import seaborn as sns\n",
        "import matplotlib.pyplot as plt\n",
        "# Verificar el rango de duración para asegurar que no haya valores fuera del rango esperado\n",
        "print(df['Duracion_min'].describe())\n",
        "# Graficar un boxplot para Duración_min\n",
        "sns.boxplot(x=df['Duracion_min'])\n",
        "plt.title('Distribución de Duración en Minutos')\n",
        "plt.show()"
      ],
      "metadata": {
        "colab": {
          "base_uri": "https://localhost:8080/",
          "height": 628
        },
        "id": "__1pl1k6ioeu",
        "outputId": "292d11da-1af9-4705-e8ad-ea3e9fc29cc5"
      },
      "execution_count": null,
      "outputs": [
        {
          "output_type": "stream",
          "name": "stdout",
          "text": [
            "count    81479.000000\n",
            "mean       403.990550\n",
            "std        198.586623\n",
            "min         45.000000\n",
            "25%        265.000000\n",
            "50%        375.000000\n",
            "75%        540.000000\n",
            "max       1425.000000\n",
            "Name: Duracion_min, dtype: float64\n"
          ]
        },
        {
          "output_type": "display_data",
          "data": {
            "text/plain": [
              "<Figure size 640x480 with 1 Axes>"
            ],
            "image/png": "[encoded data removed]"
          },
          "metadata": {}
        }
      ]
    },
    {
      "cell_type": "markdown",
      "source": [
        "Del grafico observamos que:\n",
        "\n",
        "Una caja que se extiende de 265 a 540 minutos.\n",
        "\n",
        "Un valor de la mediana (línea dentro de la caja) cerca de 375 minutos.\n",
        "\n",
        "Outliers significativos a la derecha, especialmente cerca de 1425 minutos, debido a los valores máximos muy altos."
      ],
      "metadata": {
        "id": "WOk4eIREZsa5"
      }
    },
    {
      "cell_type": "code",
      "source": [
        "# Verificar el rango de tarifa para asegurarse de que no haya valores fuera de lo esperado\n",
        "print(df['Tarifa'].describe())\n",
        "\n",
        "# Graficar un boxplot para Tarifa\n",
        "sns.boxplot(x=df['Tarifa'])\n",
        "plt.title('Distribución de Tarifas')\n",
        "plt.show()\n"
      ],
      "metadata": {
        "colab": {
          "base_uri": "https://localhost:8080/",
          "height": 628
        },
        "id": "mmog6AFMizpm",
        "outputId": "3faa6807-4280-419e-ffe2-affb24786a5d"
      },
      "execution_count": null,
      "outputs": [
        {
          "output_type": "stream",
          "name": "stdout",
          "text": [
            "count    81479.000000\n",
            "mean       104.126592\n",
            "std         53.027880\n",
            "min         22.620000\n",
            "25%         78.030000\n",
            "50%         86.340000\n",
            "75%        112.210000\n",
            "max        594.850000\n",
            "Name: Tarifa, dtype: float64\n"
          ]
        },
        {
          "output_type": "display_data",
          "data": {
            "text/plain": [
              "<Figure size 640x480 with 1 Axes>"
            ],
            "image/png": "[encoded data removed]"
          },
          "metadata": {}
        }
      ]
    },
    {
      "cell_type": "markdown",
      "source": [
        "El gráfico de caja muestra una distribución de tarifas que es relativamente compacta en la parte inferior (la mayoría de los valores se concentran entre 78 y 112).\n",
        "\n",
        "Habrá tarifas extremas a la derecha, que podrían ser representadas como valores atípicos (outliers) debido al valor máximo de 594.85.\n",
        "\n",
        "El conjunto de datos parece estar sesgado hacia tarifas más bajas a moderadas, pero con algunas tarifas extremadamente altas que podrían influir en los valores promedio."
      ],
      "metadata": {
        "id": "a7rGe6WVaKuF"
      }
    },
    {
      "cell_type": "code",
      "source": [
        "# Calcular el IQR (rango intercuartílico) para 'Duracion_min' y 'Tarifa'\n",
        "Q1 = df[['Duracion_min', 'Tarifa']].quantile(0.25)\n",
        "Q3 = df[['Duracion_min', 'Tarifa']].quantile(0.75)\n",
        "IQR = Q3 - Q1\n",
        "\n",
        "# Filtrar los outliers basados en el IQR\n",
        "df_no_outliers = df[((df[['Duracion_min', 'Tarifa']] >= (Q1 - 1.5 * IQR)) &\n",
        "                     (df[['Duracion_min', 'Tarifa']] <= (Q3 + 1.5 * IQR))).all(axis=1)]\n",
        "\n",
        "# Verificar cómo quedó el dataset sin los outliers\n",
        "print(df_no_outliers[['Duracion_min', 'Tarifa']].describe())\n"
      ],
      "metadata": {
        "colab": {
          "base_uri": "https://localhost:8080/"
        },
        "id": "ZJXYjTTN4aBb",
        "outputId": "945cafd1-bb83-446e-d4f1-534367d1607e"
      },
      "execution_count": null,
      "outputs": [
        {
          "output_type": "stream",
          "name": "stdout",
          "text": [
            "       Duracion_min        Tarifa\n",
            "count  70757.000000  70757.000000\n",
            "mean     394.641901     87.300641\n",
            "std      194.384388     23.844738\n",
            "min       45.000000     27.290000\n",
            "25%      260.000000     76.830000\n",
            "50%      365.000000     82.730000\n",
            "75%      535.000000     98.090000\n",
            "max      950.000000    162.990000\n"
          ]
        }
      ]
    },
    {
      "cell_type": "code",
      "source": [
        "# Calcular el IQR para 'Duracion_min' y 'Tarifa'\n",
        "Q1_duracion = df['Duracion_min'].quantile(0.25)\n",
        "Q3_duracion = df['Duracion_min'].quantile(0.75)\n",
        "IQR_duracion = Q3_duracion - Q1_duracion\n",
        "lower_bound_duracion = Q1_duracion - 1.5 * IQR_duracion\n",
        "upper_bound_duracion = Q3_duracion + 1.5 * IQR_duracion\n",
        "\n",
        "Q1_tarifa = df['Tarifa'].quantile(0.25)\n",
        "Q3_tarifa = df['Tarifa'].quantile(0.75)\n",
        "IQR_tarifa = Q3_tarifa - Q1_tarifa\n",
        "lower_bound_tarifa = Q1_tarifa - 1.5 * IQR_tarifa\n",
        "upper_bound_tarifa = Q3_tarifa + 1.5 * IQR_tarifa\n",
        "\n",
        "# Filtrar los outliers\n",
        "df_cleaned = df[(df['Duracion_min'] >= lower_bound_duracion) & (df['Duracion_min'] <= upper_bound_duracion)]\n",
        "df_cleaned = df_cleaned[(df_cleaned['Tarifa'] >= lower_bound_tarifa) & (df_cleaned['Tarifa'] <= upper_bound_tarifa)]\n"
      ],
      "metadata": {
        "id": "H6mnPkloZ8EF"
      },
      "execution_count": null,
      "outputs": []
    },
    {
      "cell_type": "code",
      "source": [
        "# Reemplazar outliers por el valor máximo o mínimo\n",
        "df['Duracion_min'] = df['Duracion_min'].clip(lower=lower_bound_duracion, upper=upper_bound_duracion)\n",
        "df['Tarifa'] = df['Tarifa'].clip(lower=lower_bound_tarifa, upper=upper_bound_tarifa)\n"
      ],
      "metadata": {
        "id": "H5iDMtvSaQpH"
      },
      "execution_count": null,
      "outputs": []
    },
    {
      "cell_type": "code",
      "source": [
        "import matplotlib.pyplot as plt\n",
        "import seaborn as sns\n",
        "\n",
        "# Histograma antes y después de eliminar outliers\n",
        "fig, axes = plt.subplots(1, 2, figsize=(14, 7))\n",
        "\n",
        "sns.histplot(df['Duracion_min'], kde=True, ax=axes[0])\n",
        "axes[0].set_title('Distribución de Duración Min (Original)')\n",
        "\n",
        "sns.histplot(df_cleaned['Duracion_min'], kde=True, ax=axes[1])\n",
        "axes[1].set_title('Distribución de Duración Min (Sin Outliers)')\n",
        "\n",
        "plt.show()\n"
      ],
      "metadata": {
        "colab": {
          "base_uri": "https://localhost:8080/",
          "height": 612
        },
        "id": "VYSuV1jiaVvY",
        "outputId": "38d9f68e-fab8-40e6-d78d-3493e57098b2"
      },
      "execution_count": null,
      "outputs": [
        {
          "output_type": "display_data",
          "data": {
            "text/plain": [
              "<Figure size 1400x700 with 2 Axes>"
            ],
            "image/png": "[encoded data removed]"
          },
          "metadata": {}
        }
      ]
    },
    {
      "cell_type": "markdown",
      "source": [
        "1. Con los outliers, el histograma original parece estar más sesgado y muestra una cola larga hacia la derecha, lo que indica que los valores atípicos están influyendo considerablemente en la distribución de las duraciones.\n",
        "\n",
        "2. Sin los outliers, el histograma después de la limpieza ofrece una visualización más representativa de la distribución real de las duraciones. Ahora muestra una mayor concentración en las duraciones más comunes y tiene una forma más equilibrada, sin la distorsión de los valores extremos."
      ],
      "metadata": {
        "id": "26HVQXcJbX_h"
      }
    },
    {
      "cell_type": "code",
      "source": [
        "import matplotlib.pyplot as plt\n",
        "\n",
        "# Graficar el scatter plot de 'Duracion_min' vs 'Tarifa' después de la normalización\n",
        "plt.figure(figsize=(10, 6))\n",
        "plt.scatter(df['Duracion_min'], df['Tarifa'], alpha=0.5, color='blue')\n",
        "plt.title('Duración vs Tarifa (Normalizadas)')\n",
        "plt.xlabel('Duración Normalizada')\n",
        "plt.ylabel('Tarifa Normalizada')\n",
        "plt.grid(True)\n",
        "plt.show()\n"
      ],
      "metadata": {
        "colab": {
          "base_uri": "https://localhost:8080/",
          "height": 564
        },
        "id": "Y_he4d0jkOqF",
        "outputId": "58ece58a-0c45-44a6-db4b-1eac9a8f2740"
      },
      "execution_count": null,
      "outputs": [
        {
          "output_type": "display_data",
          "data": {
            "text/plain": [
              "<Figure size 1000x600 with 1 Axes>"
            ],
            "image/png": "[encoded data removed]"
          },
          "metadata": {}
        }
      ]
    },
    {
      "cell_type": "code",
      "source": [
        "# Graficar los histogramas de 'Duracion_min' y 'Tarifa' normalizadas\n",
        "fig, axs = plt.subplots(1, 2, figsize=(12, 6))\n",
        "\n",
        "# Histograma de Duración Normalizada\n",
        "axs[0].hist(df['Duracion_min'], bins=30, color='skyblue', edgecolor='black')\n",
        "axs[0].set_title('Histograma de Duración Normalizada')\n",
        "axs[0].set_xlabel('Duración Normalizada')\n",
        "axs[0].set_ylabel('Frecuencia')\n",
        "\n",
        "# Histograma de Tarifa Normalizada\n",
        "axs[1].hist(df['Tarifa'], bins=30, color='salmon', edgecolor='black')\n",
        "axs[1].set_title('Histograma de Tarifa Normalizada')\n",
        "axs[1].set_xlabel('Tarifa Normalizada')\n",
        "axs[1].set_ylabel('Frecuencia')\n",
        "\n",
        "plt.tight_layout()\n",
        "plt.show()\n"
      ],
      "metadata": {
        "colab": {
          "base_uri": "https://localhost:8080/",
          "height": 569
        },
        "id": "yf0VEY7qVEJj",
        "outputId": "0ffe742e-c39a-4b46-e25a-133f67b7d200"
      },
      "execution_count": null,
      "outputs": [
        {
          "output_type": "display_data",
          "data": {
            "text/plain": [
              "<Figure size 1200x600 with 2 Axes>"
            ],
            "image/png": "[encoded data removed]"
          },
          "metadata": {}
        }
      ]
    },
    {
      "cell_type": "code",
      "source": [
        "# Graficar los boxplots de 'Duracion_min' y 'Tarifa' normalizadas\n",
        "fig, axs = plt.subplots(1, 2, figsize=(12, 6))\n",
        "\n",
        "# Boxplot de Duración Normalizada\n",
        "axs[0].boxplot(df['Duracion_min'], vert=False, patch_artist=True, notch=True,\n",
        "               boxprops=dict(facecolor='lightblue', color='blue'),\n",
        "               whiskerprops=dict(color='blue'), flierprops=dict(markerfacecolor='red', marker='o'))\n",
        "axs[0].set_title('Boxplot de Duración Normalizada')\n",
        "axs[0].set_xlabel('Duración Normalizada')\n",
        "\n",
        "# Boxplot de Tarifa Normalizada\n",
        "axs[1].boxplot(df['Tarifa'], vert=False, patch_artist=True, notch=True,\n",
        "               boxprops=dict(facecolor='salmon', color='red'),\n",
        "               whiskerprops=dict(color='red'), flierprops=dict(markerfacecolor='orange', marker='o'))\n",
        "axs[1].set_title('Boxplot de Tarifa Normalizada')\n",
        "axs[1].set_xlabel('Tarifa Normalizada')\n",
        "\n",
        "plt.tight_layout()\n",
        "plt.show()\n"
      ],
      "metadata": {
        "colab": {
          "base_uri": "https://localhost:8080/",
          "height": 569
        },
        "id": "gaU5EgThVKwC",
        "outputId": "85186663-684c-4cc0-e9cf-c8e9c89eddf6"
      },
      "execution_count": null,
      "outputs": [
        {
          "output_type": "display_data",
          "data": {
            "text/plain": [
              "<Figure size 1200x600 with 2 Axes>"
            ],
            "image/png": "[encoded data removed]"
          },
          "metadata": {}
        }
      ]
    },
    {
      "cell_type": "markdown",
      "source": [
        "### Vizualizar"
      ],
      "metadata": {
        "id": "1rCkJIIDeXE8"
      }
    },
    {
      "cell_type": "code",
      "source": [
        "df.head()"
      ],
      "metadata": {
        "colab": {
          "base_uri": "https://localhost:8080/",
          "height": 348
        },
        "id": "rYo1aV5FiyaX",
        "outputId": "46c2d114-d7c8-4aab-83a0-b82b4f7ff8c2"
      },
      "execution_count": null,
      "outputs": [
        {
          "output_type": "execute_result",
          "data": {
            "text/plain": [
              "   Origen Hora de Salida Hora de Llegada  Destino  Tarifa  Directo  \\\n",
              "0       0       17:15:00        18:40:00        9   46.15        1   \n",
              "1       0       09:40:00        11:10:00        9   46.15        1   \n",
              "2       0       10:30:00        12:00:00        9   46.15        1   \n",
              "3       0       10:50:00        12:20:00        9   46.15        1   \n",
              "4       0       11:55:00        13:25:00        9   46.15        1   \n",
              "\n",
              "   Duracion_min Fecha de Salida Consulta Hora de Salida Consulta  \n",
              "0          85.0               2024-10-14                11:07:26  \n",
              "1          90.0               2024-10-14                11:07:26  \n",
              "2          90.0               2024-10-14                11:07:26  \n",
              "3          90.0               2024-10-14                11:07:26  \n",
              "4          90.0               2024-10-14                11:07:26  "
            ],
            "text/html": [
              "\n",
              "  <div id=\"df-b156a1bb-935b-4268-a2b5-5139352a9aaf\" class=\"colab-df-container\">\n",
              "    <div>\n",
              "<style scoped>\n",
              "    .dataframe tbody tr th:only-of-type {\n",
              "        vertical-align: middle;\n",
              "    }\n",
              "\n",
              "    .dataframe tbody tr th {\n",
              "        vertical-align: top;\n",
              "    }\n",
              "\n",
              "    .dataframe thead th {\n",
              "        text-align: right;\n",
              "    }\n",
              "</style>\n",
              "<table border=\"1\" class=\"dataframe\">\n",
              "  <thead>\n",
              "    <tr style=\"text-align: right;\">\n",
              "      <th></th>\n",
              "      <th>Origen</th>\n",
              "      <th>Hora de Salida</th>\n",
              "      <th>Hora de Llegada</th>\n",
              "      <th>Destino</th>\n",
              "      <th>Tarifa</th>\n",
              "      <th>Directo</th>\n",
              "      <th>Duracion_min</th>\n",
              "      <th>Fecha de Salida Consulta</th>\n",
              "      <th>Hora de Salida Consulta</th>\n",
              "    </tr>\n",
              "  </thead>\n",
              "  <tbody>\n",
              "    <tr>\n",
              "      <th>0</th>\n",
              "      <td>0</td>\n",
              "      <td>17:15:00</td>\n",
              "      <td>18:40:00</td>\n",
              "      <td>9</td>\n",
              "      <td>46.15</td>\n",
              "      <td>1</td>\n",
              "      <td>85.0</td>\n",
              "      <td>2024-10-14</td>\n",
              "      <td>11:07:26</td>\n",
              "    </tr>\n",
              "    <tr>\n",
              "      <th>1</th>\n",
              "      <td>0</td>\n",
              "      <td>09:40:00</td>\n",
              "      <td>11:10:00</td>\n",
              "      <td>9</td>\n",
              "      <td>46.15</td>\n",
              "      <td>1</td>\n",
              "      <td>90.0</td>\n",
              "      <td>2024-10-14</td>\n",
              "      <td>11:07:26</td>\n",
              "    </tr>\n",
              "    <tr>\n",
              "      <th>2</th>\n",
              "      <td>0</td>\n",
              "      <td>10:30:00</td>\n",
              "      <td>12:00:00</td>\n",
              "      <td>9</td>\n",
              "      <td>46.15</td>\n",
              "      <td>1</td>\n",
              "      <td>90.0</td>\n",
              "      <td>2024-10-14</td>\n",
              "      <td>11:07:26</td>\n",
              "    </tr>\n",
              "    <tr>\n",
              "      <th>3</th>\n",
              "      <td>0</td>\n",
              "      <td>10:50:00</td>\n",
              "      <td>12:20:00</td>\n",
              "      <td>9</td>\n",
              "      <td>46.15</td>\n",
              "      <td>1</td>\n",
              "      <td>90.0</td>\n",
              "      <td>2024-10-14</td>\n",
              "      <td>11:07:26</td>\n",
              "    </tr>\n",
              "    <tr>\n",
              "      <th>4</th>\n",
              "      <td>0</td>\n",
              "      <td>11:55:00</td>\n",
              "      <td>13:25:00</td>\n",
              "      <td>9</td>\n",
              "      <td>46.15</td>\n",
              "      <td>1</td>\n",
              "      <td>90.0</td>\n",
              "      <td>2024-10-14</td>\n",
              "      <td>11:07:26</td>\n",
              "    </tr>\n",
              "  </tbody>\n",
              "</table>\n",
              "</div>\n",
              "    <div class=\"colab-df-buttons\">\n",
              "\n",
              "  <div class=\"colab-df-container\">\n",
              "    <button class=\"colab-df-convert\" onclick=\"convertToInteractive('df-b156a1bb-935b-4268-a2b5-5139352a9aaf')\"\n",
              "            title=\"Convert this dataframe to an interactive table.\"\n",
              "            style=\"display:none;\">\n",
              "\n",
              "  <svg xmlns=\"http://www.w3.org/2000/svg\" height=\"24px\" viewBox=\"0 -960 960 960\">\n",
              "    <path d=\"M120-120v-720h720v720H120Zm60-500h600v-160H180v160Zm220 220h160v-160H400v160Zm0 220h160v-160H400v160ZM180-400h160v-160H180v160Zm440 0h160v-160H620v160ZM180-180h160v-160H180v160Zm440 0h160v-160H620v160Z\"/>\n",
              "  </svg>\n",
              "    </button>\n",
              "\n",
              "  <style>\n",
              "    .colab-df-container {\n",
              "      display:flex;\n",
              "      gap: 12px;\n",
              "    }\n",
              "\n",
              "    .colab-df-convert {\n",
              "      background-color: #E8F0FE;\n",
              "      border: none;\n",
              "      border-radius: 50%;\n",
              "      cursor: pointer;\n",
              "      display: none;\n",
              "      fill: #1967D2;\n",
              "      height: 32px;\n",
              "      padding: 0 0 0 0;\n",
              "      width: 32px;\n",
              "    }\n",
              "\n",
              "    .colab-df-convert:hover {\n",
              "      background-color: #E2EBFA;\n",
              "      box-shadow: 0px 1px 2px rgba(60, 64, 67, 0.3), 0px 1px 3px 1px rgba(60, 64, 67, 0.15);\n",
              "      fill: #174EA6;\n",
              "    }\n",
              "\n",
              "    .colab-df-buttons div {\n",
              "      margin-bottom: 4px;\n",
              "    }\n",
              "\n",
              "    [theme=dark] .colab-df-convert {\n",
              "      background-color: #3B4455;\n",
              "      fill: #D2E3FC;\n",
              "    }\n",
              "\n",
              "    [theme=dark] .colab-df-convert:hover {\n",
              "      background-color: #434B5C;\n",
              "      box-shadow: 0px 1px 3px 1px rgba(0, 0, 0, 0.15);\n",
              "      filter: drop-shadow(0px 1px 2px rgba(0, 0, 0, 0.3));\n",
              "      fill: #FFFFFF;\n",
              "    }\n",
              "  </style>\n",
              "\n",
              "    <script>\n",
              "      const buttonEl =\n",
              "        document.querySelector('#df-b156a1bb-935b-4268-a2b5-5139352a9aaf button.colab-df-convert');\n",
              "      buttonEl.style.display =\n",
              "        google.colab.kernel.accessAllowed ? 'block' : 'none';\n",
              "\n",
              "      async function convertToInteractive(key) {\n",
              "        const element = document.querySelector('#df-b156a1bb-935b-4268-a2b5-5139352a9aaf');\n",
              "        const dataTable =\n",
              "          await google.colab.kernel.invokeFunction('convertToInteractive',\n",
              "                                                    [key], {});\n",
              "        if (!dataTable) return;\n",
              "\n",
              "        const docLinkHtml = 'Like what you see? Visit the ' +\n",
              "          '<a target=\"_blank\" href=https://colab.research.google.com/notebooks/data_table.ipynb>data table notebook</a>'\n",
              "          + ' to learn more about interactive tables.';\n",
              "        element.innerHTML = '';\n",
              "        dataTable['output_type'] = 'display_data';\n",
              "        await google.colab.output.renderOutput(dataTable, element);\n",
              "        const docLink = document.createElement('div');\n",
              "        docLink.innerHTML = docLinkHtml;\n",
              "        element.appendChild(docLink);\n",
              "      }\n",
              "    </script>\n",
              "  </div>\n",
              "\n",
              "\n",
              "<div id=\"df-be3002bd-dc97-4526-991d-c38681704a70\">\n",
              "  <button class=\"colab-df-quickchart\" onclick=\"quickchart('df-be3002bd-dc97-4526-991d-c38681704a70')\"\n",
              "            title=\"Suggest charts\"\n",
              "            style=\"display:none;\">\n",
              "\n",
              "<svg xmlns=\"http://www.w3.org/2000/svg\" height=\"24px\"viewBox=\"0 0 24 24\"\n",
              "     width=\"24px\">\n",
              "    <g>\n",
              "        <path d=\"M19 3H5c-1.1 0-2 .9-2 2v14c0 1.1.9 2 2 2h14c1.1 0 2-.9 2-2V5c0-1.1-.9-2-2-2zM9 17H7v-7h2v7zm4 0h-2V7h2v10zm4 0h-2v-4h2v4z\"/>\n",
              "    </g>\n",
              "</svg>\n",
              "  </button>\n",
              "\n",
              "<style>\n",
              "  .colab-df-quickchart {\n",
              "      --bg-color: #E8F0FE;\n",
              "      --fill-color: #1967D2;\n",
              "      --hover-bg-color: #E2EBFA;\n",
              "      --hover-fill-color: #174EA6;\n",
              "      --disabled-fill-color: #AAA;\n",
              "      --disabled-bg-color: #DDD;\n",
              "  }\n",
              "\n",
              "  [theme=dark] .colab-df-quickchart {\n",
              "      --bg-color: #3B4455;\n",
              "      --fill-color: #D2E3FC;\n",
              "      --hover-bg-color: #434B5C;\n",
              "      --hover-fill-color: #FFFFFF;\n",
              "      --disabled-bg-color: #3B4455;\n",
              "      --disabled-fill-color: #666;\n",
              "  }\n",
              "\n",
              "  .colab-df-quickchart {\n",
              "    background-color: var(--bg-color);\n",
              "    border: none;\n",
              "    border-radius: 50%;\n",
              "    cursor: pointer;\n",
              "    display: none;\n",
              "    fill: var(--fill-color);\n",
              "    height: 32px;\n",
              "    padding: 0;\n",
              "    width: 32px;\n",
              "  }\n",
              "\n",
              "  .colab-df-quickchart:hover {\n",
              "    background-color: var(--hover-bg-color);\n",
              "    box-shadow: 0 1px 2px rgba(60, 64, 67, 0.3), 0 1px 3px 1px rgba(60, 64, 67, 0.15);\n",
              "    fill: var(--button-hover-fill-color);\n",
              "  }\n",
              "\n",
              "  .colab-df-quickchart-complete:disabled,\n",
              "  .colab-df-quickchart-complete:disabled:hover {\n",
              "    background-color: var(--disabled-bg-color);\n",
              "    fill: var(--disabled-fill-color);\n",
              "    box-shadow: none;\n",
              "  }\n",
              "\n",
              "  .colab-df-spinner {\n",
              "    border: 2px solid var(--fill-color);\n",
              "    border-color: transparent;\n",
              "    border-bottom-color: var(--fill-color);\n",
              "    animation:\n",
              "      spin 1s steps(1) infinite;\n",
              "  }\n",
              "\n",
              "  @keyframes spin {\n",
              "    0% {\n",
              "      border-color: transparent;\n",
              "      border-bottom-color: var(--fill-color);\n",
              "      border-left-color: var(--fill-color);\n",
              "    }\n",
              "    20% {\n",
              "      border-color: transparent;\n",
              "      border-left-color: var(--fill-color);\n",
              "      border-top-color: var(--fill-color);\n",
              "    }\n",
              "    30% {\n",
              "      border-color: transparent;\n",
              "      border-left-color: var(--fill-color);\n",
              "      border-top-color: var(--fill-color);\n",
              "      border-right-color: var(--fill-color);\n",
              "    }\n",
              "    40% {\n",
              "      border-color: transparent;\n",
              "      border-right-color: var(--fill-color);\n",
              "      border-top-color: var(--fill-color);\n",
              "    }\n",
              "    60% {\n",
              "      border-color: transparent;\n",
              "      border-right-color: var(--fill-color);\n",
              "    }\n",
              "    80% {\n",
              "      border-color: transparent;\n",
              "      border-right-color: var(--fill-color);\n",
              "      border-bottom-color: var(--fill-color);\n",
              "    }\n",
              "    90% {\n",
              "      border-color: transparent;\n",
              "      border-bottom-color: var(--fill-color);\n",
              "    }\n",
              "  }\n",
              "</style>\n",
              "\n",
              "  <script>\n",
              "    async function quickchart(key) {\n",
              "      const quickchartButtonEl =\n",
              "        document.querySelector('#' + key + ' button');\n",
              "      quickchartButtonEl.disabled = true;  // To prevent multiple clicks.\n",
              "      quickchartButtonEl.classList.add('colab-df-spinner');\n",
              "      try {\n",
              "        const charts = await google.colab.kernel.invokeFunction(\n",
              "            'suggestCharts', [key], {});\n",
              "      } catch (error) {\n",
              "        console.error('Error during call to suggestCharts:', error);\n",
              "      }\n",
              "      quickchartButtonEl.classList.remove('colab-df-spinner');\n",
              "      quickchartButtonEl.classList.add('colab-df-quickchart-complete');\n",
              "    }\n",
              "    (() => {\n",
              "      let quickchartButtonEl =\n",
              "        document.querySelector('#df-be3002bd-dc97-4526-991d-c38681704a70 button');\n",
              "      quickchartButtonEl.style.display =\n",
              "        google.colab.kernel.accessAllowed ? 'block' : 'none';\n",
              "    })();\n",
              "  </script>\n",
              "</div>\n",
              "\n",
              "    </div>\n",
              "  </div>\n"
            ],
            "application/vnd.google.colaboratory.intrinsic+json": {
              "type": "dataframe",
              "variable_name": "df",
              "summary": "{\n  \"name\": \"df\",\n  \"rows\": 81479,\n  \"fields\": [\n    {\n      \"column\": \"Origen\",\n      \"properties\": {\n        \"dtype\": \"number\",\n        \"std\": 4,\n        \"min\": 0,\n        \"max\": 16,\n        \"num_unique_values\": 17,\n        \"samples\": [\n          0,\n          2,\n          1\n        ],\n        \"semantic_type\": \"\",\n        \"description\": \"\"\n      }\n    },\n    {\n      \"column\": \"Hora de Salida\",\n      \"properties\": {\n        \"dtype\": \"category\",\n        \"num_unique_values\": 129,\n        \"samples\": [\n          \"08:30:00\",\n          \"19:35:00\",\n          \"17:10:00\"\n        ],\n        \"semantic_type\": \"\",\n        \"description\": \"\"\n      }\n    },\n    {\n      \"column\": \"Hora de Llegada\",\n      \"properties\": {\n        \"dtype\": \"category\",\n        \"num_unique_values\": 133,\n        \"samples\": [\n          \"19:10:00\",\n          \"08:35:00\",\n          \"21:20:00\"\n        ],\n        \"semantic_type\": \"\",\n        \"description\": \"\"\n      }\n    },\n    {\n      \"column\": \"Destino\",\n      \"properties\": {\n        \"dtype\": \"number\",\n        \"std\": 4,\n        \"min\": 0,\n        \"max\": 16,\n        \"num_unique_values\": 17,\n        \"samples\": [\n          9,\n          5,\n          1\n        ],\n        \"semantic_type\": \"\",\n        \"description\": \"\"\n      }\n    },\n    {\n      \"column\": \"Tarifa\",\n      \"properties\": {\n        \"dtype\": \"number\",\n        \"std\": 33.787795257635445,\n        \"min\": 26.760000000000012,\n        \"max\": 163.48,\n        \"num_unique_values\": 569,\n        \"samples\": [\n          157.09,\n          96.87,\n          42.68\n        ],\n        \"semantic_type\": \"\",\n        \"description\": \"\"\n      }\n    },\n    {\n      \"column\": \"Directo\",\n      \"properties\": {\n        \"dtype\": \"number\",\n        \"std\": 0,\n        \"min\": 0,\n        \"max\": 1,\n        \"num_unique_values\": 2,\n        \"samples\": [\n          0,\n          1\n        ],\n        \"semantic_type\": \"\",\n        \"description\": \"\"\n      }\n    },\n    {\n      \"column\": \"Duracion_min\",\n      \"properties\": {\n        \"dtype\": \"number\",\n        \"std\": 195.8839672009581,\n        \"min\": 45.0,\n        \"max\": 952.5,\n        \"num_unique_values\": 157,\n        \"samples\": [\n          530.0,\n          255.0\n        ],\n        \"semantic_type\": \"\",\n        \"description\": \"\"\n      }\n    },\n    {\n      \"column\": \"Fecha de Salida Consulta\",\n      \"properties\": {\n        \"dtype\": \"date\",\n        \"min\": \"2024-10-11\",\n        \"max\": \"2024-11-07\",\n        \"num_unique_values\": 24,\n        \"samples\": [\n          \"2024-10-30\",\n          \"2024-11-01\"\n        ],\n        \"semantic_type\": \"\",\n        \"description\": \"\"\n      }\n    },\n    {\n      \"column\": \"Hora de Salida Consulta\",\n      \"properties\": {\n        \"dtype\": \"category\",\n        \"num_unique_values\": 10477,\n        \"samples\": [\n          \"03:21:54\",\n          \"15:23:08\"\n        ],\n        \"semantic_type\": \"\",\n        \"description\": \"\"\n      }\n    }\n  ]\n}"
            }
          },
          "metadata": {},
          "execution_count": 30
        }
      ]
    },
    {
      "source": [
        "# Convertir 'Fecha de Salida Consulta' a formato datetime\n",
        "df_cleaned['Fecha de Salida Consulta'] = pd.to_datetime(df_cleaned['Fecha de Salida Consulta'])\n",
        "\n",
        "# Crear la variable \"Días hasta el vuelo\" tomando como referencia la fecha del vuelo (2024-03-02)\n",
        "df_cleaned['Días hasta el vuelo'] = (pd.to_datetime('2025-03-02') - df_cleaned['Fecha de Salida Consulta']).dt.days\n",
        "\n",
        "# Verificar el resultado\n",
        "print(df_cleaned[['Fecha de Salida Consulta', 'Días hasta el vuelo']].head())\n"
      ],
      "cell_type": "code",
      "metadata": {
        "colab": {
          "base_uri": "https://localhost:8080/"
        },
        "id": "0eKKnQfXF3Oo",
        "outputId": "20ed12a1-2f35-43e3-c9c2-622f49338655"
      },
      "execution_count": null,
      "outputs": [
        {
          "output_type": "stream",
          "name": "stdout",
          "text": [
            "  Fecha de Salida Consulta  Días hasta el vuelo\n",
            "0               2024-10-14                  139\n",
            "1               2024-10-14                  139\n",
            "2               2024-10-14                  139\n",
            "3               2024-10-14                  139\n",
            "4               2024-10-14                  139\n"
          ]
        }
      ]
    },
    {
      "cell_type": "code",
      "source": [
        "# Convertir las columnas 'Hora de Salida' y 'Hora de Llegada' a formato datetime.time\n",
        "df_cleaned['Hora de Salida'] = pd.to_datetime(df_cleaned['Hora de Salida'], format='%H:%M:%S').dt.time\n",
        "df_cleaned['Hora de Llegada'] = pd.to_datetime(df_cleaned['Hora de Llegada'], format='%H:%M:%S').dt.time\n",
        "\n",
        "# Verificar el cambio\n",
        "print(df_cleaned[['Hora de Salida', 'Hora de Llegada']].head())\n"
      ],
      "metadata": {
        "colab": {
          "base_uri": "https://localhost:8080/"
        },
        "id": "Zyqf6LZOKNGF",
        "outputId": "5aa9791f-c9ba-42bb-d0a2-0b7d56d69945"
      },
      "execution_count": null,
      "outputs": [
        {
          "output_type": "stream",
          "name": "stdout",
          "text": [
            "  Hora de Salida Hora de Llegada\n",
            "0       17:15:00        18:40:00\n",
            "1       09:40:00        11:10:00\n",
            "2       10:30:00        12:00:00\n",
            "3       10:50:00        12:20:00\n",
            "4       11:55:00        13:25:00\n"
          ]
        }
      ]
    },
    {
      "cell_type": "code",
      "source": [
        "# Convertir 'Hora de Salida' a minutos desde la medianoche\n",
        "df_cleaned['Minutos desde medianoche'] = (\n",
        "    df_cleaned['Hora de Salida'].apply(lambda x: x.hour * 60 + x.minute)\n",
        ")\n",
        "\n",
        "# Verificar el resultado\n",
        "print(df_cleaned[['Hora de Salida', 'Minutos desde medianoche']].head())\n"
      ],
      "metadata": {
        "colab": {
          "base_uri": "https://localhost:8080/"
        },
        "id": "GUOY0psdK4tV",
        "outputId": "3399fb26-fd14-41d3-c24b-323eac9a8891"
      },
      "execution_count": null,
      "outputs": [
        {
          "output_type": "stream",
          "name": "stdout",
          "text": [
            "  Hora de Salida  Minutos desde medianoche\n",
            "0       17:15:00                      1035\n",
            "1       09:40:00                       580\n",
            "2       10:30:00                       630\n",
            "3       10:50:00                       650\n",
            "4       11:55:00                       715\n"
          ]
        }
      ]
    },
    {
      "cell_type": "code",
      "source": [
        "# Función para asignar rangos horarios\n",
        "def categorizar_horario(hora):\n",
        "    if 5 <= hora.hour < 12:\n",
        "        return 'Mañana'\n",
        "    elif 12 <= hora.hour < 18:\n",
        "        return 'Tarde'\n",
        "    elif 18 <= hora.hour < 24:\n",
        "        return 'Noche'\n",
        "    else:\n",
        "        return 'Madrugada'\n",
        "\n",
        "# Crear columna de rango horario\n",
        "df_cleaned['Rango horario'] = df_cleaned['Hora de Salida'].apply(categorizar_horario)\n",
        "\n",
        "# Verificar el resultado\n",
        "print(df_cleaned[['Hora de Salida', 'Rango horario']].head())\n"
      ],
      "metadata": {
        "colab": {
          "base_uri": "https://localhost:8080/"
        },
        "id": "3qzgwFgDLVoj",
        "outputId": "2fe1dc34-3132-4626-c010-b3f12af82bd2"
      },
      "execution_count": null,
      "outputs": [
        {
          "output_type": "stream",
          "name": "stdout",
          "text": [
            "  Hora de Salida Rango horario\n",
            "0       17:15:00         Tarde\n",
            "1       09:40:00        Mañana\n",
            "2       10:30:00        Mañana\n",
            "3       10:50:00        Mañana\n",
            "4       11:55:00        Mañana\n"
          ]
        }
      ]
    },
    {
      "cell_type": "code",
      "source": [
        "from sklearn.preprocessing import LabelEncoder\n",
        "\n",
        "# Instanciar el codificador\n",
        "le = LabelEncoder()\n",
        "\n",
        "# Codificar la columna 'Rango horario'\n",
        "df_cleaned['Rango horario codificado'] = le.fit_transform(df_cleaned['Rango horario'])\n",
        "\n",
        "# Verificar el resultado\n",
        "print(df_cleaned[['Rango horario', 'Rango horario codificado']].head())\n"
      ],
      "metadata": {
        "colab": {
          "base_uri": "https://localhost:8080/"
        },
        "id": "KF85GVmSNPR1",
        "outputId": "e9852bbb-2b50-43f3-a5b0-85ac1b19b4da"
      },
      "execution_count": null,
      "outputs": [
        {
          "output_type": "stream",
          "name": "stdout",
          "text": [
            "  Rango horario  Rango horario codificado\n",
            "0         Tarde                         3\n",
            "1        Mañana                         1\n",
            "2        Mañana                         1\n",
            "3        Mañana                         1\n",
            "4        Mañana                         1\n"
          ]
        }
      ]
    },
    {
      "cell_type": "markdown",
      "source": [
        "# **3. ENTRENAMIENTO DE LOS MODELOS ESCOGIDOS**"
      ],
      "metadata": {
        "id": "Cv2uaWrjwf-x"
      }
    },
    {
      "cell_type": "markdown",
      "source": [
        "## Descripción de los Modelos Utilizados\n",
        "\n",
        "1. **Árboles de Decisión**  \n",
        "   Los Árboles de Decisión son un modelo de clasificación supervisada que utiliza una estructura de árbol para tomar decisiones basadas en una serie de reglas. Cada nodo en el árbol representa una prueba sobre una característica, y cada rama representa un resultado de esa prueba. Este modelo es fácil de entender e interpretar, pero puede ser propenso al sobreajuste si no se poda correctamente.\n",
        "\n",
        "2. **KNN (K-Nearest Neighbors)**  \n",
        "   K-Nearest Neighbors es un algoritmo de clasificación basado en la cercanía de los puntos de datos. Para clasificar un nuevo punto, el modelo considera los \"K\" puntos más cercanos en el espacio de características y asigna la etiqueta de clase más común entre esos vecinos. Este modelo es muy intuitivo y sencillo de implementar, pero puede ser ineficiente con grandes volúmenes de datos y sensible a las características irrelevantes.\n",
        "\n",
        "3. **Naive Bayes**  \n",
        "   Naive Bayes es un clasificador probabilístico basado en el teorema de Bayes. Asume que las características son independientes entre sí, lo cual es una suposición \"naive\" (ingenua). A pesar de esta suposición fuerte, es sorprendentemente efectivo en muchos problemas, especialmente en clasificación de texto y problemas con grandes cantidades de datos.\n",
        "\n",
        "4. **LSTM (Long Short-Term Memory)**  \n",
        "   Las redes neuronales LSTM son un tipo de red neuronal recurrente (RNN) diseñada para resolver el problema del desvanecimiento y explosión de gradientes en secuencias largas. Las LSTM son capaces de aprender dependencias a largo plazo en datos secuenciales, como series temporales o texto, y son ampliamente utilizadas en tareas como el procesamiento de lenguaje natural y la predicción de series temporales.\n",
        "\n",
        "5. **Adaptive Boosting (AdaBoost)**  \n",
        "   AdaBoost es un algoritmo de ensamblaje que combina múltiples clasificadores débiles (por lo general, árboles de decisión pequeños) para formar un clasificador fuerte. En cada iteración, se ajusta el peso de los ejemplos mal clasificados para que el modelo se enfoque en ellos en el siguiente ciclo. AdaBoost es muy efectivo para mejorar el rendimiento de modelos simples, pero puede ser sensible a los datos ruidosos.\n",
        "\n",
        "6. **XGBoost**  \n",
        "   XGBoost (Extreme Gradient Boosting) es una implementación optimizada de boosting de gradiente, que es un enfoque de ensamblaje basado en árboles de decisión. Es conocido por su eficiencia computacional y alto rendimiento en una amplia gama de problemas de clasificación y regresión. XGBoost es ampliamente utilizado en competencias de aprendizaje automático debido a su capacidad para manejar grandes volúmenes de datos y generar modelos de alta precisión.\n",
        "\n",
        "7. **MLP (Multilayer Perceptron)**  \n",
        "   El Perceptrón Multicapa (MLP) es una red neuronal artificial compuesta por varias capas de neuronas interconectadas. Cada neurona en una capa está conectada a todas las neuronas de la capa siguiente, lo que permite que el MLP aprenda representaciones complejas de los datos. Aunque es flexible y capaz de modelar relaciones no lineales, los MLPs pueden requerir una gran cantidad de datos y tiempo de entrenamiento.\n"
      ],
      "metadata": {
        "id": "CLn-HtVtg3aZ"
      }
    },
    {
      "cell_type": "code",
      "source": [
        "# Variables predictoras (características) y objetivo (target)\n",
        "X = df[['Duracion_min', 'Directo_bin', 'Dia de la Semana de Consulta', 'Hora de la Consulta', 'Mes de Consulta', 'Hora de Salida Consulta']]  # Las características relevantes\n",
        "y = df['Tarifa']  # Variable objetivo\n",
        "\n",
        "# División de los datos en entrenamiento y prueba (80% entrenamiento, 20% prueba)\n",
        "from sklearn.model_selection import train_test_split\n",
        "X_train, X_test, y_train, y_test = train_test_split(X, y, test_size=0.2, random_state=42)"
      ],
      "metadata": {
        "id": "UYVjrwg4jrrP"
      },
      "execution_count": null,
      "outputs": []
    },
    {
      "cell_type": "markdown",
      "source": [
        "## **3.1. ENTRENAMIENTO DEL MODELO DECISSION TREE- ARBOLES DE DECISION**"
      ],
      "metadata": {
        "id": "PfYUDHuRwxQG"
      }
    },
    {
      "cell_type": "code",
      "source": [
        "# Definir el umbral para clasificar los precios (por ejemplo, la mediana)\n",
        "threshold = y_train.median()\n",
        "y_train_class = (y_train >= threshold).astype(int)\n",
        "y_test_class = (y_test >= threshold).astype(int)\n",
        "\n",
        "# Entrenar el modelo de Árbol de Decisión para clasificación\n",
        "from sklearn.tree import DecisionTreeClassifier\n",
        "from sklearn.metrics import precision_score, accuracy_score, recall_score, f1_score\n",
        "\n",
        "dt_model = DecisionTreeClassifier()\n",
        "dt_model.fit(X_train, y_train_class)\n",
        "\n",
        "# Predicciones\n",
        "y_pred_dt = dt_model.predict(X_test)\n",
        "\n",
        "# Evaluación\n",
        "precision_dt = precision_score(y_test_class, y_pred_dt, average='macro')\n",
        "accuracy_dt = accuracy_score(y_test_class, y_pred_dt)\n",
        "recall_dt = recall_score(y_test_class, y_pred_dt, average='macro')\n",
        "f1_dt = f1_score(y_test_class, y_pred_dt, average='macro')\n",
        "\n",
        "print(f'Árbol de Decisión - Precisión: {precision_dt}, Exactitud: {accuracy_dt}, Recall: {recall_dt}, F1-Score: {f1_dt}')\n"
      ],
      "metadata": {
        "colab": {
          "base_uri": "https://localhost:8080/"
        },
        "id": "lMgYuI9mtp6L",
        "outputId": "f8597235-21a7-436c-bdf3-8c12f52e4076"
      },
      "execution_count": null,
      "outputs": [
        {
          "output_type": "stream",
          "name": "stdout",
          "text": [
            "Árbol de Decisión - Precisión: 0.6389637652034112, Exactitud: 0.6378865979381443, Recall: 0.6379852245706827, F1-Score: 0.6372825802287712\n"
          ]
        }
      ]
    },
    {
      "cell_type": "markdown",
      "source": [
        "## **3.2. ENTRENAMIENTO DEL MODELO DE KNN**"
      ],
      "metadata": {
        "id": "056E4Z7Nw6Mn"
      }
    },
    {
      "cell_type": "code",
      "source": [
        "from sklearn.neighbors import KNeighborsClassifier\n",
        "from sklearn.metrics import precision_score, accuracy_score, recall_score, f1_score\n",
        "\n",
        "# Entrenar el modelo KNN\n",
        "knn_model = KNeighborsClassifier(n_neighbors=5)\n",
        "knn_model.fit(X_train, y_train_class)\n",
        "\n",
        "# Predicciones\n",
        "y_pred_knn = knn_model.predict(X_test)\n",
        "\n",
        "# Evaluación\n",
        "precision_knn = precision_score(y_test_class, y_pred_knn, average='macro')\n",
        "accuracy_knn = accuracy_score(y_test_class, y_pred_knn)\n",
        "recall_knn = recall_score(y_test_class, y_pred_knn, average='macro')\n",
        "f1_knn = f1_score(y_test_class, y_pred_knn, average='macro')\n",
        "\n",
        "print(f'KNN - Precisión: {precision_knn}, Exactitud: {accuracy_knn}, Recall: {recall_knn}, F1-Score: {f1_knn}')\n"
      ],
      "metadata": {
        "colab": {
          "base_uri": "https://localhost:8080/"
        },
        "id": "JU0MvDGut7ZB",
        "outputId": "911b5915-9dd1-4ee9-db89-1232b08f9517"
      },
      "execution_count": null,
      "outputs": [
        {
          "output_type": "stream",
          "name": "stdout",
          "text": [
            "KNN - Precisión: 0.6444587199992282, Exactitud: 0.6443912616593029, Recall: 0.6443617106989274, F1-Score: 0.6443197920139396\n"
          ]
        }
      ]
    },
    {
      "cell_type": "markdown",
      "source": [
        "## **3.3. ENTRENAMIENTO DEL MODELO DE NAIVE BAYES**"
      ],
      "metadata": {
        "id": "DR5pX33xxJQ3"
      }
    },
    {
      "cell_type": "code",
      "source": [
        "from sklearn.naive_bayes import GaussianNB\n",
        "\n",
        "# Entrenar el modelo Naive Bayes\n",
        "nb_model = GaussianNB()\n",
        "nb_model.fit(X_train, y_train_class)\n",
        "\n",
        "# Predicciones\n",
        "y_pred_nb = nb_model.predict(X_test)\n",
        "\n",
        "# Evaluación\n",
        "precision_nb = precision_score(y_test_class, y_pred_nb, average='macro')\n",
        "accuracy_nb = accuracy_score(y_test_class, y_pred_nb)\n",
        "recall_nb = recall_score(y_test_class, y_pred_nb, average='macro')\n",
        "f1_nb = f1_score(y_test_class, y_pred_nb, average='macro')\n",
        "\n",
        "print(f'Naive Bayes - Precisión: {precision_nb}, Exactitud: {accuracy_nb}, Recall: {recall_nb}, F1-Score: {f1_nb}')\n"
      ],
      "metadata": {
        "colab": {
          "base_uri": "https://localhost:8080/"
        },
        "id": "fFAjyXymudKp",
        "outputId": "79bc3902-c8b1-4c8d-d7f3-21b66a8d40a9"
      },
      "execution_count": null,
      "outputs": [
        {
          "output_type": "stream",
          "name": "stdout",
          "text": [
            "Naive Bayes - Precisión: 0.7475445070763618, Exactitud: 0.5942562592047128, Recall: 0.5933365289169109, F1-Score: 0.5188848922308859\n"
          ]
        }
      ]
    },
    {
      "cell_type": "markdown",
      "source": [
        "## **3.4. ENTRENAMIENTO DEL MODELO DE ADABOOST**"
      ],
      "metadata": {
        "id": "6EQFYdypxS_d"
      }
    },
    {
      "cell_type": "code",
      "source": [
        "from sklearn.ensemble import AdaBoostClassifier\n",
        "\n",
        "# Entrenar el modelo AdaBoost\n",
        "ada_model = AdaBoostClassifier(n_estimators=50, random_state=42)\n",
        "ada_model.fit(X_train, y_train_class)\n",
        "\n",
        "# Predicciones\n",
        "y_pred_ada = ada_model.predict(X_test)\n",
        "\n",
        "# Evaluación\n",
        "precision_ada = precision_score(y_test_class, y_pred_ada, average='macro')\n",
        "accuracy_ada = accuracy_score(y_test_class, y_pred_ada)\n",
        "recall_ada = recall_score(y_test_class, y_pred_ada, average='macro')\n",
        "f1_ada = f1_score(y_test_class, y_pred_ada, average='macro')\n",
        "\n",
        "print(f'AdaBoost - Precisión: {precision_ada}, Exactitud: {accuracy_ada}, Recall: {recall_ada}, F1-Score: {f1_ada}')\n"
      ],
      "metadata": {
        "colab": {
          "base_uri": "https://localhost:8080/"
        },
        "id": "rEP8ydBMuUjw",
        "outputId": "5ba2b398-7a52-4792-d2fe-1fc6d908a880"
      },
      "execution_count": null,
      "outputs": [
        {
          "output_type": "stream",
          "name": "stdout",
          "text": [
            "AdaBoost - Precisión: 0.6402822383796101, Exactitud: 0.6323637702503682, Recall: 0.6320825931879062, F1-Score: 0.626804160242584\n"
          ]
        }
      ]
    },
    {
      "cell_type": "markdown",
      "source": [
        "## **3.5. ENTRENAMIENTO DEL MODELO DE XGBOOST**"
      ],
      "metadata": {
        "id": "od95b6XlxcfX"
      }
    },
    {
      "cell_type": "code",
      "source": [
        "from xgboost import XGBClassifier\n",
        "\n",
        "# Entrenar el modelo XGBoost\n",
        "xgb_model = XGBClassifier(use_label_encoder=False, eval_metric='logloss')\n",
        "xgb_model.fit(X_train, y_train_class)\n",
        "\n",
        "# Predicciones\n",
        "y_pred_xgb = xgb_model.predict(X_test)\n",
        "\n",
        "# Evaluación\n",
        "precision_xgb = precision_score(y_test_class, y_pred_xgb, average='macro')\n",
        "accuracy_xgb = accuracy_score(y_test_class, y_pred_xgb)\n",
        "recall_xgb = recall_score(y_test_class, y_pred_xgb, average='macro')\n",
        "f1_xgb = f1_score(y_test_class, y_pred_xgb, average='macro')\n",
        "\n",
        "print(f'XGBoost - Precisión: {precision_xgb}, Exactitud: {accuracy_xgb}, Recall: {recall_xgb}, F1-Score: {f1_xgb}')\n"
      ],
      "metadata": {
        "colab": {
          "base_uri": "https://localhost:8080/"
        },
        "id": "Z9pno_c6uYyW",
        "outputId": "2fc07560-244a-4cf9-e4a1-a3326e73ebae"
      },
      "execution_count": null,
      "outputs": [
        {
          "output_type": "stream",
          "name": "stdout",
          "text": [
            "XGBoost - Precisión: 0.6912277872784032, Exactitud: 0.689494354442808, Recall: 0.6893807658835669, F1-Score: 0.6887061548489377\n"
          ]
        }
      ]
    },
    {
      "cell_type": "markdown",
      "source": [
        "## **3.6. ENTRENAMIENTO CON MLP- MULTILAYER PERCEPTRON**"
      ],
      "metadata": {
        "id": "4xF69B5OxhPH"
      }
    },
    {
      "cell_type": "code",
      "source": [
        "from sklearn.neural_network import MLPClassifier\n",
        "\n",
        "# Entrenar el modelo MLP\n",
        "mlp_model = MLPClassifier(hidden_layer_sizes=(50, 30), max_iter=500, random_state=42)\n",
        "mlp_model.fit(X_train, y_train_class)\n",
        "\n",
        "# Predicciones\n",
        "y_pred_mlp = mlp_model.predict(X_test)\n",
        "\n",
        "# Evaluación\n",
        "precision_mlp = precision_score(y_test_class, y_pred_mlp, average='macro')\n",
        "accuracy_mlp = accuracy_score(y_test_class, y_pred_mlp)\n",
        "recall_mlp = recall_score(y_test_class, y_pred_mlp, average='macro')\n",
        "f1_mlp = f1_score(y_test_class, y_pred_mlp, average='macro')\n",
        "\n",
        "print(f'MLP - Precisión: {precision_mlp}, Exactitud: {accuracy_mlp}, Recall: {recall_mlp}, F1-Score: {f1_mlp}')\n"
      ],
      "metadata": {
        "colab": {
          "base_uri": "https://localhost:8080/"
        },
        "id": "1SFQ_QBKugqQ",
        "outputId": "57947b6d-45b0-469c-8c85-f055138b7f04"
      },
      "execution_count": null,
      "outputs": [
        {
          "output_type": "stream",
          "name": "stdout",
          "text": [
            "MLP - Precisión: 0.5466490637275143, Exactitud: 0.5349779086892489, Recall: 0.5355469008123764, F1-Score: 0.5058571240617811\n"
          ]
        }
      ]
    },
    {
      "cell_type": "markdown",
      "source": [
        "## **3.7. ENTRENAMIENTO CON LSTM- LONG SHORT TERM MEMORY**"
      ],
      "metadata": {
        "id": "sKt6tkcZr59-"
      }
    },
    {
      "cell_type": "code",
      "source": [
        "import numpy as np\n",
        "from tensorflow.keras.models import Sequential\n",
        "from tensorflow.keras.layers import LSTM, Dense\n",
        "from tensorflow.keras.preprocessing.sequence import pad_sequences\n",
        "from tensorflow.keras.utils import to_categorical\n",
        "\n",
        "# Reestructurar los datos para LSTM (expandir dimensiones)\n",
        "X_train_lstm = np.expand_dims(X_train, axis=1)\n",
        "X_test_lstm = np.expand_dims(X_test, axis=1)\n",
        "\n",
        "# Convertir la variable de salida en categorías\n",
        "y_train_cat = to_categorical(y_train_class)\n",
        "y_test_cat = to_categorical(y_test_class)\n",
        "\n",
        "# Definir el modelo LSTM\n",
        "lstm_model = Sequential()\n",
        "lstm_model.add(LSTM(50, input_shape=(X_train_lstm.shape[1], X_train_lstm.shape[2])))\n",
        "lstm_model.add(Dense(2, activation='softmax'))\n",
        "\n",
        "lstm_model.compile(loss='categorical_crossentropy', optimizer='adam', metrics=['accuracy'])\n",
        "\n",
        "# Entrenar el modelo LSTM\n",
        "lstm_model.fit(X_train_lstm, y_train_cat, epochs=10, batch_size=32, verbose=1)\n",
        "\n",
        "# Evaluar en el conjunto de prueba\n",
        "loss, accuracy_lstm = lstm_model.evaluate(X_test_lstm, y_test_cat)\n",
        "print(f'LSTM - Precisión: {accuracy_lstm}')\n"
      ],
      "metadata": {
        "colab": {
          "base_uri": "https://localhost:8080/"
        },
        "id": "-m4KeIYJunF6",
        "outputId": "d8f40c15-909e-44e2-be0e-101c3b91e6ee"
      },
      "execution_count": null,
      "outputs": [
        {
          "output_type": "stream",
          "name": "stdout",
          "text": [
            "Epoch 1/10\n",
            "\u001b[1m2037/2037\u001b[0m \u001b[32m━━━━━━━━━━━━━━━━━━━━\u001b[0m\u001b[37m\u001b[0m \u001b[1m13s\u001b[0m 5ms/step - accuracy: 0.5919 - loss: 0.6442\n",
            "Epoch 2/10\n",
            "\u001b[1m2037/2037\u001b[0m \u001b[32m━━━━━━━━━━━━━━━━━━━━\u001b[0m\u001b[37m\u001b[0m \u001b[1m8s\u001b[0m 4ms/step - accuracy: 0.5938 - loss: 0.6405\n",
            "Epoch 3/10\n",
            "\u001b[1m2037/2037\u001b[0m \u001b[32m━━━━━━━━━━━━━━━━━━━━\u001b[0m\u001b[37m\u001b[0m \u001b[1m10s\u001b[0m 4ms/step - accuracy: 0.5916 - loss: 0.6382\n",
            "Epoch 4/10\n",
            "\u001b[1m2037/2037\u001b[0m \u001b[32m━━━━━━━━━━━━━━━━━━━━\u001b[0m\u001b[37m\u001b[0m \u001b[1m6s\u001b[0m 3ms/step - accuracy: 0.5975 - loss: 0.6380\n",
            "Epoch 5/10\n",
            "\u001b[1m2037/2037\u001b[0m \u001b[32m━━━━━━━━━━━━━━━━━━━━\u001b[0m\u001b[37m\u001b[0m \u001b[1m10s\u001b[0m 3ms/step - accuracy: 0.5921 - loss: 0.6399\n",
            "Epoch 6/10\n",
            "\u001b[1m2037/2037\u001b[0m \u001b[32m━━━━━━━━━━━━━━━━━━━━\u001b[0m\u001b[37m\u001b[0m \u001b[1m5s\u001b[0m 2ms/step - accuracy: 0.5951 - loss: 0.6394\n",
            "Epoch 7/10\n",
            "\u001b[1m2037/2037\u001b[0m \u001b[32m━━━━━━━━━━━━━━━━━━━━\u001b[0m\u001b[37m\u001b[0m \u001b[1m6s\u001b[0m 3ms/step - accuracy: 0.5979 - loss: 0.6391\n",
            "Epoch 8/10\n",
            "\u001b[1m2037/2037\u001b[0m \u001b[32m━━━━━━━━━━━━━━━━━━━━\u001b[0m\u001b[37m\u001b[0m \u001b[1m5s\u001b[0m 3ms/step - accuracy: 0.5933 - loss: 0.6389\n",
            "Epoch 9/10\n",
            "\u001b[1m2037/2037\u001b[0m \u001b[32m━━━━━━━━━━━━━━━━━━━━\u001b[0m\u001b[37m\u001b[0m \u001b[1m11s\u001b[0m 3ms/step - accuracy: 0.5994 - loss: 0.6379\n",
            "Epoch 10/10\n",
            "\u001b[1m2037/2037\u001b[0m \u001b[32m━━━━━━━━━━━━━━━━━━━━\u001b[0m\u001b[37m\u001b[0m \u001b[1m5s\u001b[0m 2ms/step - accuracy: 0.5941 - loss: 0.6403\n",
            "\u001b[1m510/510\u001b[0m \u001b[32m━━━━━━━━━━━━━━━━━━━━\u001b[0m\u001b[37m\u001b[0m \u001b[1m1s\u001b[0m 1ms/step - accuracy: 0.5998 - loss: 0.6373\n",
            "LSTM - Precisión: 0.6020495891571045\n"
          ]
        }
      ]
    },
    {
      "cell_type": "markdown",
      "source": [
        "## **3.7. PREDICCIONES**"
      ],
      "metadata": {
        "id": "vUjCDU5GS5Cw"
      }
    },
    {
      "cell_type": "code",
      "source": [
        "# Predicciones del Árbol de Decisión para la tarea de Regresión\n",
        "y_pred_tree_reg = tree_reg_model.predict(X_test_scaled)\n",
        "\n",
        "# Mostrar algunas predicciones\n",
        "print(\"Árbol de Decisión - Predicciones (Regresión)\")\n",
        "print(y_pred_tree_reg[:10])  # Mostrar las primeras 10 predicciones\n"
      ],
      "metadata": {
        "colab": {
          "base_uri": "https://localhost:8080/"
        },
        "id": "TI2QjI4xUuIS",
        "outputId": "f1b4c6dd-6c18-473b-f836-edc83366c7af"
      },
      "execution_count": null,
      "outputs": [
        {
          "output_type": "stream",
          "name": "stdout",
          "text": [
            "Árbol de Decisión - Predicciones (Regresión)\n",
            "[[142.    46.15]\n",
            " [139.    52.05]\n",
            " [122.    82.73]\n",
            " [135.    80.44]\n",
            " [139.    87.45]\n",
            " [135.    81.55]\n",
            " [135.    78.08]\n",
            " [139.    46.15]\n",
            " [139.    93.35]\n",
            " [135.    79.19]]\n"
          ]
        }
      ]
    },
    {
      "cell_type": "code",
      "source": [
        "# Predicciones de KNN para la tarea de Regresión\n",
        "y_pred_knn_reg = knn_reg_model.predict(X_test_scaled)\n",
        "\n",
        "# Mostrar algunas predicciones\n",
        "print(\"KNN - Predicciones (Regresión)\")\n",
        "print(y_pred_knn_reg[:10])  # Mostrar las primeras 10 predicciones\n"
      ],
      "metadata": {
        "colab": {
          "base_uri": "https://localhost:8080/"
        },
        "id": "YgIGtME1U6Cm",
        "outputId": "f49bbc6a-dfc8-4532-c37f-222b0efe6a45"
      },
      "execution_count": null,
      "outputs": [
        {
          "output_type": "stream",
          "name": "stdout",
          "text": [
            "KNN - Predicciones (Regresión)\n",
            "[[142.     46.15 ]\n",
            " [139.     52.05 ]\n",
            " [122.     82.494]\n",
            " [135.4    80.44 ]\n",
            " [139.     87.45 ]\n",
            " [135.4    81.55 ]\n",
            " [135.     78.08 ]\n",
            " [139.     46.15 ]\n",
            " [139.     93.35 ]\n",
            " [135.2    77.766]]\n"
          ]
        }
      ]
    },
    {
      "cell_type": "code",
      "source": [
        "# Predicciones de Naive Bayes para la tarea de Clasificación\n",
        "y_pred_nb_class = nb_model.predict(X_test_scaled)\n",
        "\n",
        "# Mostrar algunas predicciones\n",
        "print(\"Naive Bayes - Predicciones (Clasificación)\")\n",
        "print(y_pred_nb_class[:10])  # Mostrar las primeras 10 predicciones\n"
      ],
      "metadata": {
        "colab": {
          "base_uri": "https://localhost:8080/"
        },
        "id": "sMYftu0JU79d",
        "outputId": "1e79f063-6b7e-469d-ec43-4a208bd84060"
      },
      "execution_count": null,
      "outputs": [
        {
          "output_type": "stream",
          "name": "stdout",
          "text": [
            "Naive Bayes - Predicciones (Clasificación)\n",
            "[1 1 3 1 3 2 2 1 1 2]\n"
          ]
        }
      ]
    },
    {
      "cell_type": "code",
      "source": [
        "# Predicciones de AdaBoost para la tarea de Clasificación\n",
        "y_pred_ada_class = ada_boost_model.predict(X_test_scaled)\n",
        "\n",
        "# Mostrar algunas predicciones\n",
        "print(\"AdaBoost - Predicciones (Clasificación)\")\n",
        "print(y_pred_ada_class[:10])  # Mostrar las primeras 10 predicciones\n"
      ],
      "metadata": {
        "colab": {
          "base_uri": "https://localhost:8080/"
        },
        "id": "XIctN2xSU9id",
        "outputId": "c4c22d91-7b48-4d5a-8fe0-2978e5b5e465"
      },
      "execution_count": null,
      "outputs": [
        {
          "output_type": "stream",
          "name": "stdout",
          "text": [
            "AdaBoost - Predicciones (Clasificación)\n",
            "[1 1 1 1 1 2 2 1 1 2]\n"
          ]
        }
      ]
    },
    {
      "cell_type": "code",
      "source": [
        "# Predicciones de XGBoost para la tarea de Clasificación\n",
        "y_pred_xgb_class = xgb_model.predict(X_test_scaled)\n",
        "\n",
        "# Mostrar algunas predicciones\n",
        "print(\"XGBoost - Predicciones (Clasificación)\")\n",
        "print(y_pred_xgb_class[:10])  # Mostrar las primeras 10 predicciones\n"
      ],
      "metadata": {
        "colab": {
          "base_uri": "https://localhost:8080/"
        },
        "id": "WeZDg9OzU_TZ",
        "outputId": "62d4c154-d051-41c4-a8da-e48c229cec45"
      },
      "execution_count": null,
      "outputs": [
        {
          "output_type": "stream",
          "name": "stdout",
          "text": [
            "XGBoost - Predicciones (Clasificación)\n",
            "[1 1 3 3 3 2 2 1 1 2]\n"
          ]
        }
      ]
    },
    {
      "cell_type": "code",
      "source": [
        "# Predicciones de MLP para la tarea de Clasificación\n",
        "y_pred_mlp_class = mlp_model.predict(X_test_scaled)\n",
        "\n",
        "# Mostrar algunas predicciones\n",
        "print(\"MLP - Predicciones (Clasificación)\")\n",
        "print(y_pred_mlp_class[:10])  # Mostrar las primeras 10 predicciones\n"
      ],
      "metadata": {
        "colab": {
          "base_uri": "https://localhost:8080/"
        },
        "id": "IkojUFLeVA-Z",
        "outputId": "d97db74d-d004-42cc-cc3a-ec4d85048afe"
      },
      "execution_count": null,
      "outputs": [
        {
          "output_type": "stream",
          "name": "stdout",
          "text": [
            "MLP - Predicciones (Clasificación)\n",
            "[1 1 3 3 3 2 2 1 1 2]\n"
          ]
        }
      ]
    },
    {
      "cell_type": "code",
      "source": [
        "# Predicciones de LSTM para la tarea de Clasificación\n",
        "y_pred_lstm_class = lstm_model.predict(X_test_lstm)\n",
        "\n",
        "# Umbral de predicción (0.5) para convertir en etiquetas binarias\n",
        "y_pred_lstm_class = (y_pred_lstm_class > 0.5).astype(int)\n",
        "\n",
        "# Mostrar algunas predicciones\n",
        "print(\"LSTM - Predicciones (Clasificación)\")\n",
        "print(y_pred_lstm_class[:10])  # Mostrar las primeras 10 predicciones\n"
      ],
      "metadata": {
        "colab": {
          "base_uri": "https://localhost:8080/"
        },
        "id": "PG-GAQToVD2V",
        "outputId": "3e69db92-b2b5-4267-9b02-3a48b570054d"
      },
      "execution_count": null,
      "outputs": [
        {
          "output_type": "stream",
          "name": "stdout",
          "text": [
            "\u001b[1m164/164\u001b[0m \u001b[32m━━━━━━━━━━━━━━━━━━━━\u001b[0m\u001b[37m\u001b[0m \u001b[1m0s\u001b[0m 2ms/step\n",
            "LSTM - Predicciones (Clasificación)\n",
            "[[1]\n",
            " [1]\n",
            " [1]\n",
            " [1]\n",
            " [1]\n",
            " [1]\n",
            " [1]\n",
            " [1]\n",
            " [1]\n",
            " [1]]\n"
          ]
        }
      ]
    },
    {
      "cell_type": "markdown",
      "source": [
        "# **4. COMPARACION DE RESULTADOS**"
      ],
      "metadata": {
        "id": "GFZ1nhv2xz6o"
      }
    },
    {
      "cell_type": "code",
      "source": [
        "import matplotlib.pyplot as plt\n",
        "import pandas as pd\n",
        "from sklearn.metrics import roc_curve, auc, precision_score, accuracy_score, recall_score, f1_score\n",
        "from sklearn.metrics import roc_auc_score\n",
        "\n",
        "# Diccionario para almacenar los resultados de cada modelo\n",
        "resultados = {}\n",
        "\n",
        "# Definir una función para evaluar y almacenar las métricas\n",
        "def evaluar_modelo(modelo, X_test, y_test, nombre_modelo):\n",
        "    # Predecir las clases y probabilidades\n",
        "    y_pred = modelo.predict(X_test)\n",
        "    if hasattr(modelo, \"predict_proba\"):\n",
        "        y_prob = modelo.predict_proba(X_test)[:, 1]  # Probabilidad de la clase positiva\n",
        "    else:\n",
        "        y_prob = y_pred  # Para modelos que no tienen `predict_proba`, usamos las predicciones\n",
        "\n",
        "    # Calcular las métricas\n",
        "    precision = precision_score(y_test_class, y_pred, average='macro')\n",
        "    accuracy = accuracy_score(y_test_class, y_pred)\n",
        "    recall = recall_score(y_test_class, y_pred, average='macro')\n",
        "    f1 = f1_score(y_test_class, y_pred, average='macro')\n",
        "    auc_score = roc_auc_score(y_test_class, y_prob)\n",
        "\n",
        "    # Guardar los resultados\n",
        "    resultados[nombre_modelo] = {\n",
        "        \"Precisión\": precision,\n",
        "        \"Exactitud\": accuracy,\n",
        "        \"Recall\": recall,\n",
        "        \"F1-Score\": f1,\n",
        "        \"AUC\": auc_score\n",
        "    }\n",
        "\n",
        "# Aplicar la función a cada modelo\n",
        "evaluar_modelo(dt_model, X_test, y_test_class, \"Árbol de Decisión\")\n",
        "evaluar_modelo(knn_model, X_test, y_test_class, \"K-Vecinos Más Cercanos (KNN)\")\n",
        "evaluar_modelo(ada_model, X_test, y_test_class, \"AdaBoost\")\n",
        "evaluar_modelo(xgb_model, X_test, y_test_class, \"XGBoost\")\n",
        "evaluar_modelo(nb_model, X_test, y_test_class, \"Naive Bayes\")\n",
        "evaluar_modelo(mlp_model, X_test, y_test_class, \"MLP\")\n",
        "\n",
        "# Convertir los resultados en un DataFrame de pandas\n",
        "resultados_df = pd.DataFrame(resultados).T  # La T es para transponer y que los modelos sean las filas\n",
        "resultados_df = resultados_df.sort_values(by=\"AUC\", ascending=False)  # Ordenar por AUC (opcional)\n",
        "\n",
        "# Mostrar la tabla de resultados\n",
        "print(resultados_df)\n",
        "\n",
        "# Si deseas graficar los resultados en forma de barras (opcional):\n",
        "resultados_df[['Precisión', 'Exactitud', 'Recall', 'F1-Score', 'AUC']].plot(kind='bar', figsize=(10, 6))\n",
        "plt.title(\"Resultados de los Modelos\")\n",
        "plt.ylabel(\"Valor de la métrica\")\n",
        "plt.xlabel(\"Modelo\")\n",
        "plt.xticks(rotation=45)\n",
        "plt.tight_layout()\n",
        "plt.show()\n"
      ],
      "metadata": {
        "colab": {
          "base_uri": "https://localhost:8080/",
          "height": 839
        },
        "id": "loUrb1izvIR8",
        "outputId": "b9c0cf75-7a59-4e95-bcf9-6cf316ec35c3"
      },
      "execution_count": null,
      "outputs": [
        {
          "output_type": "stream",
          "name": "stdout",
          "text": [
            "                              Precisión  Exactitud    Recall  F1-Score  \\\n",
            "XGBoost                        0.691228   0.689494  0.689381  0.688706   \n",
            "K-Vecinos Más Cercanos (KNN)   0.644459   0.644391  0.644362  0.644320   \n",
            "AdaBoost                       0.640282   0.632364  0.632083  0.626804   \n",
            "Árbol de Decisión              0.638964   0.637887  0.637985  0.637283   \n",
            "MLP                            0.546649   0.534978  0.535547  0.505857   \n",
            "Naive Bayes                    0.747545   0.594256  0.593337  0.518885   \n",
            "\n",
            "                                   AUC  \n",
            "XGBoost                       0.776531  \n",
            "K-Vecinos Más Cercanos (KNN)  0.718431  \n",
            "AdaBoost                      0.691073  \n",
            "Árbol de Decisión             0.684194  \n",
            "MLP                           0.618093  \n",
            "Naive Bayes                   0.587188  \n"
          ]
        },
        {
          "output_type": "display_data",
          "data": {
            "text/plain": [
              "<Figure size 1000x600 with 1 Axes>"
            ],
            "image/png": "[encoded data removed]"
          },
          "metadata": {}
        }
      ]
    },
    {
      "cell_type": "code",
      "source": [
        "import matplotlib.pyplot as plt\n",
        "\n",
        "\n",
        "# Create the line plot\n",
        "plt.figure(figsize=(10, 6))\n",
        "for metric in ['Precisión', 'Exactitud', 'Recall', 'F1-Score', 'AUC']:\n",
        "    plt.plot(resultados_df.index, resultados_df[metric], label=metric, marker='o')\n",
        "\n",
        "plt.title('Rendimiento de los Modelos')\n",
        "plt.xlabel('Modelo')\n",
        "plt.ylabel('Valor de la métrica')\n",
        "plt.xticks(rotation=45, ha='right')  # Rotate x-axis labels for better readability\n",
        "plt.legend()\n",
        "plt.grid(True)\n",
        "plt.tight_layout()\n",
        "plt.show()"
      ],
      "metadata": {
        "colab": {
          "base_uri": "https://localhost:8080/",
          "height": 578
        },
        "id": "VhaNtaULyoXS",
        "outputId": "403e3e14-55bf-48c5-8c7e-d27aabbafd60"
      },
      "execution_count": null,
      "outputs": [
        {
          "output_type": "display_data",
          "data": {
            "text/plain": [
              "<Figure size 1000x600 with 1 Axes>"
            ],
            "image/png": "[encoded data removed]"
          },
          "metadata": {}
        }
      ]
    }
  ]
}